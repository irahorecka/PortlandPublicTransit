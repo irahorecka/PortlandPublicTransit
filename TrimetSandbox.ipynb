{
 "cells": [
  {
   "cell_type": "code",
   "execution_count": 6,
   "metadata": {},
   "outputs": [],
   "source": [
    "import os\n",
    "\n",
    "trimet_key = os.environ.get(\"TRIMET_KEY\")\n",
    "rt_data = f\"https://developer.trimet.org/ws/v2/vehicles/appID={trimet_key}\""
   ]
  },
  {
   "cell_type": "code",
   "execution_count": 7,
   "metadata": {},
   "outputs": [],
   "source": [
    "import csv\n",
    "import time\n",
    "import requests\n",
    "import datetime\n",
    "\n",
    "# interesting columns:\n",
    "# latitude, longitude, type, bearing, garage, panic, delay (+, early : -, late)\n",
    "# look at bokeh.models.marker.Triangle.angle for angle rotation (takes degrees)\n",
    "\n",
    "keys = [\"latitude\", \"longitude\", \"type\", \"bearing\", \"panic\", \"delay\", \"datetime\"]\n"
   ]
  },
  {
   "cell_type": "code",
   "execution_count": 8,
   "metadata": {},
   "outputs": [
    {
     "ename": "KeyboardInterrupt",
     "evalue": "",
     "output_type": "error",
     "traceback": [
      "\u001b[0;31m---------------------------------------------------------------------------\u001b[0m",
      "\u001b[0;31mKeyboardInterrupt\u001b[0m                         Traceback (most recent call last)",
      "\u001b[0;32m<ipython-input-8-71aebd3a9935>\u001b[0m in \u001b[0;36m<module>\u001b[0;34m\u001b[0m\n\u001b[1;32m     24\u001b[0m         \u001b[0mwr\u001b[0m\u001b[0;34m.\u001b[0m\u001b[0mwriterows\u001b[0m\u001b[0;34m(\u001b[0m\u001b[0mresult\u001b[0m\u001b[0;34m)\u001b[0m\u001b[0;34m\u001b[0m\u001b[0;34m\u001b[0m\u001b[0m\n\u001b[1;32m     25\u001b[0m \u001b[0;34m\u001b[0m\u001b[0m\n\u001b[0;32m---> 26\u001b[0;31m     \u001b[0mtime\u001b[0m\u001b[0;34m.\u001b[0m\u001b[0msleep\u001b[0m\u001b[0;34m(\u001b[0m\u001b[0;36m10\u001b[0m\u001b[0;34m)\u001b[0m\u001b[0;34m\u001b[0m\u001b[0;34m\u001b[0m\u001b[0m\n\u001b[0m",
      "\u001b[0;31mKeyboardInterrupt\u001b[0m: "
     ]
    }
   ],
   "source": [
    "while True:\n",
    "    datetime_now = datetime.datetime.now()\n",
    "    response = requests.get(rt_data)\n",
    "    jresponse = response.json()\n",
    "\n",
    "    result = [\n",
    "        [\n",
    "            bus[\"latitude\"],\n",
    "            bus[\"longitude\"],\n",
    "            bus[\"type\"],\n",
    "            bus[\"bearing\"],\n",
    "            bus[\"panic\"],\n",
    "            bus[\"delay\"],\n",
    "            datetime_now,\n",
    "        ]\n",
    "        for bus in jresponse[\"resultSet\"][\"vehicle\"]\n",
    "    ]\n",
    "    result.insert(0, keys)\n",
    "\n",
    "    with open(\n",
    "        \"triMetData.csv\", \"a\", newline=\"\"\n",
    "    ) as myfile:  # 'a' is to append to existing csv file\n",
    "        wr = csv.writer(myfile, quoting=csv.QUOTE_ALL)\n",
    "        wr.writerows(result)\n",
    "    \n",
    "    time.sleep(10)"
   ]
  },
  {
   "cell_type": "code",
   "execution_count": 45,
   "metadata": {},
   "outputs": [],
   "source": [
    "\n",
    "\n",
    "\n"
   ]
  },
  {
   "cell_type": "code",
   "execution_count": 5,
   "metadata": {},
   "outputs": [],
   "source": [
    "%%bash\n",
    "rm triMetData.csv"
   ]
  },
  {
   "cell_type": "code",
   "execution_count": null,
   "metadata": {},
   "outputs": [],
   "source": []
  }
 ],
 "metadata": {
  "kernelspec": {
   "display_name": "Python 3",
   "language": "python",
   "name": "python3"
  },
  "language_info": {
   "codemirror_mode": {
    "name": "ipython",
    "version": 3
   },
   "file_extension": ".py",
   "mimetype": "text/x-python",
   "name": "python",
   "nbconvert_exporter": "python",
   "pygments_lexer": "ipython3",
   "version": "3.7.4"
  }
 },
 "nbformat": 4,
 "nbformat_minor": 4
}
