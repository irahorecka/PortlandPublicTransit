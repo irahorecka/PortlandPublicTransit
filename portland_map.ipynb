{
 "cells": [
  {
   "cell_type": "code",
   "execution_count": 136,
   "metadata": {},
   "outputs": [],
   "source": [
    "import datetime\n",
    "import math\n",
    "import os\n",
    "import time\n",
    "import pandas as pd\n",
    "BASE_DIR = os.path.abspath('')\n"
   ]
  },
  {
   "cell_type": "code",
   "execution_count": 2,
   "metadata": {},
   "outputs": [],
   "source": [
    "\"\"\"\n",
    "A function to convert standard latitude\n",
    "and longitude coordinates to a mercator\n",
    "coordinate system\n",
    "\"\"\"\n",
    "def mercator(lat, lon):\n",
    "    r_major = 6378137.000\n",
    "    merc_lon = r_major * math.radians(lon)\n",
    "    try:\n",
    "        scale = merc_lon/lon\n",
    "    except ZeroDivisionError:\n",
    "        return None\n",
    "    merc_lat = 180.0/math.pi * math.log(math.tan(math.pi/4.0 + lat * (math.pi/180.0)/2.0)) * scale\n",
    "\n",
    "    return (merc_lat, merc_lon)\n"
   ]
  },
  {
   "cell_type": "code",
   "execution_count": 3,
   "metadata": {},
   "outputs": [],
   "source": [
    "map_dimension = {\n",
    "    'portland_big': {\n",
    "        'lat_range': (-13665127.619454736, -13644858.232612623),\n",
    "        'lon_range': (5696480.836269927, 5710927.521886856)\n",
    "    }\n",
    "}\n"
   ]
  },
  {
   "cell_type": "code",
   "execution_count": 4,
   "metadata": {},
   "outputs": [
    {
     "name": "stderr",
     "output_type": "stream",
     "text": [
      "BokehDeprecationWarning: CARTODBPOSITRON was deprecated in Bokeh 1.1.0 and will be removed, use get_provider(Vendors.CARTODBPOSITRON) instead.\n"
     ]
    }
   ],
   "source": [
    "from bokeh.plotting import figure, show, output_notebook\n",
    "from bokeh.models.annotations import Title\n",
    "from bokeh.tile_providers import CARTODBPOSITRON\n",
    "from bokeh.io import export_png\n",
    "\n",
    "\"\"\"\n",
    "A function to plot mercator coordinates over\n",
    "Portland map. Alter point alpha and color\n",
    "to your desire.\n",
    "\"\"\"\n",
    "def plot_bokeh(x_list, y_list, count): \n",
    "    # Set map boundaries (mercator) and axis type\n",
    "    fig_map = map_dimension['portland_big']\n",
    "    p = figure(x_range=fig_map['lat_range'],\n",
    "               y_range=fig_map['lon_range'],\n",
    "               x_axis_type=\"mercator\", y_axis_type=\"mercator\")\n",
    "    \n",
    "    # Tile Source for CartoDB Tile Service\n",
    "    p.add_tile(CARTODBPOSITRON)\n",
    "    # Set styling for Metro bus coordinate   \n",
    "#     p.square(x=y_list[1],\n",
    "#              y=x_list[1],\n",
    "#              color='blue',\n",
    "#              fill_alpha=0.01)\n",
    "    \n",
    "    p.triangle(x=y_list,\n",
    "             y=x_list,\n",
    "             color='blue',\n",
    "             size=5,\n",
    "             fill_alpha=.1)\n",
    "\n",
    "    \n",
    "    # Set chart title - date + time\n",
    "    title = Title()\n",
    "    title.text = f\"AC Transit Buses - {datetime.datetime.now().strftime('%m/%d/%Y  %H:%M')}\"\n",
    "    p.title = title\n",
    "    \n",
    "    # For displaying map in notebook - comment out to avoid cluttering\n",
    "    output_notebook()\n",
    "    show(p)\n",
    "    \n",
    "    # Export as .png\n",
    "#     export_png(p, filename=\"plot{}.png\".format(count))\n",
    "    "
   ]
  },
  {
   "cell_type": "code",
   "execution_count": 5,
   "metadata": {},
   "outputs": [
    {
     "ename": "TypeError",
     "evalue": "plot_bokeh() missing 2 required positional arguments: 'y_list' and 'count'",
     "output_type": "error",
     "traceback": [
      "\u001b[0;31m---------------------------------------------------------------------------\u001b[0m",
      "\u001b[0;31mTypeError\u001b[0m                                 Traceback (most recent call last)",
      "\u001b[0;32m<ipython-input-5-8fc70c1b2710>\u001b[0m in \u001b[0;36m<module>\u001b[0;34m\u001b[0m\n\u001b[0;32m----> 1\u001b[0;31m \u001b[0mplot_bokeh\u001b[0m\u001b[0;34m(\u001b[0m\u001b[0;36m1\u001b[0m\u001b[0;34m)\u001b[0m\u001b[0;34m\u001b[0m\u001b[0;34m\u001b[0m\u001b[0m\n\u001b[0m",
      "\u001b[0;31mTypeError\u001b[0m: plot_bokeh() missing 2 required positional arguments: 'y_list' and 'count'"
     ]
    }
   ],
   "source": [
    "plot_bokeh(1)"
   ]
  },
  {
   "cell_type": "code",
   "execution_count": 188,
   "metadata": {},
   "outputs": [],
   "source": [
    "csv_file=pd.read_csv(\"triMetData.csv\")"
   ]
  },
  {
   "cell_type": "code",
   "execution_count": 189,
   "metadata": {},
   "outputs": [],
   "source": [
    "a,b=mercator(float(csv_file.latitude[0]),float(csv_file.longitude[0]))"
   ]
  },
  {
   "cell_type": "code",
   "execution_count": 190,
   "metadata": {},
   "outputs": [],
   "source": [
    "x=(mercator(float(i),float(j)) for i,j in (csv_file.latitude, csv_file.longitude))"
   ]
  },
  {
   "cell_type": "code",
   "execution_count": 191,
   "metadata": {},
   "outputs": [
    {
     "data": {
      "text/html": [
       "\n",
       "    <div class=\"bk-root\">\n",
       "        <a href=\"https://bokeh.pydata.org\" target=\"_blank\" class=\"bk-logo bk-logo-small bk-logo-notebook\"></a>\n",
       "        <span id=\"22071\">Loading BokehJS ...</span>\n",
       "    </div>"
      ]
     },
     "metadata": {},
     "output_type": "display_data"
    },
    {
     "data": {
      "application/javascript": [
       "\n",
       "(function(root) {\n",
       "  function now() {\n",
       "    return new Date();\n",
       "  }\n",
       "\n",
       "  var force = true;\n",
       "\n",
       "  if (typeof root._bokeh_onload_callbacks === \"undefined\" || force === true) {\n",
       "    root._bokeh_onload_callbacks = [];\n",
       "    root._bokeh_is_loading = undefined;\n",
       "  }\n",
       "\n",
       "  var JS_MIME_TYPE = 'application/javascript';\n",
       "  var HTML_MIME_TYPE = 'text/html';\n",
       "  var EXEC_MIME_TYPE = 'application/vnd.bokehjs_exec.v0+json';\n",
       "  var CLASS_NAME = 'output_bokeh rendered_html';\n",
       "\n",
       "  /**\n",
       "   * Render data to the DOM node\n",
       "   */\n",
       "  function render(props, node) {\n",
       "    var script = document.createElement(\"script\");\n",
       "    node.appendChild(script);\n",
       "  }\n",
       "\n",
       "  /**\n",
       "   * Handle when an output is cleared or removed\n",
       "   */\n",
       "  function handleClearOutput(event, handle) {\n",
       "    var cell = handle.cell;\n",
       "\n",
       "    var id = cell.output_area._bokeh_element_id;\n",
       "    var server_id = cell.output_area._bokeh_server_id;\n",
       "    // Clean up Bokeh references\n",
       "    if (id != null && id in Bokeh.index) {\n",
       "      Bokeh.index[id].model.document.clear();\n",
       "      delete Bokeh.index[id];\n",
       "    }\n",
       "\n",
       "    if (server_id !== undefined) {\n",
       "      // Clean up Bokeh references\n",
       "      var cmd = \"from bokeh.io.state import curstate; print(curstate().uuid_to_server['\" + server_id + \"'].get_sessions()[0].document.roots[0]._id)\";\n",
       "      cell.notebook.kernel.execute(cmd, {\n",
       "        iopub: {\n",
       "          output: function(msg) {\n",
       "            var id = msg.content.text.trim();\n",
       "            if (id in Bokeh.index) {\n",
       "              Bokeh.index[id].model.document.clear();\n",
       "              delete Bokeh.index[id];\n",
       "            }\n",
       "          }\n",
       "        }\n",
       "      });\n",
       "      // Destroy server and session\n",
       "      var cmd = \"import bokeh.io.notebook as ion; ion.destroy_server('\" + server_id + \"')\";\n",
       "      cell.notebook.kernel.execute(cmd);\n",
       "    }\n",
       "  }\n",
       "\n",
       "  /**\n",
       "   * Handle when a new output is added\n",
       "   */\n",
       "  function handleAddOutput(event, handle) {\n",
       "    var output_area = handle.output_area;\n",
       "    var output = handle.output;\n",
       "\n",
       "    // limit handleAddOutput to display_data with EXEC_MIME_TYPE content only\n",
       "    if ((output.output_type != \"display_data\") || (!output.data.hasOwnProperty(EXEC_MIME_TYPE))) {\n",
       "      return\n",
       "    }\n",
       "\n",
       "    var toinsert = output_area.element.find(\".\" + CLASS_NAME.split(' ')[0]);\n",
       "\n",
       "    if (output.metadata[EXEC_MIME_TYPE][\"id\"] !== undefined) {\n",
       "      toinsert[toinsert.length - 1].firstChild.textContent = output.data[JS_MIME_TYPE];\n",
       "      // store reference to embed id on output_area\n",
       "      output_area._bokeh_element_id = output.metadata[EXEC_MIME_TYPE][\"id\"];\n",
       "    }\n",
       "    if (output.metadata[EXEC_MIME_TYPE][\"server_id\"] !== undefined) {\n",
       "      var bk_div = document.createElement(\"div\");\n",
       "      bk_div.innerHTML = output.data[HTML_MIME_TYPE];\n",
       "      var script_attrs = bk_div.children[0].attributes;\n",
       "      for (var i = 0; i < script_attrs.length; i++) {\n",
       "        toinsert[toinsert.length - 1].firstChild.setAttribute(script_attrs[i].name, script_attrs[i].value);\n",
       "      }\n",
       "      // store reference to server id on output_area\n",
       "      output_area._bokeh_server_id = output.metadata[EXEC_MIME_TYPE][\"server_id\"];\n",
       "    }\n",
       "  }\n",
       "\n",
       "  function register_renderer(events, OutputArea) {\n",
       "\n",
       "    function append_mime(data, metadata, element) {\n",
       "      // create a DOM node to render to\n",
       "      var toinsert = this.create_output_subarea(\n",
       "        metadata,\n",
       "        CLASS_NAME,\n",
       "        EXEC_MIME_TYPE\n",
       "      );\n",
       "      this.keyboard_manager.register_events(toinsert);\n",
       "      // Render to node\n",
       "      var props = {data: data, metadata: metadata[EXEC_MIME_TYPE]};\n",
       "      render(props, toinsert[toinsert.length - 1]);\n",
       "      element.append(toinsert);\n",
       "      return toinsert\n",
       "    }\n",
       "\n",
       "    /* Handle when an output is cleared or removed */\n",
       "    events.on('clear_output.CodeCell', handleClearOutput);\n",
       "    events.on('delete.Cell', handleClearOutput);\n",
       "\n",
       "    /* Handle when a new output is added */\n",
       "    events.on('output_added.OutputArea', handleAddOutput);\n",
       "\n",
       "    /**\n",
       "     * Register the mime type and append_mime function with output_area\n",
       "     */\n",
       "    OutputArea.prototype.register_mime_type(EXEC_MIME_TYPE, append_mime, {\n",
       "      /* Is output safe? */\n",
       "      safe: true,\n",
       "      /* Index of renderer in `output_area.display_order` */\n",
       "      index: 0\n",
       "    });\n",
       "  }\n",
       "\n",
       "  // register the mime type if in Jupyter Notebook environment and previously unregistered\n",
       "  if (root.Jupyter !== undefined) {\n",
       "    var events = require('base/js/events');\n",
       "    var OutputArea = require('notebook/js/outputarea').OutputArea;\n",
       "\n",
       "    if (OutputArea.prototype.mime_types().indexOf(EXEC_MIME_TYPE) == -1) {\n",
       "      register_renderer(events, OutputArea);\n",
       "    }\n",
       "  }\n",
       "\n",
       "  \n",
       "  if (typeof (root._bokeh_timeout) === \"undefined\" || force === true) {\n",
       "    root._bokeh_timeout = Date.now() + 5000;\n",
       "    root._bokeh_failed_load = false;\n",
       "  }\n",
       "\n",
       "  var NB_LOAD_WARNING = {'data': {'text/html':\n",
       "     \"<div style='background-color: #fdd'>\\n\"+\n",
       "     \"<p>\\n\"+\n",
       "     \"BokehJS does not appear to have successfully loaded. If loading BokehJS from CDN, this \\n\"+\n",
       "     \"may be due to a slow or bad network connection. Possible fixes:\\n\"+\n",
       "     \"</p>\\n\"+\n",
       "     \"<ul>\\n\"+\n",
       "     \"<li>re-rerun `output_notebook()` to attempt to load from CDN again, or</li>\\n\"+\n",
       "     \"<li>use INLINE resources instead, as so:</li>\\n\"+\n",
       "     \"</ul>\\n\"+\n",
       "     \"<code>\\n\"+\n",
       "     \"from bokeh.resources import INLINE\\n\"+\n",
       "     \"output_notebook(resources=INLINE)\\n\"+\n",
       "     \"</code>\\n\"+\n",
       "     \"</div>\"}};\n",
       "\n",
       "  function display_loaded() {\n",
       "    var el = document.getElementById(\"22071\");\n",
       "    if (el != null) {\n",
       "      el.textContent = \"BokehJS is loading...\";\n",
       "    }\n",
       "    if (root.Bokeh !== undefined) {\n",
       "      if (el != null) {\n",
       "        el.textContent = \"BokehJS \" + root.Bokeh.version + \" successfully loaded.\";\n",
       "      }\n",
       "    } else if (Date.now() < root._bokeh_timeout) {\n",
       "      setTimeout(display_loaded, 100)\n",
       "    }\n",
       "  }\n",
       "\n",
       "\n",
       "  function run_callbacks() {\n",
       "    try {\n",
       "      root._bokeh_onload_callbacks.forEach(function(callback) {\n",
       "        if (callback != null)\n",
       "          callback();\n",
       "      });\n",
       "    } finally {\n",
       "      delete root._bokeh_onload_callbacks\n",
       "    }\n",
       "    console.debug(\"Bokeh: all callbacks have finished\");\n",
       "  }\n",
       "\n",
       "  function load_libs(css_urls, js_urls, callback) {\n",
       "    if (css_urls == null) css_urls = [];\n",
       "    if (js_urls == null) js_urls = [];\n",
       "\n",
       "    root._bokeh_onload_callbacks.push(callback);\n",
       "    if (root._bokeh_is_loading > 0) {\n",
       "      console.debug(\"Bokeh: BokehJS is being loaded, scheduling callback at\", now());\n",
       "      return null;\n",
       "    }\n",
       "    if (js_urls == null || js_urls.length === 0) {\n",
       "      run_callbacks();\n",
       "      return null;\n",
       "    }\n",
       "    console.debug(\"Bokeh: BokehJS not loaded, scheduling load and callback at\", now());\n",
       "    root._bokeh_is_loading = css_urls.length + js_urls.length;\n",
       "\n",
       "    function on_load() {\n",
       "      root._bokeh_is_loading--;\n",
       "      if (root._bokeh_is_loading === 0) {\n",
       "        console.debug(\"Bokeh: all BokehJS libraries/stylesheets loaded\");\n",
       "        run_callbacks()\n",
       "      }\n",
       "    }\n",
       "\n",
       "    function on_error() {\n",
       "      console.error(\"failed to load \" + url);\n",
       "    }\n",
       "\n",
       "    for (var i = 0; i < css_urls.length; i++) {\n",
       "      var url = css_urls[i];\n",
       "      const element = document.createElement(\"link\");\n",
       "      element.onload = on_load;\n",
       "      element.onerror = on_error;\n",
       "      element.rel = \"stylesheet\";\n",
       "      element.type = \"text/css\";\n",
       "      element.href = url;\n",
       "      console.debug(\"Bokeh: injecting link tag for BokehJS stylesheet: \", url);\n",
       "      document.body.appendChild(element);\n",
       "    }\n",
       "\n",
       "    for (var i = 0; i < js_urls.length; i++) {\n",
       "      var url = js_urls[i];\n",
       "      var element = document.createElement('script');\n",
       "      element.onload = on_load;\n",
       "      element.onerror = on_error;\n",
       "      element.async = false;\n",
       "      element.src = url;\n",
       "      console.debug(\"Bokeh: injecting script tag for BokehJS library: \", url);\n",
       "      document.head.appendChild(element);\n",
       "    }\n",
       "  };var element = document.getElementById(\"22071\");\n",
       "  if (element == null) {\n",
       "    console.error(\"Bokeh: ERROR: autoload.js configured with elementid '22071' but no matching script tag was found. \")\n",
       "    return false;\n",
       "  }\n",
       "\n",
       "  function inject_raw_css(css) {\n",
       "    const element = document.createElement(\"style\");\n",
       "    element.appendChild(document.createTextNode(css));\n",
       "    document.body.appendChild(element);\n",
       "  }\n",
       "\n",
       "  var js_urls = [\"https://cdn.pydata.org/bokeh/release/bokeh-1.3.4.min.js\", \"https://cdn.pydata.org/bokeh/release/bokeh-widgets-1.3.4.min.js\", \"https://cdn.pydata.org/bokeh/release/bokeh-tables-1.3.4.min.js\", \"https://cdn.pydata.org/bokeh/release/bokeh-gl-1.3.4.min.js\"];\n",
       "  var css_urls = [];\n",
       "\n",
       "  var inline_js = [\n",
       "    function(Bokeh) {\n",
       "      Bokeh.set_log_level(\"info\");\n",
       "    },\n",
       "    \n",
       "    function(Bokeh) {\n",
       "      \n",
       "    },\n",
       "    function(Bokeh) {} // ensure no trailing comma for IE\n",
       "  ];\n",
       "\n",
       "  function run_inline_js() {\n",
       "    \n",
       "    if ((root.Bokeh !== undefined) || (force === true)) {\n",
       "      for (var i = 0; i < inline_js.length; i++) {\n",
       "        inline_js[i].call(root, root.Bokeh);\n",
       "      }if (force === true) {\n",
       "        display_loaded();\n",
       "      }} else if (Date.now() < root._bokeh_timeout) {\n",
       "      setTimeout(run_inline_js, 100);\n",
       "    } else if (!root._bokeh_failed_load) {\n",
       "      console.log(\"Bokeh: BokehJS failed to load within specified timeout.\");\n",
       "      root._bokeh_failed_load = true;\n",
       "    } else if (force !== true) {\n",
       "      var cell = $(document.getElementById(\"22071\")).parents('.cell').data().cell;\n",
       "      cell.output_area.append_execute_result(NB_LOAD_WARNING)\n",
       "    }\n",
       "\n",
       "  }\n",
       "\n",
       "  if (root._bokeh_is_loading === 0) {\n",
       "    console.debug(\"Bokeh: BokehJS loaded, going straight to plotting\");\n",
       "    run_inline_js();\n",
       "  } else {\n",
       "    load_libs(css_urls, js_urls, function() {\n",
       "      console.debug(\"Bokeh: BokehJS plotting callback run at\", now());\n",
       "      run_inline_js();\n",
       "    });\n",
       "  }\n",
       "}(window));"
      ],
      "application/vnd.bokehjs_load.v0+json": "\n(function(root) {\n  function now() {\n    return new Date();\n  }\n\n  var force = true;\n\n  if (typeof root._bokeh_onload_callbacks === \"undefined\" || force === true) {\n    root._bokeh_onload_callbacks = [];\n    root._bokeh_is_loading = undefined;\n  }\n\n  \n\n  \n  if (typeof (root._bokeh_timeout) === \"undefined\" || force === true) {\n    root._bokeh_timeout = Date.now() + 5000;\n    root._bokeh_failed_load = false;\n  }\n\n  var NB_LOAD_WARNING = {'data': {'text/html':\n     \"<div style='background-color: #fdd'>\\n\"+\n     \"<p>\\n\"+\n     \"BokehJS does not appear to have successfully loaded. If loading BokehJS from CDN, this \\n\"+\n     \"may be due to a slow or bad network connection. Possible fixes:\\n\"+\n     \"</p>\\n\"+\n     \"<ul>\\n\"+\n     \"<li>re-rerun `output_notebook()` to attempt to load from CDN again, or</li>\\n\"+\n     \"<li>use INLINE resources instead, as so:</li>\\n\"+\n     \"</ul>\\n\"+\n     \"<code>\\n\"+\n     \"from bokeh.resources import INLINE\\n\"+\n     \"output_notebook(resources=INLINE)\\n\"+\n     \"</code>\\n\"+\n     \"</div>\"}};\n\n  function display_loaded() {\n    var el = document.getElementById(\"22071\");\n    if (el != null) {\n      el.textContent = \"BokehJS is loading...\";\n    }\n    if (root.Bokeh !== undefined) {\n      if (el != null) {\n        el.textContent = \"BokehJS \" + root.Bokeh.version + \" successfully loaded.\";\n      }\n    } else if (Date.now() < root._bokeh_timeout) {\n      setTimeout(display_loaded, 100)\n    }\n  }\n\n\n  function run_callbacks() {\n    try {\n      root._bokeh_onload_callbacks.forEach(function(callback) {\n        if (callback != null)\n          callback();\n      });\n    } finally {\n      delete root._bokeh_onload_callbacks\n    }\n    console.debug(\"Bokeh: all callbacks have finished\");\n  }\n\n  function load_libs(css_urls, js_urls, callback) {\n    if (css_urls == null) css_urls = [];\n    if (js_urls == null) js_urls = [];\n\n    root._bokeh_onload_callbacks.push(callback);\n    if (root._bokeh_is_loading > 0) {\n      console.debug(\"Bokeh: BokehJS is being loaded, scheduling callback at\", now());\n      return null;\n    }\n    if (js_urls == null || js_urls.length === 0) {\n      run_callbacks();\n      return null;\n    }\n    console.debug(\"Bokeh: BokehJS not loaded, scheduling load and callback at\", now());\n    root._bokeh_is_loading = css_urls.length + js_urls.length;\n\n    function on_load() {\n      root._bokeh_is_loading--;\n      if (root._bokeh_is_loading === 0) {\n        console.debug(\"Bokeh: all BokehJS libraries/stylesheets loaded\");\n        run_callbacks()\n      }\n    }\n\n    function on_error() {\n      console.error(\"failed to load \" + url);\n    }\n\n    for (var i = 0; i < css_urls.length; i++) {\n      var url = css_urls[i];\n      const element = document.createElement(\"link\");\n      element.onload = on_load;\n      element.onerror = on_error;\n      element.rel = \"stylesheet\";\n      element.type = \"text/css\";\n      element.href = url;\n      console.debug(\"Bokeh: injecting link tag for BokehJS stylesheet: \", url);\n      document.body.appendChild(element);\n    }\n\n    for (var i = 0; i < js_urls.length; i++) {\n      var url = js_urls[i];\n      var element = document.createElement('script');\n      element.onload = on_load;\n      element.onerror = on_error;\n      element.async = false;\n      element.src = url;\n      console.debug(\"Bokeh: injecting script tag for BokehJS library: \", url);\n      document.head.appendChild(element);\n    }\n  };var element = document.getElementById(\"22071\");\n  if (element == null) {\n    console.error(\"Bokeh: ERROR: autoload.js configured with elementid '22071' but no matching script tag was found. \")\n    return false;\n  }\n\n  function inject_raw_css(css) {\n    const element = document.createElement(\"style\");\n    element.appendChild(document.createTextNode(css));\n    document.body.appendChild(element);\n  }\n\n  var js_urls = [\"https://cdn.pydata.org/bokeh/release/bokeh-1.3.4.min.js\", \"https://cdn.pydata.org/bokeh/release/bokeh-widgets-1.3.4.min.js\", \"https://cdn.pydata.org/bokeh/release/bokeh-tables-1.3.4.min.js\", \"https://cdn.pydata.org/bokeh/release/bokeh-gl-1.3.4.min.js\"];\n  var css_urls = [];\n\n  var inline_js = [\n    function(Bokeh) {\n      Bokeh.set_log_level(\"info\");\n    },\n    \n    function(Bokeh) {\n      \n    },\n    function(Bokeh) {} // ensure no trailing comma for IE\n  ];\n\n  function run_inline_js() {\n    \n    if ((root.Bokeh !== undefined) || (force === true)) {\n      for (var i = 0; i < inline_js.length; i++) {\n        inline_js[i].call(root, root.Bokeh);\n      }if (force === true) {\n        display_loaded();\n      }} else if (Date.now() < root._bokeh_timeout) {\n      setTimeout(run_inline_js, 100);\n    } else if (!root._bokeh_failed_load) {\n      console.log(\"Bokeh: BokehJS failed to load within specified timeout.\");\n      root._bokeh_failed_load = true;\n    } else if (force !== true) {\n      var cell = $(document.getElementById(\"22071\")).parents('.cell').data().cell;\n      cell.output_area.append_execute_result(NB_LOAD_WARNING)\n    }\n\n  }\n\n  if (root._bokeh_is_loading === 0) {\n    console.debug(\"Bokeh: BokehJS loaded, going straight to plotting\");\n    run_inline_js();\n  } else {\n    load_libs(css_urls, js_urls, function() {\n      console.debug(\"Bokeh: BokehJS plotting callback run at\", now());\n      run_inline_js();\n    });\n  }\n}(window));"
     },
     "metadata": {},
     "output_type": "display_data"
    },
    {
     "data": {
      "text/html": [
       "\n",
       "\n",
       "\n",
       "\n",
       "\n",
       "\n",
       "  <div class=\"bk-root\" id=\"b24b5045-0a0c-445d-9b54-ea7ba61b3c03\" data-root-id=\"22022\"></div>\n"
      ]
     },
     "metadata": {},
     "output_type": "display_data"
    },
    {
     "data": {
      "application/javascript": [
       "(function(root) {\n",
       "  function embed_document(root) {\n",
       "    \n",
       "  var docs_json = {\"bce12a4d-f448-41af-aea2-cd76893cb35f\":{\"roots\":{\"references\":[{\"attributes\":{\"below\":[{\"id\":\"22031\",\"type\":\"MercatorAxis\"}],\"center\":[{\"id\":\"22039\",\"type\":\"Grid\"},{\"id\":\"22048\",\"type\":\"Grid\"}],\"left\":[{\"id\":\"22040\",\"type\":\"MercatorAxis\"}],\"renderers\":[{\"id\":\"22062\",\"type\":\"TileRenderer\"},{\"id\":\"22067\",\"type\":\"GlyphRenderer\"}],\"title\":{\"id\":\"22069\",\"type\":\"Title\"},\"toolbar\":{\"id\":\"22055\",\"type\":\"Toolbar\"},\"x_range\":{\"id\":\"22023\",\"type\":\"Range1d\"},\"x_scale\":{\"id\":\"22027\",\"type\":\"LinearScale\"},\"y_range\":{\"id\":\"22025\",\"type\":\"Range1d\"},\"y_scale\":{\"id\":\"22029\",\"type\":\"LinearScale\"}},\"id\":\"22022\",\"subtype\":\"Figure\",\"type\":\"Plot\"},{\"attributes\":{\"dimension\":1,\"ticker\":{\"id\":\"22041\",\"type\":\"MercatorTicker\"}},\"id\":\"22048\",\"type\":\"Grid\"},{\"attributes\":{\"fill_alpha\":{\"value\":0.1},\"fill_color\":{\"value\":\"blue\"},\"line_color\":{\"value\":\"blue\"},\"size\":{\"units\":\"screen\",\"value\":5},\"x\":{\"field\":\"x\"},\"y\":{\"field\":\"y\"}},\"id\":\"22065\",\"type\":\"Circle\"},{\"attributes\":{\"tile_source\":{\"id\":\"1001\",\"type\":\"WMTSTileSource\"}},\"id\":\"22062\",\"type\":\"TileRenderer\"},{\"attributes\":{\"fill_alpha\":{\"value\":0.1},\"fill_color\":{\"value\":\"#1f77b4\"},\"line_alpha\":{\"value\":0.1},\"line_color\":{\"value\":\"#1f77b4\"},\"size\":{\"units\":\"screen\",\"value\":5},\"x\":{\"field\":\"x\"},\"y\":{\"field\":\"y\"}},\"id\":\"22066\",\"type\":\"Circle\"},{\"attributes\":{\"active_drag\":\"auto\",\"active_inspect\":\"auto\",\"active_multi\":null,\"active_scroll\":\"auto\",\"active_tap\":\"auto\",\"tools\":[{\"id\":\"22049\",\"type\":\"PanTool\"},{\"id\":\"22050\",\"type\":\"WheelZoomTool\"},{\"id\":\"22051\",\"type\":\"BoxZoomTool\"},{\"id\":\"22052\",\"type\":\"SaveTool\"},{\"id\":\"22053\",\"type\":\"ResetTool\"},{\"id\":\"22054\",\"type\":\"HelpTool\"}]},\"id\":\"22055\",\"type\":\"Toolbar\"},{\"attributes\":{\"formatter\":{\"id\":\"22034\",\"type\":\"MercatorTickFormatter\"},\"ticker\":{\"id\":\"22032\",\"type\":\"MercatorTicker\"}},\"id\":\"22031\",\"type\":\"MercatorAxis\"},{\"attributes\":{\"callback\":null,\"data\":{\"x\":[-13691304.063756302],\"y\":[5704098.938553709]},\"selected\":{\"id\":\"22519\",\"type\":\"Selection\"},\"selection_policy\":{\"id\":\"22518\",\"type\":\"UnionRenderers\"}},\"id\":\"22064\",\"type\":\"ColumnDataSource\"},{\"attributes\":{\"callback\":null,\"end\":-13644858.232612623,\"start\":-13665127.619454736},\"id\":\"22023\",\"type\":\"Range1d\"},{\"attributes\":{},\"id\":\"22049\",\"type\":\"PanTool\"},{\"attributes\":{\"callback\":null,\"end\":5710927.521886856,\"start\":5696480.836269927},\"id\":\"22025\",\"type\":\"Range1d\"},{\"attributes\":{},\"id\":\"22050\",\"type\":\"WheelZoomTool\"},{\"attributes\":{\"source\":{\"id\":\"22064\",\"type\":\"ColumnDataSource\"}},\"id\":\"22068\",\"type\":\"CDSView\"},{\"attributes\":{},\"id\":\"22519\",\"type\":\"Selection\"},{\"attributes\":{},\"id\":\"22027\",\"type\":\"LinearScale\"},{\"attributes\":{\"overlay\":{\"id\":\"22517\",\"type\":\"BoxAnnotation\"}},\"id\":\"22051\",\"type\":\"BoxZoomTool\"},{\"attributes\":{},\"id\":\"22052\",\"type\":\"SaveTool\"},{\"attributes\":{\"dimension\":\"lon\"},\"id\":\"22034\",\"type\":\"MercatorTickFormatter\"},{\"attributes\":{},\"id\":\"22053\",\"type\":\"ResetTool\"},{\"attributes\":{\"dimension\":\"lon\"},\"id\":\"22032\",\"type\":\"MercatorTicker\"},{\"attributes\":{},\"id\":\"22029\",\"type\":\"LinearScale\"},{\"attributes\":{\"attribution\":\"&copy; <a href=\\\"https://www.openstreetmap.org/copyright\\\">OpenStreetMap</a> contributors,&copy; <a href=\\\"https://cartodb.com/attributions\\\">CartoDB</a>\",\"url\":\"https://tiles.basemaps.cartocdn.com/light_all/{z}/{x}/{y}.png\"},\"id\":\"1001\",\"type\":\"WMTSTileSource\"},{\"attributes\":{},\"id\":\"22518\",\"type\":\"UnionRenderers\"},{\"attributes\":{\"dimension\":\"lat\"},\"id\":\"22043\",\"type\":\"MercatorTickFormatter\"},{\"attributes\":{},\"id\":\"22054\",\"type\":\"HelpTool\"},{\"attributes\":{\"bottom_units\":\"screen\",\"fill_alpha\":{\"value\":0.5},\"fill_color\":{\"value\":\"lightgrey\"},\"left_units\":\"screen\",\"level\":\"overlay\",\"line_alpha\":{\"value\":1.0},\"line_color\":{\"value\":\"black\"},\"line_dash\":[4,4],\"line_width\":{\"value\":2},\"render_mode\":\"css\",\"right_units\":\"screen\",\"top_units\":\"screen\"},\"id\":\"22517\",\"type\":\"BoxAnnotation\"},{\"attributes\":{\"text\":\"AC Transit Buses - 10/14/2020  19:47\"},\"id\":\"22069\",\"type\":\"Title\"},{\"attributes\":{\"formatter\":{\"id\":\"22043\",\"type\":\"MercatorTickFormatter\"},\"ticker\":{\"id\":\"22041\",\"type\":\"MercatorTicker\"}},\"id\":\"22040\",\"type\":\"MercatorAxis\"},{\"attributes\":{\"ticker\":{\"id\":\"22032\",\"type\":\"MercatorTicker\"}},\"id\":\"22039\",\"type\":\"Grid\"},{\"attributes\":{\"dimension\":\"lat\"},\"id\":\"22041\",\"type\":\"MercatorTicker\"},{\"attributes\":{\"data_source\":{\"id\":\"22064\",\"type\":\"ColumnDataSource\"},\"glyph\":{\"id\":\"22065\",\"type\":\"Circle\"},\"hover_glyph\":null,\"muted_glyph\":null,\"nonselection_glyph\":{\"id\":\"22066\",\"type\":\"Circle\"},\"selection_glyph\":null,\"view\":{\"id\":\"22068\",\"type\":\"CDSView\"}},\"id\":\"22067\",\"type\":\"GlyphRenderer\"}],\"root_ids\":[\"22022\"]},\"title\":\"Bokeh Application\",\"version\":\"1.3.4\"}};\n",
       "  var render_items = [{\"docid\":\"bce12a4d-f448-41af-aea2-cd76893cb35f\",\"roots\":{\"22022\":\"b24b5045-0a0c-445d-9b54-ea7ba61b3c03\"}}];\n",
       "  root.Bokeh.embed.embed_items_notebook(docs_json, render_items);\n",
       "\n",
       "  }\n",
       "  if (root.Bokeh !== undefined) {\n",
       "    embed_document(root);\n",
       "  } else {\n",
       "    var attempts = 0;\n",
       "    var timer = setInterval(function(root) {\n",
       "      if (root.Bokeh !== undefined) {\n",
       "        embed_document(root);\n",
       "        clearInterval(timer);\n",
       "      }\n",
       "      attempts++;\n",
       "      if (attempts > 100) {\n",
       "        console.log(\"Bokeh: ERROR: Unable to run BokehJS code because BokehJS library is missing\");\n",
       "        clearInterval(timer);\n",
       "      }\n",
       "    }, 10, root)\n",
       "  }\n",
       "})(window);"
      ],
      "application/vnd.bokehjs_exec.v0+json": ""
     },
     "metadata": {
      "application/vnd.bokehjs_exec.v0+json": {
       "id": "22022"
      }
     },
     "output_type": "display_data"
    }
   ],
   "source": [
    "plot_bokeh([a],[b],1)"
   ]
  },
  {
   "cell_type": "code",
   "execution_count": 37,
   "metadata": {},
   "outputs": [
    {
     "ename": "ValueError",
     "evalue": "could not convert string to float: 'delay'",
     "output_type": "error",
     "traceback": [
      "\u001b[0;31m---------------------------------------------------------------------------\u001b[0m",
      "\u001b[0;31mValueError\u001b[0m                                Traceback (most recent call last)",
      "\u001b[0;32m<ipython-input-37-366102b6f3e2>\u001b[0m in \u001b[0;36m<module>\u001b[0;34m\u001b[0m\n\u001b[0;32m----> 1\u001b[0;31m \u001b[0mmin\u001b[0m\u001b[0;34m(\u001b[0m\u001b[0;34m[\u001b[0m\u001b[0mfloat\u001b[0m\u001b[0;34m(\u001b[0m\u001b[0mi\u001b[0m\u001b[0;34m)\u001b[0m \u001b[0;32mfor\u001b[0m \u001b[0mi\u001b[0m \u001b[0;32min\u001b[0m \u001b[0mlist\u001b[0m\u001b[0;34m(\u001b[0m\u001b[0mcsv_file\u001b[0m\u001b[0;34m.\u001b[0m\u001b[0mdelay\u001b[0m\u001b[0;34m)\u001b[0m \u001b[0;32mif\u001b[0m \u001b[0mi\u001b[0m \u001b[0;32mis\u001b[0m \u001b[0;32mnot\u001b[0m \u001b[0;34m'delay'\u001b[0m\u001b[0;34m]\u001b[0m\u001b[0;34m)\u001b[0m\u001b[0;34m\u001b[0m\u001b[0;34m\u001b[0m\u001b[0m\n\u001b[0m",
      "\u001b[0;32m<ipython-input-37-366102b6f3e2>\u001b[0m in \u001b[0;36m<listcomp>\u001b[0;34m(.0)\u001b[0m\n\u001b[0;32m----> 1\u001b[0;31m \u001b[0mmin\u001b[0m\u001b[0;34m(\u001b[0m\u001b[0;34m[\u001b[0m\u001b[0mfloat\u001b[0m\u001b[0;34m(\u001b[0m\u001b[0mi\u001b[0m\u001b[0;34m)\u001b[0m \u001b[0;32mfor\u001b[0m \u001b[0mi\u001b[0m \u001b[0;32min\u001b[0m \u001b[0mlist\u001b[0m\u001b[0;34m(\u001b[0m\u001b[0mcsv_file\u001b[0m\u001b[0;34m.\u001b[0m\u001b[0mdelay\u001b[0m\u001b[0;34m)\u001b[0m \u001b[0;32mif\u001b[0m \u001b[0mi\u001b[0m \u001b[0;32mis\u001b[0m \u001b[0;32mnot\u001b[0m \u001b[0;34m'delay'\u001b[0m\u001b[0;34m]\u001b[0m\u001b[0;34m)\u001b[0m\u001b[0;34m\u001b[0m\u001b[0;34m\u001b[0m\u001b[0m\n\u001b[0m",
      "\u001b[0;31mValueError\u001b[0m: could not convert string to float: 'delay'"
     ]
    }
   ],
   "source": [
    "min([float(i) for i in list(csv_file.delay) if i is not 'delay'])"
   ]
  },
  {
   "cell_type": "code",
   "execution_count": 192,
   "metadata": {},
   "outputs": [
    {
     "name": "stdout",
     "output_type": "stream",
     "text": [
      "1013 913\n"
     ]
    }
   ],
   "source": [
    "# get colormap scale of delay\n",
    "\n",
    "delay=[float(i) for i in list(csv_file.delay.unique()) if str(i).isnumeric() or str(i)[1:].isnumeric()]\n",
    "five_percent=.05*len(delay)\n",
    "delay.sort()\n",
    "trimmed_delay=delay[int(five_percent):len(delay)-int(five_percent)]\n",
    "print(len(delay),len(trimmed_delay))\n",
    "# plt.hist(trimmed_delay)\n",
    "# plt.show()\n",
    "\n",
    "delay_min=min(trimmed_delay)\n",
    "delay_max=max(trimmed_delay)"
   ]
  },
  {
   "cell_type": "code",
   "execution_count": 193,
   "metadata": {},
   "outputs": [
    {
     "ename": "TypeError",
     "evalue": "unsupported operand type(s) for *: 'generator' and 'generator'",
     "output_type": "error",
     "traceback": [
      "\u001b[0;31m---------------------------------------------------------------------------\u001b[0m",
      "\u001b[0;31mTypeError\u001b[0m                                 Traceback (most recent call last)",
      "\u001b[0;32m<ipython-input-193-8dd0252cec3e>\u001b[0m in \u001b[0;36m<module>\u001b[0;34m\u001b[0m\n\u001b[1;32m      7\u001b[0m \u001b[0;31m# create a color channel with a value between 0 and 1\u001b[0m\u001b[0;34m\u001b[0m\u001b[0;34m\u001b[0m\u001b[0;34m\u001b[0m\u001b[0m\n\u001b[1;32m      8\u001b[0m \u001b[0;31m# outside the colorspan the value becomes 0 (left) and 1 (right)\u001b[0m\u001b[0;34m\u001b[0m\u001b[0;34m\u001b[0m\u001b[0;34m\u001b[0m\u001b[0m\n\u001b[0;32m----> 9\u001b[0;31m \u001b[0mcmap_input\u001b[0m\u001b[0;34m=\u001b[0m\u001b[0mnp\u001b[0m\u001b[0;34m.\u001b[0m\u001b[0minterp\u001b[0m\u001b[0;34m(\u001b[0m\u001b[0mnp\u001b[0m\u001b[0;34m.\u001b[0m\u001b[0msqrt\u001b[0m\u001b[0;34m(\u001b[0m\u001b[0mx\u001b[0m\u001b[0;34m*\u001b[0m\u001b[0mx\u001b[0m\u001b[0;34m+\u001b[0m\u001b[0my\u001b[0m\u001b[0;34m*\u001b[0m\u001b[0my\u001b[0m\u001b[0;34m)\u001b[0m\u001b[0;34m,\u001b[0m\u001b[0mcolorspan\u001b[0m\u001b[0;34m,\u001b[0m\u001b[0;34m[\u001b[0m\u001b[0;36m0\u001b[0m\u001b[0;34m,\u001b[0m\u001b[0;36m1\u001b[0m\u001b[0;34m]\u001b[0m\u001b[0;34m,\u001b[0m\u001b[0mleft\u001b[0m\u001b[0;34m=\u001b[0m\u001b[0;36m0\u001b[0m\u001b[0;34m,\u001b[0m\u001b[0mright\u001b[0m\u001b[0;34m=\u001b[0m\u001b[0;36m1\u001b[0m\u001b[0;34m)\u001b[0m\u001b[0;34m\u001b[0m\u001b[0;34m\u001b[0m\u001b[0m\n\u001b[0m\u001b[1;32m     10\u001b[0m \u001b[0;34m\u001b[0m\u001b[0m\n\u001b[1;32m     11\u001b[0m \u001b[0;31m# use colormap to generate rgb-values\u001b[0m\u001b[0;34m\u001b[0m\u001b[0;34m\u001b[0m\u001b[0;34m\u001b[0m\u001b[0m\n",
      "\u001b[0;31mTypeError\u001b[0m: unsupported operand type(s) for *: 'generator' and 'generator'"
     ]
    }
   ],
   "source": [
    "# get a colormap from matplotlib\n",
    "colormap =cm.get_cmap(\"gist_rainbow\") #choose any matplotlib colormap here\n",
    "\n",
    "# define maximum and minimum for cmap\n",
    "colorspan=[delay_min,delay_max]\n",
    "\n",
    "# create a color channel with a value between 0 and 1\n",
    "# outside the colorspan the value becomes 0 (left) and 1 (right)\n",
    "cmap_input=np.interp(np.sqrt(x*x+y*y),colorspan,[0,1],left=0,right=1)\n",
    "\n",
    "# use colormap to generate rgb-values\n",
    "# second value is alfa (not used)\n",
    "# third parameter gives int if True, otherwise float\n",
    "A_color=colormap(cmap_input,1,True)\n",
    "\n",
    "# convert to hex to fit to bokeh\n",
    "bokeh_colors = [\"#%02x%02x%02x\" % (r, g, b) for r, g, b in A_color[:,0:3]]"
   ]
  },
  {
   "cell_type": "code",
   "execution_count": 73,
   "metadata": {},
   "outputs": [],
   "source": [
    "uniq=list(csv_file.datetime.unique())"
   ]
  },
  {
   "cell_type": "code",
   "execution_count": 74,
   "metadata": {},
   "outputs": [],
   "source": [
    "first=csv_file[csv_file.datetime.isin([uniq[5]])]"
   ]
  },
  {
   "cell_type": "code",
   "execution_count": 75,
   "metadata": {},
   "outputs": [],
   "source": [
    "_merc=[]\n",
    "for i,row in first.iterrows():\n",
    "    _merc.append(mercator(float(row['latitude']),float(row['longitude'])))"
   ]
  },
  {
   "cell_type": "code",
   "execution_count": 87,
   "metadata": {},
   "outputs": [],
   "source": [
    "x=[i[0] for i in _merc]\n",
    "y=[i[1] for i in _merc]"
   ]
  },
  {
   "cell_type": "code",
   "execution_count": 187,
   "metadata": {},
   "outputs": [
    {
     "data": {
      "text/html": [
       "\n",
       "\n",
       "\n",
       "\n",
       "\n",
       "\n",
       "  <div class=\"bk-root\" id=\"af88522d-06ce-494d-9ed1-086058c1d285\" data-root-id=\"21426\"></div>\n"
      ]
     },
     "metadata": {},
     "output_type": "display_data"
    },
    {
     "data": {
      "application/javascript": [
       "(function(root) {\n",
       "  function embed_document(root) {\n",
       "    \n",
       "  var docs_json = {\"801f8ebd-9c01-4b0d-9994-abb0fa150728\":{\"roots\":{\"references\":[{\"attributes\":{\"background_fill_color\":{\"value\":\"#440154\"},\"below\":[{\"id\":\"21435\",\"type\":\"LinearAxis\"}],\"center\":[{\"id\":\"21439\",\"type\":\"Grid\"},{\"id\":\"21444\",\"type\":\"Grid\"}],\"left\":[{\"id\":\"21440\",\"type\":\"LinearAxis\"}],\"match_aspect\":true,\"renderers\":[{\"id\":\"21451\",\"type\":\"GlyphRenderer\"}],\"title\":{\"id\":\"21886\",\"type\":\"Title\"},\"toolbar\":{\"id\":\"21445\",\"type\":\"Toolbar\"},\"x_range\":{\"id\":\"21427\",\"type\":\"DataRange1d\"},\"x_scale\":{\"id\":\"21431\",\"type\":\"LinearScale\"},\"y_range\":{\"id\":\"21429\",\"type\":\"DataRange1d\"},\"y_scale\":{\"id\":\"21433\",\"type\":\"LinearScale\"}},\"id\":\"21426\",\"subtype\":\"Figure\",\"type\":\"Plot\"},{\"attributes\":{\"dimension\":1,\"ticker\":{\"id\":\"21441\",\"type\":\"BasicTicker\"},\"visible\":false},\"id\":\"21444\",\"type\":\"Grid\"},{\"attributes\":{\"data_source\":{\"id\":\"21447\",\"type\":\"ColumnDataSource\"},\"glyph\":{\"id\":\"21449\",\"type\":\"HexTile\"},\"hover_glyph\":null,\"muted_glyph\":null,\"nonselection_glyph\":{\"id\":\"21450\",\"type\":\"HexTile\"},\"selection_glyph\":null,\"view\":{\"id\":\"21452\",\"type\":\"CDSView\"}},\"id\":\"21451\",\"type\":\"GlyphRenderer\"},{\"attributes\":{\"formatter\":{\"id\":\"21887\",\"type\":\"BasicTickFormatter\"},\"ticker\":{\"id\":\"21436\",\"type\":\"BasicTicker\"}},\"id\":\"21435\",\"type\":\"LinearAxis\"},{\"attributes\":{\"formatter\":{\"id\":\"21889\",\"type\":\"BasicTickFormatter\"},\"ticker\":{\"id\":\"21441\",\"type\":\"BasicTicker\"}},\"id\":\"21440\",\"type\":\"LinearAxis\"},{\"attributes\":{\"ticker\":{\"id\":\"21436\",\"type\":\"BasicTicker\"},\"visible\":false},\"id\":\"21439\",\"type\":\"Grid\"},{\"attributes\":{\"active_drag\":\"auto\",\"active_inspect\":\"auto\",\"active_multi\":null,\"active_scroll\":\"auto\",\"active_tap\":\"auto\"},\"id\":\"21445\",\"type\":\"Toolbar\"},{\"attributes\":{\"fill_alpha\":{\"value\":0.1},\"fill_color\":{\"value\":\"#1f77b4\"},\"line_alpha\":{\"value\":0.1},\"line_color\":{\"value\":\"#1f77b4\"},\"q\":{\"field\":\"q\"},\"r\":{\"field\":\"r\"},\"size\":0.1},\"id\":\"21450\",\"type\":\"HexTile\"},{\"attributes\":{},\"id\":\"21431\",\"type\":\"LinearScale\"},{\"attributes\":{},\"id\":\"21891\",\"type\":\"UnionRenderers\"},{\"attributes\":{},\"id\":\"21433\",\"type\":\"LinearScale\"},{\"attributes\":{\"text\":\"\"},\"id\":\"21886\",\"type\":\"Title\"},{\"attributes\":{\"fill_color\":{\"field\":\"counts\",\"transform\":{\"id\":\"21446\",\"type\":\"LinearColorMapper\"}},\"q\":{\"field\":\"q\"},\"r\":{\"field\":\"r\"},\"size\":0.1},\"id\":\"21449\",\"type\":\"HexTile\"},{\"attributes\":{},\"id\":\"21441\",\"type\":\"BasicTicker\"},{\"attributes\":{\"callback\":null},\"id\":\"21429\",\"type\":\"DataRange1d\"},{\"attributes\":{},\"id\":\"21887\",\"type\":\"BasicTickFormatter\"},{\"attributes\":{},\"id\":\"21889\",\"type\":\"BasicTickFormatter\"},{\"attributes\":{},\"id\":\"21436\",\"type\":\"BasicTicker\"},{\"attributes\":{\"source\":{\"id\":\"21447\",\"type\":\"ColumnDataSource\"}},\"id\":\"21452\",\"type\":\"CDSView\"},{\"attributes\":{\"callback\":null,\"data\":{\"counts\":[934,205,116,181,100,140,99,108,116,76,12,48,63,3095,174,8,3,71,194,376,294,679,11,796,137,28,79,285,498,110,38,191,1232,21,122,94,45,258,76,164,62,29,90,98,79,773,51,93,30,138,319,274,169,284,1432,82,76,166,36,1057,85,155,106,2911,137,557,871,18,119,37,335,146,255,299,140,923,423,578,145,20,75,230,100,338,291,229,112,118,246,1646,371,17,25,319,426,70,799,235,218,189,135,5,56,397,146,659,1361,552,1205,106,37,330,2345,441,7196,424,72,117,116,833,882,813,1113,41,1189,33,91,154,1200,138,84,703,445,250,73,268,553,603,423,910,658,1233,1040,71,44,37,72,50,24,130,77,33,146,554,267,250,2751,8402,11943,2332,41,9,87,184,71,84,256,113,50,159,848,184,417,246,547,1183,1259,1415,1816,5155,225,91,14,17,77,1325,72,334,3061,787,242,732,2040,467,321,2347,1115,727,196,186,84,7,3,134,101,15,330,246,318,1799,655,1356,840,755,790,639,45,342,228,199,482,226,331,232,1947,79,132,6,51,203,186,220,5075,904,168,794,826,408,584,156,99,56,257,77,96,96,52,30,42,270,35,126,64,70,831,880,579,737,242,735,515,187,748,142,37,27,57,11,127,17,54,73,64,154,287,467,410,188,785,932,279,234,457,560,285,47,38,38,168,148,130,39,37,154,414,826,118,193,880,201,1947,680,180,97,142,534,2439,47,491,53,326,152,15,20,66,115,65,1828,102,362,403,661,304,130,370,564,224,95,84,2166,13,60,9,26,786,95,223,224,377,271,172,280,149,27,112,53,24,825,127,173,79,147,212,115,87,428,176,182,502,6362,869,87,33,7,213,134,3557,630,101,39,85,18,200,108,231,74,227,947,35,34,90,138,30,72,69,44,28,66,3,14,13,70,135,126,238,54,108,6,9,6,45,84,1288,116,14,143,3,9,157,77,9,3,217,3,3,8,441,6,6,3,6,8,11,12,15,6,17,18,6,8,18,40,86],\"index\":[0,1,2,3,4,5,6,7,8,9,10,11,12,13,14,15,16,17,18,19,20,21,22,23,24,25,26,27,28,29,30,31,32,33,34,35,36,37,38,39,40,41,42,43,44,45,46,47,48,49,50,51,52,53,54,55,56,57,58,59,60,61,62,63,64,65,66,67,68,69,70,71,72,73,74,75,76,77,78,79,80,81,82,83,84,85,86,87,88,89,90,91,92,93,94,95,96,97,98,99,100,101,102,103,104,105,106,107,108,109,110,111,112,113,114,115,116,117,118,119,120,121,122,123,124,125,126,127,128,129,130,131,132,133,134,135,136,137,138,139,140,141,142,143,144,145,146,147,148,149,150,151,152,153,154,155,156,157,158,159,160,161,162,163,164,165,166,167,168,169,170,171,172,173,174,175,176,177,178,179,180,181,182,183,184,185,186,187,188,189,190,191,192,193,194,195,196,197,198,199,200,201,202,203,204,205,206,207,208,209,210,211,212,213,214,215,216,217,218,219,220,221,222,223,224,225,226,227,228,229,230,231,232,233,234,235,236,237,238,239,240,241,242,243,244,245,246,247,248,249,250,251,252,253,254,255,256,257,258,259,260,261,262,263,264,265,266,267,268,269,270,271,272,273,274,275,276,277,278,279,280,281,282,283,284,285,286,287,288,289,290,291,292,293,294,295,296,297,298,299,300,301,302,303,304,305,306,307,308,309,310,311,312,313,314,315,316,317,318,319,320,321,322,323,324,325,326,327,328,329,330,331,332,333,334,335,336,337,338,339,340,341,342,343,344,345,346,347,348,349,350,351,352,353,354,355,356,357,358,359,360,361,362,363,364,365,366,367,368,369,370,371,372,373,374,375,376,377,378,379,380,381,382,383,384,385,386,387,388,389,390,391,392,393,394,395,396,397,398,399,400,401,402,403,404,405,406,407,408,409,410,411,412,413,414,415,416,417,418,419,420,421,422,423,424,425,426,427,428,429,430,431,432],\"q\":[-7920,-7919,-7919,-7918,-7918,-7917,-7917,-7916,-7916,-7916,-7915,-7915,-7915,-7915,-7915,-7914,-7914,-7914,-7914,-7914,-7914,-7914,-7913,-7913,-7913,-7913,-7913,-7913,-7913,-7913,-7913,-7913,-7912,-7912,-7912,-7912,-7912,-7912,-7912,-7912,-7912,-7912,-7912,-7912,-7911,-7911,-7911,-7911,-7911,-7911,-7911,-7911,-7911,-7910,-7910,-7910,-7910,-7910,-7910,-7910,-7910,-7910,-7910,-7909,-7909,-7909,-7909,-7909,-7909,-7909,-7909,-7909,-7909,-7909,-7908,-7908,-7908,-7908,-7908,-7908,-7908,-7908,-7908,-7908,-7908,-7908,-7908,-7908,-7907,-7907,-7907,-7907,-7907,-7907,-7907,-7907,-7907,-7907,-7907,-7907,-7907,-7907,-7906,-7906,-7906,-7906,-7906,-7906,-7906,-7906,-7906,-7906,-7906,-7906,-7906,-7906,-7906,-7906,-7905,-7905,-7905,-7905,-7905,-7905,-7905,-7905,-7905,-7905,-7905,-7905,-7905,-7905,-7905,-7905,-7905,-7904,-7904,-7904,-7904,-7904,-7904,-7904,-7904,-7904,-7904,-7904,-7904,-7904,-7904,-7904,-7904,-7904,-7903,-7903,-7903,-7903,-7903,-7903,-7903,-7903,-7903,-7903,-7903,-7903,-7903,-7903,-7903,-7903,-7903,-7903,-7902,-7902,-7902,-7902,-7902,-7902,-7902,-7902,-7902,-7902,-7902,-7902,-7902,-7902,-7902,-7902,-7902,-7901,-7901,-7901,-7901,-7901,-7901,-7901,-7901,-7901,-7901,-7901,-7901,-7901,-7901,-7901,-7901,-7901,-7901,-7901,-7900,-7900,-7900,-7900,-7900,-7900,-7900,-7900,-7900,-7900,-7900,-7900,-7900,-7900,-7900,-7900,-7900,-7900,-7900,-7900,-7900,-7899,-7899,-7899,-7899,-7899,-7899,-7899,-7899,-7899,-7899,-7899,-7899,-7899,-7899,-7899,-7899,-7899,-7899,-7899,-7899,-7899,-7899,-7899,-7898,-7898,-7898,-7898,-7898,-7898,-7898,-7898,-7898,-7898,-7898,-7898,-7898,-7898,-7898,-7898,-7898,-7898,-7898,-7898,-7898,-7897,-7897,-7897,-7897,-7897,-7897,-7897,-7897,-7897,-7897,-7897,-7897,-7897,-7897,-7897,-7897,-7897,-7897,-7897,-7897,-7896,-7896,-7896,-7896,-7896,-7896,-7896,-7896,-7896,-7896,-7896,-7896,-7896,-7896,-7896,-7896,-7896,-7896,-7896,-7896,-7896,-7896,-7895,-7895,-7895,-7895,-7895,-7895,-7895,-7895,-7895,-7895,-7895,-7895,-7895,-7895,-7895,-7895,-7895,-7895,-7895,-7895,-7894,-7894,-7894,-7894,-7894,-7894,-7894,-7894,-7894,-7894,-7894,-7894,-7894,-7894,-7894,-7894,-7894,-7894,-7894,-7893,-7893,-7893,-7893,-7893,-7893,-7893,-7893,-7893,-7893,-7893,-7893,-7892,-7892,-7892,-7892,-7892,-7892,-7892,-7892,-7892,-7892,-7892,-7892,-7891,-7891,-7891,-7891,-7891,-7891,-7891,-7891,-7891,-7891,-7890,-7890,-7890,-7890,-7890,-7890,-7890,-7890,-7890,-7890,-7889,-7889,-7889,-7889,-7889,-7889,-7889,-7889,-7888,-7888,-7887,-7887,-7887,-7887,-7886,-7886,-7886,-7886,-7885,-7885,-7885,-7884,-7884,-7884,-7883,-7882,-7881,-7880,-7879,-7879,-7878,-7877,-7876,-7876,-7875,-7874,-7873],\"r\":[9656,9654,9655,9652,9653,9650,9651,9633,9648,9649,9632,9644,9645,9646,9647,9631,9632,9640,9642,9643,9644,9645,9631,9636,9637,9638,9639,9640,9641,9642,9643,9644,9629,9630,9634,9635,9636,9637,9638,9639,9640,9641,9642,9643,9627,9628,9629,9634,9635,9636,9637,9638,9641,9626,9627,9628,9634,9635,9636,9637,9638,9639,9640,9622,9623,9625,9626,9628,9633,9634,9635,9636,9637,9638,9621,9622,9623,9624,9625,9627,9631,9632,9633,9634,9635,9636,9637,9638,9621,9622,9623,9624,9625,9626,9631,9632,9633,9634,9635,9636,9637,9638,9618,9619,9620,9621,9622,9623,9624,9625,9628,9629,9630,9631,9632,9633,9634,9635,9618,9619,9620,9621,9622,9623,9624,9625,9626,9627,9628,9629,9630,9631,9632,9633,9634,9617,9618,9619,9620,9621,9622,9623,9624,9625,9626,9627,9628,9629,9631,9632,9633,9634,9616,9617,9618,9619,9620,9621,9622,9623,9624,9625,9626,9627,9628,9629,9630,9631,9632,9633,9613,9614,9615,9616,9617,9618,9619,9620,9621,9622,9623,9625,9627,9628,9629,9630,9631,9612,9613,9614,9615,9616,9617,9618,9619,9620,9621,9622,9623,9624,9625,9626,9628,9629,9630,9631,9611,9612,9613,9614,9615,9616,9617,9618,9619,9620,9621,9622,9623,9624,9625,9626,9627,9628,9629,9630,9631,9608,9609,9610,9611,9612,9613,9614,9615,9616,9617,9618,9619,9620,9621,9625,9626,9627,9629,9631,9632,9633,9634,9635,9607,9608,9609,9610,9611,9612,9613,9614,9615,9616,9617,9618,9619,9620,9621,9624,9625,9627,9628,9634,9635,9606,9607,9608,9609,9610,9611,9612,9613,9614,9615,9616,9617,9618,9619,9620,9623,9624,9627,9628,9629,9604,9605,9606,9607,9608,9609,9610,9611,9612,9613,9614,9615,9616,9617,9618,9619,9620,9621,9622,9627,9628,9629,9601,9603,9604,9605,9606,9607,9608,9609,9610,9611,9612,9613,9614,9615,9616,9617,9618,9620,9621,9629,9599,9600,9601,9602,9603,9604,9605,9606,9607,9608,9610,9611,9612,9613,9614,9615,9618,9620,9629,9599,9600,9602,9603,9604,9605,9606,9613,9614,9618,9619,9620,9600,9601,9602,9603,9604,9605,9612,9613,9614,9615,9617,9619,9600,9601,9602,9610,9611,9613,9614,9615,9616,9618,9608,9609,9610,9611,9612,9613,9614,9615,9616,9617,9607,9608,9609,9610,9614,9615,9616,9617,9608,9616,9606,9607,9615,9616,9605,9606,9614,9615,9603,9604,9614,9601,9602,9603,9600,9599,9598,9597,9596,9597,9596,9596,9595,9596,9595,9595,9595]},\"selected\":{\"id\":\"21892\",\"type\":\"Selection\"},\"selection_policy\":{\"id\":\"21891\",\"type\":\"UnionRenderers\"}},\"id\":\"21447\",\"type\":\"ColumnDataSource\"},{\"attributes\":{\"high\":11943,\"low\":0,\"palette\":[\"#440154\",\"#440255\",\"#440357\",\"#450558\",\"#45065A\",\"#45085B\",\"#46095C\",\"#460B5E\",\"#460C5F\",\"#460E61\",\"#470F62\",\"#471163\",\"#471265\",\"#471466\",\"#471567\",\"#471669\",\"#47186A\",\"#48196B\",\"#481A6C\",\"#481C6E\",\"#481D6F\",\"#481E70\",\"#482071\",\"#482172\",\"#482273\",\"#482374\",\"#472575\",\"#472676\",\"#472777\",\"#472878\",\"#472A79\",\"#472B7A\",\"#472C7B\",\"#462D7C\",\"#462F7C\",\"#46307D\",\"#46317E\",\"#45327F\",\"#45347F\",\"#453580\",\"#453681\",\"#443781\",\"#443982\",\"#433A83\",\"#433B83\",\"#433C84\",\"#423D84\",\"#423E85\",\"#424085\",\"#414186\",\"#414286\",\"#404387\",\"#404487\",\"#3F4587\",\"#3F4788\",\"#3E4888\",\"#3E4989\",\"#3D4A89\",\"#3D4B89\",\"#3D4C89\",\"#3C4D8A\",\"#3C4E8A\",\"#3B508A\",\"#3B518A\",\"#3A528B\",\"#3A538B\",\"#39548B\",\"#39558B\",\"#38568B\",\"#38578C\",\"#37588C\",\"#37598C\",\"#365A8C\",\"#365B8C\",\"#355C8C\",\"#355D8C\",\"#345E8D\",\"#345F8D\",\"#33608D\",\"#33618D\",\"#32628D\",\"#32638D\",\"#31648D\",\"#31658D\",\"#31668D\",\"#30678D\",\"#30688D\",\"#2F698D\",\"#2F6A8D\",\"#2E6B8E\",\"#2E6C8E\",\"#2E6D8E\",\"#2D6E8E\",\"#2D6F8E\",\"#2C708E\",\"#2C718E\",\"#2C728E\",\"#2B738E\",\"#2B748E\",\"#2A758E\",\"#2A768E\",\"#2A778E\",\"#29788E\",\"#29798E\",\"#287A8E\",\"#287A8E\",\"#287B8E\",\"#277C8E\",\"#277D8E\",\"#277E8E\",\"#267F8E\",\"#26808E\",\"#26818E\",\"#25828E\",\"#25838D\",\"#24848D\",\"#24858D\",\"#24868D\",\"#23878D\",\"#23888D\",\"#23898D\",\"#22898D\",\"#228A8D\",\"#228B8D\",\"#218C8D\",\"#218D8C\",\"#218E8C\",\"#208F8C\",\"#20908C\",\"#20918C\",\"#1F928C\",\"#1F938B\",\"#1F948B\",\"#1F958B\",\"#1F968B\",\"#1E978A\",\"#1E988A\",\"#1E998A\",\"#1E998A\",\"#1E9A89\",\"#1E9B89\",\"#1E9C89\",\"#1E9D88\",\"#1E9E88\",\"#1E9F88\",\"#1EA087\",\"#1FA187\",\"#1FA286\",\"#1FA386\",\"#20A485\",\"#20A585\",\"#21A685\",\"#21A784\",\"#22A784\",\"#23A883\",\"#23A982\",\"#24AA82\",\"#25AB81\",\"#26AC81\",\"#27AD80\",\"#28AE7F\",\"#29AF7F\",\"#2AB07E\",\"#2BB17D\",\"#2CB17D\",\"#2EB27C\",\"#2FB37B\",\"#30B47A\",\"#32B57A\",\"#33B679\",\"#35B778\",\"#36B877\",\"#38B976\",\"#39B976\",\"#3BBA75\",\"#3DBB74\",\"#3EBC73\",\"#40BD72\",\"#42BE71\",\"#44BE70\",\"#45BF6F\",\"#47C06E\",\"#49C16D\",\"#4BC26C\",\"#4DC26B\",\"#4FC369\",\"#51C468\",\"#53C567\",\"#55C666\",\"#57C665\",\"#59C764\",\"#5BC862\",\"#5EC961\",\"#60C960\",\"#62CA5F\",\"#64CB5D\",\"#67CC5C\",\"#69CC5B\",\"#6BCD59\",\"#6DCE58\",\"#70CE56\",\"#72CF55\",\"#74D054\",\"#77D052\",\"#79D151\",\"#7CD24F\",\"#7ED24E\",\"#81D34C\",\"#83D34B\",\"#86D449\",\"#88D547\",\"#8BD546\",\"#8DD644\",\"#90D643\",\"#92D741\",\"#95D73F\",\"#97D83E\",\"#9AD83C\",\"#9DD93A\",\"#9FD938\",\"#A2DA37\",\"#A5DA35\",\"#A7DB33\",\"#AADB32\",\"#ADDC30\",\"#AFDC2E\",\"#B2DD2C\",\"#B5DD2B\",\"#B7DD29\",\"#BADE27\",\"#BDDE26\",\"#BFDF24\",\"#C2DF22\",\"#C5DF21\",\"#C7E01F\",\"#CAE01E\",\"#CDE01D\",\"#CFE11C\",\"#D2E11B\",\"#D4E11A\",\"#D7E219\",\"#DAE218\",\"#DCE218\",\"#DFE318\",\"#E1E318\",\"#E4E318\",\"#E7E419\",\"#E9E419\",\"#ECE41A\",\"#EEE51B\",\"#F1E51C\",\"#F3E51E\",\"#F6E61F\",\"#F8E621\",\"#FAE622\",\"#FDE724\"]},\"id\":\"21446\",\"type\":\"LinearColorMapper\"},{\"attributes\":{},\"id\":\"21892\",\"type\":\"Selection\"},{\"attributes\":{\"callback\":null},\"id\":\"21427\",\"type\":\"DataRange1d\"}],\"root_ids\":[\"21426\"]},\"title\":\"Bokeh Application\",\"version\":\"1.3.4\"}};\n",
       "  var render_items = [{\"docid\":\"801f8ebd-9c01-4b0d-9994-abb0fa150728\",\"roots\":{\"21426\":\"af88522d-06ce-494d-9ed1-086058c1d285\"}}];\n",
       "  root.Bokeh.embed.embed_items_notebook(docs_json, render_items);\n",
       "\n",
       "  }\n",
       "  if (root.Bokeh !== undefined) {\n",
       "    embed_document(root);\n",
       "  } else {\n",
       "    var attempts = 0;\n",
       "    var timer = setInterval(function(root) {\n",
       "      if (root.Bokeh !== undefined) {\n",
       "        embed_document(root);\n",
       "        clearInterval(timer);\n",
       "      }\n",
       "      attempts++;\n",
       "      if (attempts > 100) {\n",
       "        console.log(\"Bokeh: ERROR: Unable to run BokehJS code because BokehJS library is missing\");\n",
       "        clearInterval(timer);\n",
       "      }\n",
       "    }, 10, root)\n",
       "  }\n",
       "})(window);"
      ],
      "application/vnd.bokehjs_exec.v0+json": ""
     },
     "metadata": {
      "application/vnd.bokehjs_exec.v0+json": {
       "id": "21426"
      }
     },
     "output_type": "display_data"
    }
   ],
   "source": [
    "import numpy as np\n",
    "\n",
    "from bokeh.plotting import figure, show\n",
    "from bokeh.transform import linear_cmap\n",
    "from bokeh.util.hex import hexbin\n",
    "n = 50000\n",
    "# x = np.random.standard_normal(n)\n",
    "# y = np.random.standard_normal(n)\n",
    "# x=[i for i in a]\n",
    "# y=[i for i in b]\n",
    "\n",
    "bins = hexbin(-np.array(x), np.array(y), 0.85)\n",
    "# print(bins)\n",
    "\n",
    "p = figure(tools=\"\", match_aspect=True, background_fill_color='#440154')\n",
    "p.grid.visible = False\n",
    "\n",
    "p.hex_tile(q=\"q\", r=\"r\", size=0.1, line_color=None, source=bins,\n",
    "           fill_color=linear_cmap('counts', 'Viridis256', 0, max(bins.counts)))\n",
    "\n",
    "\n",
    "# export_png(p, filename=\"plot{}.png\".format(1))\n",
    "show(p)"
   ]
  },
  {
   "cell_type": "code",
   "execution_count": 77,
   "metadata": {},
   "outputs": [
    {
     "data": {
      "text/html": [
       "\n",
       "    <div class=\"bk-root\">\n",
       "        <a href=\"https://bokeh.pydata.org\" target=\"_blank\" class=\"bk-logo bk-logo-small bk-logo-notebook\"></a>\n",
       "        <span id=\"2804\">Loading BokehJS ...</span>\n",
       "    </div>"
      ]
     },
     "metadata": {},
     "output_type": "display_data"
    },
    {
     "data": {
      "application/javascript": [
       "\n",
       "(function(root) {\n",
       "  function now() {\n",
       "    return new Date();\n",
       "  }\n",
       "\n",
       "  var force = true;\n",
       "\n",
       "  if (typeof root._bokeh_onload_callbacks === \"undefined\" || force === true) {\n",
       "    root._bokeh_onload_callbacks = [];\n",
       "    root._bokeh_is_loading = undefined;\n",
       "  }\n",
       "\n",
       "  var JS_MIME_TYPE = 'application/javascript';\n",
       "  var HTML_MIME_TYPE = 'text/html';\n",
       "  var EXEC_MIME_TYPE = 'application/vnd.bokehjs_exec.v0+json';\n",
       "  var CLASS_NAME = 'output_bokeh rendered_html';\n",
       "\n",
       "  /**\n",
       "   * Render data to the DOM node\n",
       "   */\n",
       "  function render(props, node) {\n",
       "    var script = document.createElement(\"script\");\n",
       "    node.appendChild(script);\n",
       "  }\n",
       "\n",
       "  /**\n",
       "   * Handle when an output is cleared or removed\n",
       "   */\n",
       "  function handleClearOutput(event, handle) {\n",
       "    var cell = handle.cell;\n",
       "\n",
       "    var id = cell.output_area._bokeh_element_id;\n",
       "    var server_id = cell.output_area._bokeh_server_id;\n",
       "    // Clean up Bokeh references\n",
       "    if (id != null && id in Bokeh.index) {\n",
       "      Bokeh.index[id].model.document.clear();\n",
       "      delete Bokeh.index[id];\n",
       "    }\n",
       "\n",
       "    if (server_id !== undefined) {\n",
       "      // Clean up Bokeh references\n",
       "      var cmd = \"from bokeh.io.state import curstate; print(curstate().uuid_to_server['\" + server_id + \"'].get_sessions()[0].document.roots[0]._id)\";\n",
       "      cell.notebook.kernel.execute(cmd, {\n",
       "        iopub: {\n",
       "          output: function(msg) {\n",
       "            var id = msg.content.text.trim();\n",
       "            if (id in Bokeh.index) {\n",
       "              Bokeh.index[id].model.document.clear();\n",
       "              delete Bokeh.index[id];\n",
       "            }\n",
       "          }\n",
       "        }\n",
       "      });\n",
       "      // Destroy server and session\n",
       "      var cmd = \"import bokeh.io.notebook as ion; ion.destroy_server('\" + server_id + \"')\";\n",
       "      cell.notebook.kernel.execute(cmd);\n",
       "    }\n",
       "  }\n",
       "\n",
       "  /**\n",
       "   * Handle when a new output is added\n",
       "   */\n",
       "  function handleAddOutput(event, handle) {\n",
       "    var output_area = handle.output_area;\n",
       "    var output = handle.output;\n",
       "\n",
       "    // limit handleAddOutput to display_data with EXEC_MIME_TYPE content only\n",
       "    if ((output.output_type != \"display_data\") || (!output.data.hasOwnProperty(EXEC_MIME_TYPE))) {\n",
       "      return\n",
       "    }\n",
       "\n",
       "    var toinsert = output_area.element.find(\".\" + CLASS_NAME.split(' ')[0]);\n",
       "\n",
       "    if (output.metadata[EXEC_MIME_TYPE][\"id\"] !== undefined) {\n",
       "      toinsert[toinsert.length - 1].firstChild.textContent = output.data[JS_MIME_TYPE];\n",
       "      // store reference to embed id on output_area\n",
       "      output_area._bokeh_element_id = output.metadata[EXEC_MIME_TYPE][\"id\"];\n",
       "    }\n",
       "    if (output.metadata[EXEC_MIME_TYPE][\"server_id\"] !== undefined) {\n",
       "      var bk_div = document.createElement(\"div\");\n",
       "      bk_div.innerHTML = output.data[HTML_MIME_TYPE];\n",
       "      var script_attrs = bk_div.children[0].attributes;\n",
       "      for (var i = 0; i < script_attrs.length; i++) {\n",
       "        toinsert[toinsert.length - 1].firstChild.setAttribute(script_attrs[i].name, script_attrs[i].value);\n",
       "      }\n",
       "      // store reference to server id on output_area\n",
       "      output_area._bokeh_server_id = output.metadata[EXEC_MIME_TYPE][\"server_id\"];\n",
       "    }\n",
       "  }\n",
       "\n",
       "  function register_renderer(events, OutputArea) {\n",
       "\n",
       "    function append_mime(data, metadata, element) {\n",
       "      // create a DOM node to render to\n",
       "      var toinsert = this.create_output_subarea(\n",
       "        metadata,\n",
       "        CLASS_NAME,\n",
       "        EXEC_MIME_TYPE\n",
       "      );\n",
       "      this.keyboard_manager.register_events(toinsert);\n",
       "      // Render to node\n",
       "      var props = {data: data, metadata: metadata[EXEC_MIME_TYPE]};\n",
       "      render(props, toinsert[toinsert.length - 1]);\n",
       "      element.append(toinsert);\n",
       "      return toinsert\n",
       "    }\n",
       "\n",
       "    /* Handle when an output is cleared or removed */\n",
       "    events.on('clear_output.CodeCell', handleClearOutput);\n",
       "    events.on('delete.Cell', handleClearOutput);\n",
       "\n",
       "    /* Handle when a new output is added */\n",
       "    events.on('output_added.OutputArea', handleAddOutput);\n",
       "\n",
       "    /**\n",
       "     * Register the mime type and append_mime function with output_area\n",
       "     */\n",
       "    OutputArea.prototype.register_mime_type(EXEC_MIME_TYPE, append_mime, {\n",
       "      /* Is output safe? */\n",
       "      safe: true,\n",
       "      /* Index of renderer in `output_area.display_order` */\n",
       "      index: 0\n",
       "    });\n",
       "  }\n",
       "\n",
       "  // register the mime type if in Jupyter Notebook environment and previously unregistered\n",
       "  if (root.Jupyter !== undefined) {\n",
       "    var events = require('base/js/events');\n",
       "    var OutputArea = require('notebook/js/outputarea').OutputArea;\n",
       "\n",
       "    if (OutputArea.prototype.mime_types().indexOf(EXEC_MIME_TYPE) == -1) {\n",
       "      register_renderer(events, OutputArea);\n",
       "    }\n",
       "  }\n",
       "\n",
       "  \n",
       "  if (typeof (root._bokeh_timeout) === \"undefined\" || force === true) {\n",
       "    root._bokeh_timeout = Date.now() + 5000;\n",
       "    root._bokeh_failed_load = false;\n",
       "  }\n",
       "\n",
       "  var NB_LOAD_WARNING = {'data': {'text/html':\n",
       "     \"<div style='background-color: #fdd'>\\n\"+\n",
       "     \"<p>\\n\"+\n",
       "     \"BokehJS does not appear to have successfully loaded. If loading BokehJS from CDN, this \\n\"+\n",
       "     \"may be due to a slow or bad network connection. Possible fixes:\\n\"+\n",
       "     \"</p>\\n\"+\n",
       "     \"<ul>\\n\"+\n",
       "     \"<li>re-rerun `output_notebook()` to attempt to load from CDN again, or</li>\\n\"+\n",
       "     \"<li>use INLINE resources instead, as so:</li>\\n\"+\n",
       "     \"</ul>\\n\"+\n",
       "     \"<code>\\n\"+\n",
       "     \"from bokeh.resources import INLINE\\n\"+\n",
       "     \"output_notebook(resources=INLINE)\\n\"+\n",
       "     \"</code>\\n\"+\n",
       "     \"</div>\"}};\n",
       "\n",
       "  function display_loaded() {\n",
       "    var el = document.getElementById(\"2804\");\n",
       "    if (el != null) {\n",
       "      el.textContent = \"BokehJS is loading...\";\n",
       "    }\n",
       "    if (root.Bokeh !== undefined) {\n",
       "      if (el != null) {\n",
       "        el.textContent = \"BokehJS \" + root.Bokeh.version + \" successfully loaded.\";\n",
       "      }\n",
       "    } else if (Date.now() < root._bokeh_timeout) {\n",
       "      setTimeout(display_loaded, 100)\n",
       "    }\n",
       "  }\n",
       "\n",
       "\n",
       "  function run_callbacks() {\n",
       "    try {\n",
       "      root._bokeh_onload_callbacks.forEach(function(callback) {\n",
       "        if (callback != null)\n",
       "          callback();\n",
       "      });\n",
       "    } finally {\n",
       "      delete root._bokeh_onload_callbacks\n",
       "    }\n",
       "    console.debug(\"Bokeh: all callbacks have finished\");\n",
       "  }\n",
       "\n",
       "  function load_libs(css_urls, js_urls, callback) {\n",
       "    if (css_urls == null) css_urls = [];\n",
       "    if (js_urls == null) js_urls = [];\n",
       "\n",
       "    root._bokeh_onload_callbacks.push(callback);\n",
       "    if (root._bokeh_is_loading > 0) {\n",
       "      console.debug(\"Bokeh: BokehJS is being loaded, scheduling callback at\", now());\n",
       "      return null;\n",
       "    }\n",
       "    if (js_urls == null || js_urls.length === 0) {\n",
       "      run_callbacks();\n",
       "      return null;\n",
       "    }\n",
       "    console.debug(\"Bokeh: BokehJS not loaded, scheduling load and callback at\", now());\n",
       "    root._bokeh_is_loading = css_urls.length + js_urls.length;\n",
       "\n",
       "    function on_load() {\n",
       "      root._bokeh_is_loading--;\n",
       "      if (root._bokeh_is_loading === 0) {\n",
       "        console.debug(\"Bokeh: all BokehJS libraries/stylesheets loaded\");\n",
       "        run_callbacks()\n",
       "      }\n",
       "    }\n",
       "\n",
       "    function on_error() {\n",
       "      console.error(\"failed to load \" + url);\n",
       "    }\n",
       "\n",
       "    for (var i = 0; i < css_urls.length; i++) {\n",
       "      var url = css_urls[i];\n",
       "      const element = document.createElement(\"link\");\n",
       "      element.onload = on_load;\n",
       "      element.onerror = on_error;\n",
       "      element.rel = \"stylesheet\";\n",
       "      element.type = \"text/css\";\n",
       "      element.href = url;\n",
       "      console.debug(\"Bokeh: injecting link tag for BokehJS stylesheet: \", url);\n",
       "      document.body.appendChild(element);\n",
       "    }\n",
       "\n",
       "    for (var i = 0; i < js_urls.length; i++) {\n",
       "      var url = js_urls[i];\n",
       "      var element = document.createElement('script');\n",
       "      element.onload = on_load;\n",
       "      element.onerror = on_error;\n",
       "      element.async = false;\n",
       "      element.src = url;\n",
       "      console.debug(\"Bokeh: injecting script tag for BokehJS library: \", url);\n",
       "      document.head.appendChild(element);\n",
       "    }\n",
       "  };var element = document.getElementById(\"2804\");\n",
       "  if (element == null) {\n",
       "    console.error(\"Bokeh: ERROR: autoload.js configured with elementid '2804' but no matching script tag was found. \")\n",
       "    return false;\n",
       "  }\n",
       "\n",
       "  function inject_raw_css(css) {\n",
       "    const element = document.createElement(\"style\");\n",
       "    element.appendChild(document.createTextNode(css));\n",
       "    document.body.appendChild(element);\n",
       "  }\n",
       "\n",
       "  var js_urls = [\"https://cdn.pydata.org/bokeh/release/bokeh-1.3.4.min.js\", \"https://cdn.pydata.org/bokeh/release/bokeh-widgets-1.3.4.min.js\", \"https://cdn.pydata.org/bokeh/release/bokeh-tables-1.3.4.min.js\", \"https://cdn.pydata.org/bokeh/release/bokeh-gl-1.3.4.min.js\"];\n",
       "  var css_urls = [];\n",
       "\n",
       "  var inline_js = [\n",
       "    function(Bokeh) {\n",
       "      Bokeh.set_log_level(\"info\");\n",
       "    },\n",
       "    \n",
       "    function(Bokeh) {\n",
       "      \n",
       "    },\n",
       "    function(Bokeh) {} // ensure no trailing comma for IE\n",
       "  ];\n",
       "\n",
       "  function run_inline_js() {\n",
       "    \n",
       "    if ((root.Bokeh !== undefined) || (force === true)) {\n",
       "      for (var i = 0; i < inline_js.length; i++) {\n",
       "        inline_js[i].call(root, root.Bokeh);\n",
       "      }if (force === true) {\n",
       "        display_loaded();\n",
       "      }} else if (Date.now() < root._bokeh_timeout) {\n",
       "      setTimeout(run_inline_js, 100);\n",
       "    } else if (!root._bokeh_failed_load) {\n",
       "      console.log(\"Bokeh: BokehJS failed to load within specified timeout.\");\n",
       "      root._bokeh_failed_load = true;\n",
       "    } else if (force !== true) {\n",
       "      var cell = $(document.getElementById(\"2804\")).parents('.cell').data().cell;\n",
       "      cell.output_area.append_execute_result(NB_LOAD_WARNING)\n",
       "    }\n",
       "\n",
       "  }\n",
       "\n",
       "  if (root._bokeh_is_loading === 0) {\n",
       "    console.debug(\"Bokeh: BokehJS loaded, going straight to plotting\");\n",
       "    run_inline_js();\n",
       "  } else {\n",
       "    load_libs(css_urls, js_urls, function() {\n",
       "      console.debug(\"Bokeh: BokehJS plotting callback run at\", now());\n",
       "      run_inline_js();\n",
       "    });\n",
       "  }\n",
       "}(window));"
      ],
      "application/vnd.bokehjs_load.v0+json": "\n(function(root) {\n  function now() {\n    return new Date();\n  }\n\n  var force = true;\n\n  if (typeof root._bokeh_onload_callbacks === \"undefined\" || force === true) {\n    root._bokeh_onload_callbacks = [];\n    root._bokeh_is_loading = undefined;\n  }\n\n  \n\n  \n  if (typeof (root._bokeh_timeout) === \"undefined\" || force === true) {\n    root._bokeh_timeout = Date.now() + 5000;\n    root._bokeh_failed_load = false;\n  }\n\n  var NB_LOAD_WARNING = {'data': {'text/html':\n     \"<div style='background-color: #fdd'>\\n\"+\n     \"<p>\\n\"+\n     \"BokehJS does not appear to have successfully loaded. If loading BokehJS from CDN, this \\n\"+\n     \"may be due to a slow or bad network connection. Possible fixes:\\n\"+\n     \"</p>\\n\"+\n     \"<ul>\\n\"+\n     \"<li>re-rerun `output_notebook()` to attempt to load from CDN again, or</li>\\n\"+\n     \"<li>use INLINE resources instead, as so:</li>\\n\"+\n     \"</ul>\\n\"+\n     \"<code>\\n\"+\n     \"from bokeh.resources import INLINE\\n\"+\n     \"output_notebook(resources=INLINE)\\n\"+\n     \"</code>\\n\"+\n     \"</div>\"}};\n\n  function display_loaded() {\n    var el = document.getElementById(\"2804\");\n    if (el != null) {\n      el.textContent = \"BokehJS is loading...\";\n    }\n    if (root.Bokeh !== undefined) {\n      if (el != null) {\n        el.textContent = \"BokehJS \" + root.Bokeh.version + \" successfully loaded.\";\n      }\n    } else if (Date.now() < root._bokeh_timeout) {\n      setTimeout(display_loaded, 100)\n    }\n  }\n\n\n  function run_callbacks() {\n    try {\n      root._bokeh_onload_callbacks.forEach(function(callback) {\n        if (callback != null)\n          callback();\n      });\n    } finally {\n      delete root._bokeh_onload_callbacks\n    }\n    console.debug(\"Bokeh: all callbacks have finished\");\n  }\n\n  function load_libs(css_urls, js_urls, callback) {\n    if (css_urls == null) css_urls = [];\n    if (js_urls == null) js_urls = [];\n\n    root._bokeh_onload_callbacks.push(callback);\n    if (root._bokeh_is_loading > 0) {\n      console.debug(\"Bokeh: BokehJS is being loaded, scheduling callback at\", now());\n      return null;\n    }\n    if (js_urls == null || js_urls.length === 0) {\n      run_callbacks();\n      return null;\n    }\n    console.debug(\"Bokeh: BokehJS not loaded, scheduling load and callback at\", now());\n    root._bokeh_is_loading = css_urls.length + js_urls.length;\n\n    function on_load() {\n      root._bokeh_is_loading--;\n      if (root._bokeh_is_loading === 0) {\n        console.debug(\"Bokeh: all BokehJS libraries/stylesheets loaded\");\n        run_callbacks()\n      }\n    }\n\n    function on_error() {\n      console.error(\"failed to load \" + url);\n    }\n\n    for (var i = 0; i < css_urls.length; i++) {\n      var url = css_urls[i];\n      const element = document.createElement(\"link\");\n      element.onload = on_load;\n      element.onerror = on_error;\n      element.rel = \"stylesheet\";\n      element.type = \"text/css\";\n      element.href = url;\n      console.debug(\"Bokeh: injecting link tag for BokehJS stylesheet: \", url);\n      document.body.appendChild(element);\n    }\n\n    for (var i = 0; i < js_urls.length; i++) {\n      var url = js_urls[i];\n      var element = document.createElement('script');\n      element.onload = on_load;\n      element.onerror = on_error;\n      element.async = false;\n      element.src = url;\n      console.debug(\"Bokeh: injecting script tag for BokehJS library: \", url);\n      document.head.appendChild(element);\n    }\n  };var element = document.getElementById(\"2804\");\n  if (element == null) {\n    console.error(\"Bokeh: ERROR: autoload.js configured with elementid '2804' but no matching script tag was found. \")\n    return false;\n  }\n\n  function inject_raw_css(css) {\n    const element = document.createElement(\"style\");\n    element.appendChild(document.createTextNode(css));\n    document.body.appendChild(element);\n  }\n\n  var js_urls = [\"https://cdn.pydata.org/bokeh/release/bokeh-1.3.4.min.js\", \"https://cdn.pydata.org/bokeh/release/bokeh-widgets-1.3.4.min.js\", \"https://cdn.pydata.org/bokeh/release/bokeh-tables-1.3.4.min.js\", \"https://cdn.pydata.org/bokeh/release/bokeh-gl-1.3.4.min.js\"];\n  var css_urls = [];\n\n  var inline_js = [\n    function(Bokeh) {\n      Bokeh.set_log_level(\"info\");\n    },\n    \n    function(Bokeh) {\n      \n    },\n    function(Bokeh) {} // ensure no trailing comma for IE\n  ];\n\n  function run_inline_js() {\n    \n    if ((root.Bokeh !== undefined) || (force === true)) {\n      for (var i = 0; i < inline_js.length; i++) {\n        inline_js[i].call(root, root.Bokeh);\n      }if (force === true) {\n        display_loaded();\n      }} else if (Date.now() < root._bokeh_timeout) {\n      setTimeout(run_inline_js, 100);\n    } else if (!root._bokeh_failed_load) {\n      console.log(\"Bokeh: BokehJS failed to load within specified timeout.\");\n      root._bokeh_failed_load = true;\n    } else if (force !== true) {\n      var cell = $(document.getElementById(\"2804\")).parents('.cell').data().cell;\n      cell.output_area.append_execute_result(NB_LOAD_WARNING)\n    }\n\n  }\n\n  if (root._bokeh_is_loading === 0) {\n    console.debug(\"Bokeh: BokehJS loaded, going straight to plotting\");\n    run_inline_js();\n  } else {\n    load_libs(css_urls, js_urls, function() {\n      console.debug(\"Bokeh: BokehJS plotting callback run at\", now());\n      run_inline_js();\n    });\n  }\n}(window));"
     },
     "metadata": {},
     "output_type": "display_data"
    },
    {
     "data": {
      "text/html": [
       "\n",
       "\n",
       "\n",
       "\n",
       "\n",
       "\n",
       "  <div class=\"bk-root\" id=\"292e2802-ebbe-4e64-b84b-c280a294aa47\" data-root-id=\"2755\"></div>\n"
      ]
     },
     "metadata": {},
     "output_type": "display_data"
    },
    {
     "data": {
      "application/javascript": [
       "(function(root) {\n",
       "  function embed_document(root) {\n",
       "    \n",
       "  var docs_json = {\"4e21eaf2-1515-4c2c-9f78-9b6aea92036e\":{\"roots\":{\"references\":[{\"attributes\":{\"below\":[{\"id\":\"2764\",\"type\":\"MercatorAxis\"}],\"center\":[{\"id\":\"2772\",\"type\":\"Grid\"},{\"id\":\"2781\",\"type\":\"Grid\"}],\"left\":[{\"id\":\"2773\",\"type\":\"MercatorAxis\"}],\"renderers\":[{\"id\":\"2795\",\"type\":\"TileRenderer\"},{\"id\":\"2800\",\"type\":\"GlyphRenderer\"}],\"title\":{\"id\":\"2802\",\"type\":\"Title\"},\"toolbar\":{\"id\":\"2788\",\"type\":\"Toolbar\"},\"x_range\":{\"id\":\"2756\",\"type\":\"Range1d\"},\"x_scale\":{\"id\":\"2760\",\"type\":\"LinearScale\"},\"y_range\":{\"id\":\"2758\",\"type\":\"Range1d\"},\"y_scale\":{\"id\":\"2762\",\"type\":\"LinearScale\"}},\"id\":\"2755\",\"subtype\":\"Figure\",\"type\":\"Plot\"},{\"attributes\":{},\"id\":\"2884\",\"type\":\"Selection\"},{\"attributes\":{\"callback\":null,\"end\":5710927.521886856,\"start\":5696480.836269927},\"id\":\"2758\",\"type\":\"Range1d\"},{\"attributes\":{},\"id\":\"2783\",\"type\":\"WheelZoomTool\"},{\"attributes\":{},\"id\":\"2762\",\"type\":\"LinearScale\"},{\"attributes\":{\"formatter\":{\"id\":\"2767\",\"type\":\"MercatorTickFormatter\"},\"ticker\":{\"id\":\"2765\",\"type\":\"MercatorTicker\"}},\"id\":\"2764\",\"type\":\"MercatorAxis\"},{\"attributes\":{\"fill_alpha\":{\"value\":0.1},\"fill_color\":{\"value\":\"#1f77b4\"},\"line_alpha\":{\"value\":0.1},\"line_color\":{\"value\":\"#1f77b4\"},\"size\":{\"units\":\"screen\",\"value\":5},\"x\":{\"field\":\"x\"},\"y\":{\"field\":\"y\"}},\"id\":\"2799\",\"type\":\"Circle\"},{\"attributes\":{\"ticker\":{\"id\":\"2765\",\"type\":\"MercatorTicker\"}},\"id\":\"2772\",\"type\":\"Grid\"},{\"attributes\":{\"dimension\":\"lon\"},\"id\":\"2765\",\"type\":\"MercatorTicker\"},{\"attributes\":{\"dimension\":\"lat\"},\"id\":\"2774\",\"type\":\"MercatorTicker\"},{\"attributes\":{\"dimension\":\"lat\"},\"id\":\"2776\",\"type\":\"MercatorTickFormatter\"},{\"attributes\":{\"dimension\":1,\"ticker\":{\"id\":\"2774\",\"type\":\"MercatorTicker\"}},\"id\":\"2781\",\"type\":\"Grid\"},{\"attributes\":{\"dimension\":\"lon\"},\"id\":\"2767\",\"type\":\"MercatorTickFormatter\"},{\"attributes\":{\"bottom_units\":\"screen\",\"fill_alpha\":{\"value\":0.5},\"fill_color\":{\"value\":\"lightgrey\"},\"left_units\":\"screen\",\"level\":\"overlay\",\"line_alpha\":{\"value\":1.0},\"line_color\":{\"value\":\"black\"},\"line_dash\":[4,4],\"line_width\":{\"value\":2},\"render_mode\":\"css\",\"right_units\":\"screen\",\"top_units\":\"screen\"},\"id\":\"2882\",\"type\":\"BoxAnnotation\"},{\"attributes\":{\"callback\":null,\"end\":-13644858.232612623,\"start\":-13665127.619454736},\"id\":\"2756\",\"type\":\"Range1d\"},{\"attributes\":{\"fill_alpha\":{\"value\":0.1},\"fill_color\":{\"value\":\"blue\"},\"line_color\":{\"value\":\"blue\"},\"size\":{\"units\":\"screen\",\"value\":5},\"x\":{\"field\":\"x\"},\"y\":{\"field\":\"y\"}},\"id\":\"2798\",\"type\":\"Circle\"},{\"attributes\":{\"text\":\"AC Transit Buses - 10/13/2020  22:05\"},\"id\":\"2802\",\"type\":\"Title\"},{\"attributes\":{},\"id\":\"2760\",\"type\":\"LinearScale\"},{\"attributes\":{},\"id\":\"2883\",\"type\":\"UnionRenderers\"},{\"attributes\":{\"overlay\":{\"id\":\"2882\",\"type\":\"BoxAnnotation\"}},\"id\":\"2784\",\"type\":\"BoxZoomTool\"},{\"attributes\":{},\"id\":\"2787\",\"type\":\"HelpTool\"},{\"attributes\":{\"attribution\":\"&copy; <a href=\\\"https://www.openstreetmap.org/copyright\\\">OpenStreetMap</a> contributors,&copy; <a href=\\\"https://cartodb.com/attributions\\\">CartoDB</a>\",\"url\":\"https://tiles.basemaps.cartocdn.com/light_all/{z}/{x}/{y}.png\"},\"id\":\"1001\",\"type\":\"WMTSTileSource\"},{\"attributes\":{\"callback\":null,\"data\":{\"x\":[-13691304.063756302,-13645532.439108612,-13655085.87780849,-13643716.395199709,-13687549.42431108,-13634992.07519921,-13655125.785845941,-13644188.323048977,-13644232.127268605,-13657358.131254563,-13649505.042116806,-13657321.974683955,-13666007.588897506,-13651681.215710375,-13650092.886951838,-13675670.454656834,-13656449.964584772,-13671399.348434081,-13645532.439108612,-13657011.76065896,-13643716.395199709,-13656942.998609496,-13655085.87780849,-13656449.964584772,-13652289.142581549,-13684402.97890381,-13657358.131254563,-13657321.974683955,-13675670.454656834,-13656942.998609496,-13656152.285134444,-13633480.367646186,-13643589.324000971,-13651871.828074459,-13656152.285134444,-13655361.438075999,-13634992.07519921,-13656456.343191596,-13691304.063756302,-13655125.785845941,-13687549.42431108,-13651681.215710375,-13666007.588897506,-13649505.042116806,-13637304.782148236,-13644232.127268605,-13644009.633002356,-13651871.828074459,-13655361.438075999,-13657011.76065896,-13643360.863010013,-13652289.142581549,-13670161.820786878,-13684402.97890381,-13643589.324000971,-13644009.633002356,-13643360.863010013,-13656456.343191596,-13671399.348434081,-13670161.820786878,-13658182.351896344,-13655716.981397647,-13644069.489492558,-13657086.02189127,-13656501.550036808,-13691304.019228505,-13658182.351896344,-13657086.02189127,-13655776.771096151,-13656504.53339916,-13652608.751971565,-13656908.03315744,-13647086.793158561,-13656504.53339916,-13652608.751971565,-13655716.981397647,-13644069.489492558,-13656908.03315744,-13667142.691481227,-13667142.691481227,-13656501.550036808,-13655776.771096151,-13647086.793158561,-13691304.019228505,-13690634.58833867,-13670651.459567133,-13672945.197674928,-13654593.177742241,-13654520.040836789,-13654567.752370544,-13705144.226803496,-13671602.261601897,-13667699.945720188,-13643810.003759518,-13674516.372099934,-13674216.844746055,-13665853.099708185,-13656812.476506542,-13670222.144818941,-13656769.09530098,-13693793.601716453,-13667435.105519643,-13653344.017208252,-13663718.871298745,-13664665.30960947,-13670143.93174471,-13645313.540461916,-13656527.242575282,-13670166.963747354,-13655697.211056083,-13656935.395488277,-13666624.55491133,-13667716.120442202,-13662846.93912321,-13675892.114026902,-13677875.537922164,-13660890.053794555,-13690728.163502632,-13670267.162421016,-13667305.585292106,-13670208.47478547,-13643822.07079232,-13686412.150997287,-13665223.721571138,-13656842.365789821,-13674977.557618342,-13655358.788672121,-13645430.837809365,-13646426.156508498,-13645437.773013642,-13643997.85540023,-13643901.886867218,-13656251.971738448,-13656539.810545793,-13656659.991068054,-13654683.24634224,-13656654.580940802,-13650338.71378336,-13645401.304748457,-13662967.509263689,-13664320.330507504,-13682953.866300458,-13700349.429168252,-13670124.361778228,-13688106.322327673,-13651738.133366019,-13669371.307686908,-13676397.56017485,-13655194.247332778,-13670476.04231354,-13677546.143548904,-13656314.778195156,-13667684.205144191,-13657564.851548966,-13656132.325549746,-13672940.577916062,-13705140.731371483,-13654635.86876696,-13668046.294051895,-13665143.193051497,-13670171.338603342,-13654763.919577219,-13676556.602331344,-13666061.93507291,-13677543.638860362,-13644183.302539943,-13643057.216834977,-13624455.919166556,-13648326.391348286,-13644229.967670484,-13657305.310156181,-13645420.362645281,-13643738.981924392,-13679963.056673264,-13636173.197260423,-13645550.417206377,-13654638.763073722,-13650325.86751412,-13645431.127240043,-13640831.261165123,-13648753.746873444,-13625428.294918634,-13652209.905368002,-13645447.780635865,-13656129.431242986,-13648715.786927084,-13649129.394495124,-13627855.827922417,-13661914.59386002,-13648277.633411318,-13645328.056523517,-13652272.934463687,-13650259.754868537,-13643846.906170717,-13643724.85548101,-13658295.897776956,-13655192.087734658,-13652527.488743285,-13656338.500378642,-13650030.403321655,-13655306.312664162,-13651264.457800744,-13653038.845956193,-13656975.804463433,-13654068.028044425,-13656205.28434401,-13645422.845069928,-13645410.455210602,-13633372.064913591,-13635407.096524782,-13635066.458882956,-13638927.519761378,-13629291.08124916,-13656123.820740648,-13656959.685401168,-13649773.77849953,-13656774.204865608,-13674477.10971553,-13656786.450009594,-13682460.687560396,-13668025.399383474,-13652608.807631308,-13670202.118442547,-13633596.707646014,-13667665.169511264,-13643475.343974346,-13656159.966179308,-13641436.048826655,-13657897.752486184,-13628642.689743085,-13656161.379936842,-13638202.384598348,-13643087.195173847,-13653539.772532811,-13666622.484368803,-13655682.015945587,-13656579.974618072,-13640841.268787347,-13628511.533119034,-13644319.490804981,-13642039.95706421,-13633847.39913928,-13659671.751023415,-13659121.454252629,-13666233.689915258,-13654609.15208917,-13656283.753453072,-13670071.997089759,-13653390.893845826,-13670071.206721371,-13662467.061360879,-13640788.42542507,-13670973.573645692,-13643864.561441956,-13643102.913485948,-13656418.082682611,-13628697.05818239,-13625502.878977466,-13638990.637912653,-13628666.311739033,-13645437.761881694,-13643755.245701995,-13644232.494622923,-13623150.787192596,-13651297.408370018,-13640811.323844325,-13644272.413792323,-13648348.989204919,-13654155.58082393,-13644234.932519775,-13655662.234472074,-13625922.486666063,-13644429.318614595,-13655548.25444545,-13643854.921174053,-13644229.322017437,-13664394.636267608,-13656165.710265033,-13641976.037412597,-13646831.91605244,-13628687.295463048,-13659336.79067562,-13648085.573893856,-13634195.272548009,-13656801.589460341,-13649197.477495695,-13631150.016557867,-13650242.645062802,-13652277.364979424,-13656874.637310203,-13664656.73800868,-13662143.45560114,-13639617.411173617,-13659628.737172171,-13645440.856563536,-13647860.797578044,-13645430.29234386,-13653306.602727396,-13665861.136975419,-13661159.168663546,-13648775.45417415,-13655994.111269975,-13624453.147311237,-13649978.261272168,-13656600.101182008,-13648191.761556122,-13650312.509175224,-13649302.885921529,-13658188.530128084,-13659004.290488567,-13649239.211172791,-13651777.184243387,-13627559.91845199,-13649207.373798426,-13651462.818001388,-13658723.52046889,-13650111.833529172,-13651766.7536071,-13628707.611270117,-13651405.154505158,-13648741.79116013,-13643697.17032365,-13650044.652216477,-13648292.950973254,-13656185.324759312,-13665898.518060425,-13643743.089613602,-13650044.607688682,-13645034.985700104,-13656854.688857451],\"y\":[5704098.938553709,5705990.382783043,5705381.049744439,5704182.607268617,5704395.722935814,5704088.356884443,5705355.2274253005,5690383.898986839,5690601.953158821,5715174.0412528375,5705526.434766303,5717300.556691835,5701527.103399754,5689691.871944057,5705792.9139012825,5702096.811057942,5703441.88196155,5699244.856278865,5705990.382783043,5703797.937851339,5704182.607268617,5702147.213809491,5705381.049744439,5703441.88196155,5697012.48566748,5705385.975856872,5715174.0412528375,5717300.556691835,5702096.811057942,5702147.213809491,5706844.907911004,5703904.561960694,5712141.499928845,5692314.541276492,5706844.907911004,5705027.568538131,5704088.356884443,5703585.265397441,5704098.938553709,5705355.2274253005,5704395.722935814,5689691.871944057,5701527.103399754,5705526.434766303,5704121.960877418,5690601.953158821,5701607.317109764,5692314.541276492,5705027.568538131,5703797.937851339,5708117.971168547,5697012.48566748,5699275.091428219,5705385.975856872,5712141.499928845,5701607.317109764,5708117.971168547,5703585.265397441,5699244.856278865,5699275.091428219,5703444.249159713,5704561.922680655,5700893.0274360385,5702111.18685317,5703487.224242114,5704102.545221626,5703444.249159713,5702111.18685317,5700971.75835336,5703668.166698023,5705393.889423818,5712391.5576327555,5705886.43535719,5703668.166698023,5705393.889423818,5704561.922680655,5700893.0274360385,5712391.5576327555,5701784.997010776,5701784.997010776,5703487.224242114,5700971.75835336,5705886.43535719,5704102.545221626,5704007.580710799,5696916.43749747,5696146.025602008,5713538.582710597,5706043.39786603,5704225.633566691,5703533.361122444,5699442.117062678,5693099.682896364,5709827.8440657845,5701951.291187814,5707774.522654757,5716816.513883481,5718203.061678764,5699002.788211434,5702253.564070992,5703762.079008107,5702267.0187797295,5710652.3353388775,5681570.880949004,5714554.410018013,5699243.554137122,5708961.476468959,5703607.158383715,5699208.682216618,5704256.552888097,5712840.562686411,5689530.802170279,5691283.499893151,5695058.338549566,5709167.45690925,5703363.987193069,5698201.266362592,5704001.9244993925,5699074.467878711,5674457.429561494,5699086.52040909,5709821.055370066,5700920.282200056,5702564.330120056,5702767.859698345,5705434.077103861,5688065.317735843,5690831.133897664,5710539.238940082,5704874.866438568,5697268.264592556,5697230.653788605,5703965.667633741,5702872.708151685,5703181.271575238,5705582.959016397,5705802.464645708,5704348.707717871,5700082.410893919,5698527.10321215,5683885.530306086,5700417.924807752,5703895.902974252,5699175.318999176,5703969.687340347,5681385.059698508,5686439.677358705,5699441.49773768,5707023.915760991,5698534.804289998,5705937.74941463,5702792.324227475,5693034.0812080735,5695975.791461368,5704259.571738158,5695186.810261376,5703527.8323101755,5705377.887499503,5702193.439085126,5690647.547696377,5699202.1080173245,5693564.589529972,5711031.464374911,5685391.665343841,5705019.178594379,5697341.3909898745,5685948.153254242,5707548.467713932,5675248.942138636,5690450.09995753,5699879.498263625,5692134.066346352,5703140.02961345,5707843.030097745,5706095.53920614,5692174.067553369,5712855.035296529,5705855.001868256,5705979.608173339,5701083.351920441,5698672.630886988,5705335.157575864,5691507.843068566,5693380.693344388,5704259.651181596,5699041.025764847,5702491.939394462,5701061.893954458,5691045.787938064,5707215.244993957,5701337.039489389,5691896.712603916,5701342.566947048,5709906.765019389,5705343.055207202,5705315.453254461,5708073.972398869,5691914.419905643,5703735.625855292,5706113.338209322,5706697.48302517,5706168.642481105,5695896.390184603,5712840.403646868,5706055.173740995,5704085.512864358,5691702.3629896445,5698982.6849785745,5703815.017324365,5701311.117664603,5689004.133438891,5709198.933847724,5703613.100321027,5710543.341104131,5698551.556142035,5710561.005870839,5703103.236097798,5679656.559933552,5718271.044451101,5706016.445314515,5702182.621396112,5704824.559533575,5698457.190431413,5703643.270806978,5693007.088490481,5701273.855173116,5704978.4366310155,5703600.215536837,5703283.106355881,5701057.907321003,5705023.786706447,5701243.6132652,5707216.50061551,5709972.522414091,5689493.445944763,5701026.4749226635,5703150.832574262,5704608.653012536,5701018.549337898,5685050.388255006,5700029.256455466,5699014.348384761,5706580.05025901,5709675.441473841,5689229.640875739,5712020.163079994,5704415.4570077,5697004.785900127,5706124.367252291,5696417.654501032,5715312.426982132,5697479.611991994,5700125.687447774,5709886.605450836,5705720.226872951,5703526.18002212,5701079.174680981,5701481.866361438,5703616.881555919,5701066.515910212,5704869.527473756,5705474.75758086,5690469.073534719,5680619.75448645,5701344.409433691,5707393.688069424,5690510.685458946,5708248.84017703,5701354.6860687435,5690487.364989594,5701034.9087690795,5701345.902483493,5707500.593501771,5708066.978394751,5709803.0263999365,5690445.245520329,5691203.822927492,5704972.271326683,5700036.41886661,5704253.295708912,5706264.472245092,5709623.02486779,5678679.146485666,5706095.221367118,5703356.520261313,5683310.021838909,5701291.422210711,5703215.269329333,5691921.210887281,5718102.791217387,5714758.308361224,5713988.170338979,5698941.001879052,5706199.234789955,5696653.30254565,5703245.835644788,5690848.204496226,5705582.243919632,5716830.515607841,5715080.629314215,5699843.925106273,5704263.19435958,5707522.750392782,5702494.989419792,5702914.933830673,5678402.652679416,5698839.343568674,5699041.1845590165,5709896.478546151,5713934.26507362,5683387.139889184,5709214.561076046,5701040.372508102,5700191.611143856,5705459.407035362,5704388.064475206,5697279.854276977,5708926.630205176,5700262.85565571,5692093.621039546,5697232.30491387,5705465.127732464,5710672.766937174,5706168.213394919,5702997.145798147,5716814.715936375,5705424.8127867365,5710667.233705942,5672313.74417914,5712848.403339306]},\"selected\":{\"id\":\"2884\",\"type\":\"Selection\"},\"selection_policy\":{\"id\":\"2883\",\"type\":\"UnionRenderers\"}},\"id\":\"2797\",\"type\":\"ColumnDataSource\"},{\"attributes\":{\"source\":{\"id\":\"2797\",\"type\":\"ColumnDataSource\"}},\"id\":\"2801\",\"type\":\"CDSView\"},{\"attributes\":{},\"id\":\"2782\",\"type\":\"PanTool\"},{\"attributes\":{},\"id\":\"2786\",\"type\":\"ResetTool\"},{\"attributes\":{\"formatter\":{\"id\":\"2776\",\"type\":\"MercatorTickFormatter\"},\"ticker\":{\"id\":\"2774\",\"type\":\"MercatorTicker\"}},\"id\":\"2773\",\"type\":\"MercatorAxis\"},{\"attributes\":{},\"id\":\"2785\",\"type\":\"SaveTool\"},{\"attributes\":{\"active_drag\":\"auto\",\"active_inspect\":\"auto\",\"active_multi\":null,\"active_scroll\":\"auto\",\"active_tap\":\"auto\",\"tools\":[{\"id\":\"2782\",\"type\":\"PanTool\"},{\"id\":\"2783\",\"type\":\"WheelZoomTool\"},{\"id\":\"2784\",\"type\":\"BoxZoomTool\"},{\"id\":\"2785\",\"type\":\"SaveTool\"},{\"id\":\"2786\",\"type\":\"ResetTool\"},{\"id\":\"2787\",\"type\":\"HelpTool\"}]},\"id\":\"2788\",\"type\":\"Toolbar\"},{\"attributes\":{\"tile_source\":{\"id\":\"1001\",\"type\":\"WMTSTileSource\"}},\"id\":\"2795\",\"type\":\"TileRenderer\"},{\"attributes\":{\"data_source\":{\"id\":\"2797\",\"type\":\"ColumnDataSource\"},\"glyph\":{\"id\":\"2798\",\"type\":\"Circle\"},\"hover_glyph\":null,\"muted_glyph\":null,\"nonselection_glyph\":{\"id\":\"2799\",\"type\":\"Circle\"},\"selection_glyph\":null,\"view\":{\"id\":\"2801\",\"type\":\"CDSView\"}},\"id\":\"2800\",\"type\":\"GlyphRenderer\"}],\"root_ids\":[\"2755\"]},\"title\":\"Bokeh Application\",\"version\":\"1.3.4\"}};\n",
       "  var render_items = [{\"docid\":\"4e21eaf2-1515-4c2c-9f78-9b6aea92036e\",\"roots\":{\"2755\":\"292e2802-ebbe-4e64-b84b-c280a294aa47\"}}];\n",
       "  root.Bokeh.embed.embed_items_notebook(docs_json, render_items);\n",
       "\n",
       "  }\n",
       "  if (root.Bokeh !== undefined) {\n",
       "    embed_document(root);\n",
       "  } else {\n",
       "    var attempts = 0;\n",
       "    var timer = setInterval(function(root) {\n",
       "      if (root.Bokeh !== undefined) {\n",
       "        embed_document(root);\n",
       "        clearInterval(timer);\n",
       "      }\n",
       "      attempts++;\n",
       "      if (attempts > 100) {\n",
       "        console.log(\"Bokeh: ERROR: Unable to run BokehJS code because BokehJS library is missing\");\n",
       "        clearInterval(timer);\n",
       "      }\n",
       "    }, 10, root)\n",
       "  }\n",
       "})(window);"
      ],
      "application/vnd.bokehjs_exec.v0+json": ""
     },
     "metadata": {
      "application/vnd.bokehjs_exec.v0+json": {
       "id": "2755"
      }
     },
     "output_type": "display_data"
    }
   ],
   "source": [
    "plot_bokeh(x,y,1)"
   ]
  },
  {
   "cell_type": "code",
   "execution_count": 18,
   "metadata": {},
   "outputs": [],
   "source": [
    "try:\n",
    "    os.mkdir('data')\n",
    "    os.chdir('data')\n",
    "except FileExistsError:\n",
    "    pass"
   ]
  },
  {
   "cell_type": "code",
   "execution_count": 7,
   "metadata": {},
   "outputs": [
    {
     "ename": "NameError",
     "evalue": "name 'uniq' is not defined",
     "output_type": "error",
     "traceback": [
      "\u001b[0;31m---------------------------------------------------------------------------\u001b[0m",
      "\u001b[0;31mNameError\u001b[0m                                 Traceback (most recent call last)",
      "\u001b[0;32m<ipython-input-7-3c945c2cced5>\u001b[0m in \u001b[0;36m<module>\u001b[0;34m\u001b[0m\n\u001b[0;32m----> 1\u001b[0;31m \u001b[0;32mfor\u001b[0m \u001b[0mindex\u001b[0m\u001b[0;34m,\u001b[0m \u001b[0mval\u001b[0m \u001b[0;32min\u001b[0m \u001b[0menumerate\u001b[0m\u001b[0;34m(\u001b[0m\u001b[0muniq\u001b[0m\u001b[0;34m)\u001b[0m\u001b[0;34m:\u001b[0m\u001b[0;34m\u001b[0m\u001b[0;34m\u001b[0m\u001b[0m\n\u001b[0m\u001b[1;32m      2\u001b[0m     \u001b[0mitem\u001b[0m\u001b[0;34m=\u001b[0m\u001b[0mcsv_file\u001b[0m\u001b[0;34m[\u001b[0m\u001b[0mcsv_file\u001b[0m\u001b[0;34m.\u001b[0m\u001b[0mdatetime\u001b[0m\u001b[0;34m.\u001b[0m\u001b[0misin\u001b[0m\u001b[0;34m(\u001b[0m\u001b[0;34m[\u001b[0m\u001b[0mval\u001b[0m\u001b[0;34m]\u001b[0m\u001b[0;34m)\u001b[0m\u001b[0;34m]\u001b[0m\u001b[0;34m\u001b[0m\u001b[0;34m\u001b[0m\u001b[0m\n\u001b[1;32m      3\u001b[0m     \u001b[0m_merc\u001b[0m\u001b[0;34m=\u001b[0m\u001b[0;34m[\u001b[0m\u001b[0;34m]\u001b[0m\u001b[0;34m\u001b[0m\u001b[0;34m\u001b[0m\u001b[0m\n\u001b[1;32m      4\u001b[0m     \u001b[0;32mtry\u001b[0m\u001b[0;34m:\u001b[0m\u001b[0;34m\u001b[0m\u001b[0;34m\u001b[0m\u001b[0m\n\u001b[1;32m      5\u001b[0m         \u001b[0;32mfor\u001b[0m \u001b[0mi\u001b[0m\u001b[0;34m,\u001b[0m\u001b[0mrow\u001b[0m \u001b[0;32min\u001b[0m \u001b[0mitem\u001b[0m\u001b[0;34m.\u001b[0m\u001b[0miterrows\u001b[0m\u001b[0;34m(\u001b[0m\u001b[0;34m)\u001b[0m\u001b[0;34m:\u001b[0m\u001b[0;34m\u001b[0m\u001b[0;34m\u001b[0m\u001b[0m\n",
      "\u001b[0;31mNameError\u001b[0m: name 'uniq' is not defined"
     ]
    }
   ],
   "source": [
    "for index, val in enumerate(uniq):\n",
    "    item=csv_file[csv_file.datetime.isin([val])]\n",
    "    _merc=[]\n",
    "    try:\n",
    "        for i,row in item.iterrows():\n",
    "            _merc.append(mercator(float(row['latitude']),float(row['longitude'])))\n",
    "    except ValueError:\n",
    "        continue\n",
    "    x=[i[0] for i in _merc]\n",
    "    y=[i[1] for i in _merc]\n",
    "    if index==1:\n",
    "        break\n",
    "    plot_bokeh(x,y,index)"
   ]
  },
  {
   "cell_type": "code",
   "execution_count": 34,
   "metadata": {},
   "outputs": [],
   "source": [
    "# parallel computing\n",
    "import concurrent.futures\n",
    "\n",
    "\n",
    "def map_threads(func, _iterable):\n",
    "    \"\"\"Map function with iterable object in using thread pools.\"\"\"\n",
    "    with concurrent.futures.ThreadPoolExecutor() as executor:\n",
    "        result = executor.map(func, _iterable)\n",
    "    return result\n",
    "\n",
    "\n",
    "def map_processes(func, _iterable):\n",
    "    \"\"\"Map function with iterable object in using process pools.\"\"\"\n",
    "    with concurrent.futures.ProcessPoolExecutor() as executor:\n",
    "        result = executor.map(func, _iterable)\n",
    "    return result"
   ]
  },
  {
   "cell_type": "code",
   "execution_count": 152,
   "metadata": {},
   "outputs": [
    {
     "name": "stdout",
     "output_type": "stream",
     "text": [
      "<zip object at 0x7f84b5f45d20>\n"
     ]
    }
   ],
   "source": [
    "# parallel computing\n",
    "x=[]\n",
    "y=[]\n",
    "z=[i for i in uniq]\n",
    "for index, val in enumerate(uniq):\n",
    "    item=csv_file[csv_file.datetime.isin([val])]\n",
    "    _merc=[]\n",
    "    try:\n",
    "        for i,row in item.iterrows():\n",
    "            _merc.append(mercator(float(row['latitude']),float(row['longitude'])))\n",
    "    except ValueError:\n",
    "        continue\n",
    "    x.append([i[0] for i in _merc])\n",
    "    y.append([i[1] for i in _merc])\n",
    "    x.append(row['latitude'])\n",
    "    y.append(row['longitude'])\n",
    "    \n",
    "\n",
    "    \n",
    "args=zip(x,y,z)\n",
    "print(args)"
   ]
  },
  {
   "cell_type": "code",
   "execution_count": 180,
   "metadata": {},
   "outputs": [],
   "source": [
    "x=list(csv_file.latitude)\n",
    "y=list(csv_file.longitude)"
   ]
  },
  {
   "cell_type": "code",
   "execution_count": null,
   "metadata": {},
   "outputs": [],
   "source": []
  },
  {
   "cell_type": "code",
   "execution_count": 92,
   "metadata": {},
   "outputs": [],
   "source": [
    "import copy\n",
    "_args=copy.deepcopy(args)\n",
    "a,b,c=zip(*_args)"
   ]
  },
  {
   "cell_type": "code",
   "execution_count": 25,
   "metadata": {},
   "outputs": [
    {
     "data": {
      "text/plain": [
       "[(0, 0)]"
      ]
     },
     "execution_count": 25,
     "metadata": {},
     "output_type": "execute_result"
    }
   ],
   "source": [
    "list(zip(range(1),range(2)))"
   ]
  },
  {
   "cell_type": "code",
   "execution_count": 194,
   "metadata": {},
   "outputs": [
    {
     "ename": "ValueError",
     "evalue": "too many values to unpack (expected 2)",
     "output_type": "error",
     "traceback": [
      "\u001b[0;31m---------------------------------------------------------------------------\u001b[0m",
      "\u001b[0;31mValueError\u001b[0m                                Traceback (most recent call last)",
      "\u001b[0;32m<ipython-input-194-50247758337a>\u001b[0m in \u001b[0;36m<module>\u001b[0;34m\u001b[0m\n\u001b[1;32m      3\u001b[0m \u001b[0;31m# [x.extend(i) for i in a]\u001b[0m\u001b[0;34m\u001b[0m\u001b[0;34m\u001b[0m\u001b[0;34m\u001b[0m\u001b[0m\n\u001b[1;32m      4\u001b[0m \u001b[0;31m# [y.extend(i) for i in b]\u001b[0m\u001b[0;34m\u001b[0m\u001b[0;34m\u001b[0m\u001b[0;34m\u001b[0m\u001b[0m\n\u001b[0;32m----> 5\u001b[0;31m \u001b[0mx\u001b[0m\u001b[0;34m=\u001b[0m\u001b[0;34m[\u001b[0m\u001b[0mfloat\u001b[0m\u001b[0;34m(\u001b[0m\u001b[0mi\u001b[0m\u001b[0;34m)\u001b[0m\u001b[0;34m*\u001b[0m\u001b[0;36m100\u001b[0m \u001b[0;32mfor\u001b[0m \u001b[0mi\u001b[0m \u001b[0;32min\u001b[0m \u001b[0mx\u001b[0m \u001b[0;32mif\u001b[0m \u001b[0mi\u001b[0m \u001b[0;34m!=\u001b[0m\u001b[0;34m'latitude'\u001b[0m\u001b[0;34m]\u001b[0m\u001b[0;34m\u001b[0m\u001b[0;34m\u001b[0m\u001b[0m\n\u001b[0m\u001b[1;32m      6\u001b[0m \u001b[0my\u001b[0m\u001b[0;34m=\u001b[0m\u001b[0;34m[\u001b[0m\u001b[0mfloat\u001b[0m\u001b[0;34m(\u001b[0m\u001b[0mi\u001b[0m\u001b[0;34m)\u001b[0m\u001b[0;34m*\u001b[0m\u001b[0;36m100\u001b[0m \u001b[0;32mfor\u001b[0m \u001b[0mi\u001b[0m \u001b[0;32min\u001b[0m \u001b[0my\u001b[0m \u001b[0;32mif\u001b[0m \u001b[0mi\u001b[0m\u001b[0;34m!=\u001b[0m\u001b[0;34m'longitude'\u001b[0m\u001b[0;34m]\u001b[0m\u001b[0;34m\u001b[0m\u001b[0;34m\u001b[0m\u001b[0m\n\u001b[1;32m      7\u001b[0m \u001b[0;31m# x,y\u001b[0m\u001b[0;34m\u001b[0m\u001b[0;34m\u001b[0m\u001b[0;34m\u001b[0m\u001b[0m\n",
      "\u001b[0;32m<ipython-input-194-50247758337a>\u001b[0m in \u001b[0;36m<listcomp>\u001b[0;34m(.0)\u001b[0m\n\u001b[1;32m      3\u001b[0m \u001b[0;31m# [x.extend(i) for i in a]\u001b[0m\u001b[0;34m\u001b[0m\u001b[0;34m\u001b[0m\u001b[0;34m\u001b[0m\u001b[0m\n\u001b[1;32m      4\u001b[0m \u001b[0;31m# [y.extend(i) for i in b]\u001b[0m\u001b[0;34m\u001b[0m\u001b[0;34m\u001b[0m\u001b[0;34m\u001b[0m\u001b[0m\n\u001b[0;32m----> 5\u001b[0;31m \u001b[0mx\u001b[0m\u001b[0;34m=\u001b[0m\u001b[0;34m[\u001b[0m\u001b[0mfloat\u001b[0m\u001b[0;34m(\u001b[0m\u001b[0mi\u001b[0m\u001b[0;34m)\u001b[0m\u001b[0;34m*\u001b[0m\u001b[0;36m100\u001b[0m \u001b[0;32mfor\u001b[0m \u001b[0mi\u001b[0m \u001b[0;32min\u001b[0m \u001b[0mx\u001b[0m \u001b[0;32mif\u001b[0m \u001b[0mi\u001b[0m \u001b[0;34m!=\u001b[0m\u001b[0;34m'latitude'\u001b[0m\u001b[0;34m]\u001b[0m\u001b[0;34m\u001b[0m\u001b[0;34m\u001b[0m\u001b[0m\n\u001b[0m\u001b[1;32m      6\u001b[0m \u001b[0my\u001b[0m\u001b[0;34m=\u001b[0m\u001b[0;34m[\u001b[0m\u001b[0mfloat\u001b[0m\u001b[0;34m(\u001b[0m\u001b[0mi\u001b[0m\u001b[0;34m)\u001b[0m\u001b[0;34m*\u001b[0m\u001b[0;36m100\u001b[0m \u001b[0;32mfor\u001b[0m \u001b[0mi\u001b[0m \u001b[0;32min\u001b[0m \u001b[0my\u001b[0m \u001b[0;32mif\u001b[0m \u001b[0mi\u001b[0m\u001b[0;34m!=\u001b[0m\u001b[0;34m'longitude'\u001b[0m\u001b[0;34m]\u001b[0m\u001b[0;34m\u001b[0m\u001b[0;34m\u001b[0m\u001b[0m\n\u001b[1;32m      7\u001b[0m \u001b[0;31m# x,y\u001b[0m\u001b[0;34m\u001b[0m\u001b[0;34m\u001b[0m\u001b[0;34m\u001b[0m\u001b[0m\n",
      "\u001b[0;32m<ipython-input-190-386e41335f7f>\u001b[0m in \u001b[0;36m<genexpr>\u001b[0;34m(.0)\u001b[0m\n\u001b[0;32m----> 1\u001b[0;31m \u001b[0mx\u001b[0m\u001b[0;34m=\u001b[0m\u001b[0;34m(\u001b[0m\u001b[0mmercator\u001b[0m\u001b[0;34m(\u001b[0m\u001b[0mfloat\u001b[0m\u001b[0;34m(\u001b[0m\u001b[0mi\u001b[0m\u001b[0;34m)\u001b[0m\u001b[0;34m,\u001b[0m\u001b[0mfloat\u001b[0m\u001b[0;34m(\u001b[0m\u001b[0mj\u001b[0m\u001b[0;34m)\u001b[0m\u001b[0;34m)\u001b[0m \u001b[0;32mfor\u001b[0m \u001b[0mi\u001b[0m\u001b[0;34m,\u001b[0m\u001b[0mj\u001b[0m \u001b[0;32min\u001b[0m \u001b[0;34m(\u001b[0m\u001b[0mcsv_file\u001b[0m\u001b[0;34m.\u001b[0m\u001b[0mlatitude\u001b[0m\u001b[0;34m,\u001b[0m \u001b[0mcsv_file\u001b[0m\u001b[0;34m.\u001b[0m\u001b[0mlongitude\u001b[0m\u001b[0;34m)\u001b[0m\u001b[0;34m)\u001b[0m\u001b[0;34m\u001b[0m\u001b[0;34m\u001b[0m\u001b[0m\n\u001b[0m",
      "\u001b[0;31mValueError\u001b[0m: too many values to unpack (expected 2)"
     ]
    }
   ],
   "source": [
    "# x=[]\n",
    "# y=[]\n",
    "# [x.extend(i) for i in a]\n",
    "# [y.extend(i) for i in b]\n",
    "x=[float(i)*100 for i in x if i !='latitude']\n",
    "y=[float(i)*100 for i in y if i!='longitude']\n",
    "x,y"
   ]
  },
  {
   "cell_type": "code",
   "execution_count": 31,
   "metadata": {},
   "outputs": [],
   "source": [
    "%%bash\n",
    "mv *.png ./data"
   ]
  },
  {
   "cell_type": "code",
   "execution_count": 89,
   "metadata": {},
   "outputs": [
    {
     "ename": "NameError",
     "evalue": "name 'args' is not defined",
     "output_type": "error",
     "traceback": [
      "\u001b[0;31m---------------------------------------------------------------------------\u001b[0m",
      "\u001b[0;31mNameError\u001b[0m                                 Traceback (most recent call last)",
      "\u001b[0;32m<ipython-input-89-3b422b16a991>\u001b[0m in \u001b[0;36m<module>\u001b[0;34m\u001b[0m\n\u001b[1;32m      1\u001b[0m \u001b[0;32mimport\u001b[0m \u001b[0mcopy\u001b[0m\u001b[0;34m\u001b[0m\u001b[0;34m\u001b[0m\u001b[0m\n\u001b[0;32m----> 2\u001b[0;31m \u001b[0m_args\u001b[0m\u001b[0;34m=\u001b[0m\u001b[0mcopy\u001b[0m\u001b[0;34m.\u001b[0m\u001b[0mdeepcopy\u001b[0m\u001b[0;34m(\u001b[0m\u001b[0margs\u001b[0m\u001b[0;34m)\u001b[0m\u001b[0;34m\u001b[0m\u001b[0;34m\u001b[0m\u001b[0m\n\u001b[0m",
      "\u001b[0;31mNameError\u001b[0m: name 'args' is not defined"
     ]
    }
   ],
   "source": [
    "import copy\n",
    "_args=copy.deepcopy(args)"
   ]
  },
  {
   "cell_type": "code",
   "execution_count": 42,
   "metadata": {},
   "outputs": [],
   "source": [
    "def parallel_plot_bokeh(args): \n",
    "    # Set map boundaries (mercator) and axis type\n",
    "    x_list, y_list, count = args\n",
    "    fig_map = map_dimension['portland_big']\n",
    "    p = figure(x_range=fig_map['lat_range'],\n",
    "               y_range=fig_map['lon_range'],\n",
    "               x_axis_type=\"mercator\", y_axis_type=\"mercator\")\n",
    "    \n",
    "    # Tile Source for CartoDB Tile Service\n",
    "    p.add_tile(CARTODBPOSITRON)\n",
    "    # Set styling for Metro bus coordinate   \n",
    "#     p.square(x=y_list[1],\n",
    "#              y=x_list[1],\n",
    "#              color='blue',\n",
    "#              fill_alpha=0.01)\n",
    "    \n",
    "    p.circle(x=y_list,\n",
    "             y=x_list,\n",
    "             color='blue',\n",
    "             size=5,\n",
    "             fill_alpha=.1)\n",
    "\n",
    "    \n",
    "    # Set chart title - date + time\n",
    "    title = Title()\n",
    "    title.text = f\"AC Transit Buses - {datetime.datetime.now().strftime('%m/%d/%Y  %H:%M')}\"\n",
    "    p.title = title\n",
    "    \n",
    "#     # For displaying map in notebook - comment out to avoid cluttering\n",
    "#     output_notebook()\n",
    "#     show(p)\n",
    "    \n",
    "    # Export as .png\n",
    "    export_png(p, filename=\"plot{}.png\".format(count))\n",
    "    "
   ]
  },
  {
   "cell_type": "code",
   "execution_count": 44,
   "metadata": {},
   "outputs": [
    {
     "ename": "KeyboardInterrupt",
     "evalue": "",
     "output_type": "error",
     "traceback": [
      "\u001b[0;31m---------------------------------------------------------------------------\u001b[0m",
      "\u001b[0;31mKeyboardInterrupt\u001b[0m                         Traceback (most recent call last)",
      "\u001b[0;32m<ipython-input-44-dac179e1cc5b>\u001b[0m in \u001b[0;36m<module>\u001b[0;34m\u001b[0m\n\u001b[0;32m----> 1\u001b[0;31m \u001b[0mmap_processes\u001b[0m\u001b[0;34m(\u001b[0m\u001b[0mparallel_plot_bokeh\u001b[0m\u001b[0;34m,\u001b[0m\u001b[0margs\u001b[0m\u001b[0;34m)\u001b[0m\u001b[0;34m\u001b[0m\u001b[0;34m\u001b[0m\u001b[0m\n\u001b[0m",
      "\u001b[0;32m<ipython-input-34-7e11457c70ee>\u001b[0m in \u001b[0;36mmap_processes\u001b[0;34m(func, _iterable)\u001b[0m\n\u001b[1;32m     13\u001b[0m     \u001b[0;34m\"\"\"Map function with iterable object in using process pools.\"\"\"\u001b[0m\u001b[0;34m\u001b[0m\u001b[0;34m\u001b[0m\u001b[0m\n\u001b[1;32m     14\u001b[0m     \u001b[0;32mwith\u001b[0m \u001b[0mconcurrent\u001b[0m\u001b[0;34m.\u001b[0m\u001b[0mfutures\u001b[0m\u001b[0;34m.\u001b[0m\u001b[0mProcessPoolExecutor\u001b[0m\u001b[0;34m(\u001b[0m\u001b[0;34m)\u001b[0m \u001b[0;32mas\u001b[0m \u001b[0mexecutor\u001b[0m\u001b[0;34m:\u001b[0m\u001b[0;34m\u001b[0m\u001b[0;34m\u001b[0m\u001b[0m\n\u001b[0;32m---> 15\u001b[0;31m         \u001b[0mresult\u001b[0m \u001b[0;34m=\u001b[0m \u001b[0mexecutor\u001b[0m\u001b[0;34m.\u001b[0m\u001b[0mmap\u001b[0m\u001b[0;34m(\u001b[0m\u001b[0mfunc\u001b[0m\u001b[0;34m,\u001b[0m \u001b[0m_iterable\u001b[0m\u001b[0;34m)\u001b[0m\u001b[0;34m\u001b[0m\u001b[0;34m\u001b[0m\u001b[0m\n\u001b[0m\u001b[1;32m     16\u001b[0m     \u001b[0;32mreturn\u001b[0m \u001b[0mresult\u001b[0m\u001b[0;34m\u001b[0m\u001b[0;34m\u001b[0m\u001b[0m\n",
      "\u001b[0;32m/opt/anaconda3/lib/python3.7/concurrent/futures/_base.py\u001b[0m in \u001b[0;36m__exit__\u001b[0;34m(self, exc_type, exc_val, exc_tb)\u001b[0m\n\u001b[1;32m    621\u001b[0m \u001b[0;34m\u001b[0m\u001b[0m\n\u001b[1;32m    622\u001b[0m     \u001b[0;32mdef\u001b[0m \u001b[0m__exit__\u001b[0m\u001b[0;34m(\u001b[0m\u001b[0mself\u001b[0m\u001b[0;34m,\u001b[0m \u001b[0mexc_type\u001b[0m\u001b[0;34m,\u001b[0m \u001b[0mexc_val\u001b[0m\u001b[0;34m,\u001b[0m \u001b[0mexc_tb\u001b[0m\u001b[0;34m)\u001b[0m\u001b[0;34m:\u001b[0m\u001b[0;34m\u001b[0m\u001b[0;34m\u001b[0m\u001b[0m\n\u001b[0;32m--> 623\u001b[0;31m         \u001b[0mself\u001b[0m\u001b[0;34m.\u001b[0m\u001b[0mshutdown\u001b[0m\u001b[0;34m(\u001b[0m\u001b[0mwait\u001b[0m\u001b[0;34m=\u001b[0m\u001b[0;32mTrue\u001b[0m\u001b[0;34m)\u001b[0m\u001b[0;34m\u001b[0m\u001b[0;34m\u001b[0m\u001b[0m\n\u001b[0m\u001b[1;32m    624\u001b[0m         \u001b[0;32mreturn\u001b[0m \u001b[0;32mFalse\u001b[0m\u001b[0;34m\u001b[0m\u001b[0;34m\u001b[0m\u001b[0m\n\u001b[1;32m    625\u001b[0m \u001b[0;34m\u001b[0m\u001b[0m\n",
      "\u001b[0;32m/opt/anaconda3/lib/python3.7/concurrent/futures/process.py\u001b[0m in \u001b[0;36mshutdown\u001b[0;34m(self, wait)\u001b[0m\n\u001b[1;32m    679\u001b[0m             \u001b[0mself\u001b[0m\u001b[0;34m.\u001b[0m\u001b[0m_queue_management_thread_wakeup\u001b[0m\u001b[0;34m.\u001b[0m\u001b[0mwakeup\u001b[0m\u001b[0;34m(\u001b[0m\u001b[0;34m)\u001b[0m\u001b[0;34m\u001b[0m\u001b[0;34m\u001b[0m\u001b[0m\n\u001b[1;32m    680\u001b[0m             \u001b[0;32mif\u001b[0m \u001b[0mwait\u001b[0m\u001b[0;34m:\u001b[0m\u001b[0;34m\u001b[0m\u001b[0;34m\u001b[0m\u001b[0m\n\u001b[0;32m--> 681\u001b[0;31m                 \u001b[0mself\u001b[0m\u001b[0;34m.\u001b[0m\u001b[0m_queue_management_thread\u001b[0m\u001b[0;34m.\u001b[0m\u001b[0mjoin\u001b[0m\u001b[0;34m(\u001b[0m\u001b[0;34m)\u001b[0m\u001b[0;34m\u001b[0m\u001b[0;34m\u001b[0m\u001b[0m\n\u001b[0m\u001b[1;32m    682\u001b[0m         \u001b[0;31m# To reduce the risk of opening too many files, remove references to\u001b[0m\u001b[0;34m\u001b[0m\u001b[0;34m\u001b[0m\u001b[0;34m\u001b[0m\u001b[0m\n\u001b[1;32m    683\u001b[0m         \u001b[0;31m# objects that use file descriptors.\u001b[0m\u001b[0;34m\u001b[0m\u001b[0;34m\u001b[0m\u001b[0;34m\u001b[0m\u001b[0m\n",
      "\u001b[0;32m/opt/anaconda3/lib/python3.7/threading.py\u001b[0m in \u001b[0;36mjoin\u001b[0;34m(self, timeout)\u001b[0m\n\u001b[1;32m   1042\u001b[0m \u001b[0;34m\u001b[0m\u001b[0m\n\u001b[1;32m   1043\u001b[0m         \u001b[0;32mif\u001b[0m \u001b[0mtimeout\u001b[0m \u001b[0;32mis\u001b[0m \u001b[0;32mNone\u001b[0m\u001b[0;34m:\u001b[0m\u001b[0;34m\u001b[0m\u001b[0;34m\u001b[0m\u001b[0m\n\u001b[0;32m-> 1044\u001b[0;31m             \u001b[0mself\u001b[0m\u001b[0;34m.\u001b[0m\u001b[0m_wait_for_tstate_lock\u001b[0m\u001b[0;34m(\u001b[0m\u001b[0;34m)\u001b[0m\u001b[0;34m\u001b[0m\u001b[0;34m\u001b[0m\u001b[0m\n\u001b[0m\u001b[1;32m   1045\u001b[0m         \u001b[0;32melse\u001b[0m\u001b[0;34m:\u001b[0m\u001b[0;34m\u001b[0m\u001b[0;34m\u001b[0m\u001b[0m\n\u001b[1;32m   1046\u001b[0m             \u001b[0;31m# the behavior of a negative timeout isn't documented, but\u001b[0m\u001b[0;34m\u001b[0m\u001b[0;34m\u001b[0m\u001b[0;34m\u001b[0m\u001b[0m\n",
      "\u001b[0;32m/opt/anaconda3/lib/python3.7/threading.py\u001b[0m in \u001b[0;36m_wait_for_tstate_lock\u001b[0;34m(self, block, timeout)\u001b[0m\n\u001b[1;32m   1058\u001b[0m         \u001b[0;32mif\u001b[0m \u001b[0mlock\u001b[0m \u001b[0;32mis\u001b[0m \u001b[0;32mNone\u001b[0m\u001b[0;34m:\u001b[0m  \u001b[0;31m# already determined that the C code is done\u001b[0m\u001b[0;34m\u001b[0m\u001b[0;34m\u001b[0m\u001b[0m\n\u001b[1;32m   1059\u001b[0m             \u001b[0;32massert\u001b[0m \u001b[0mself\u001b[0m\u001b[0;34m.\u001b[0m\u001b[0m_is_stopped\u001b[0m\u001b[0;34m\u001b[0m\u001b[0;34m\u001b[0m\u001b[0m\n\u001b[0;32m-> 1060\u001b[0;31m         \u001b[0;32melif\u001b[0m \u001b[0mlock\u001b[0m\u001b[0;34m.\u001b[0m\u001b[0macquire\u001b[0m\u001b[0;34m(\u001b[0m\u001b[0mblock\u001b[0m\u001b[0;34m,\u001b[0m \u001b[0mtimeout\u001b[0m\u001b[0;34m)\u001b[0m\u001b[0;34m:\u001b[0m\u001b[0;34m\u001b[0m\u001b[0;34m\u001b[0m\u001b[0m\n\u001b[0m\u001b[1;32m   1061\u001b[0m             \u001b[0mlock\u001b[0m\u001b[0;34m.\u001b[0m\u001b[0mrelease\u001b[0m\u001b[0;34m(\u001b[0m\u001b[0;34m)\u001b[0m\u001b[0;34m\u001b[0m\u001b[0;34m\u001b[0m\u001b[0m\n\u001b[1;32m   1062\u001b[0m             \u001b[0mself\u001b[0m\u001b[0;34m.\u001b[0m\u001b[0m_stop\u001b[0m\u001b[0;34m(\u001b[0m\u001b[0;34m)\u001b[0m\u001b[0;34m\u001b[0m\u001b[0;34m\u001b[0m\u001b[0m\n",
      "\u001b[0;31mKeyboardInterrupt\u001b[0m: "
     ]
    }
   ],
   "source": [
    "map_processes(parallel_plot_bokeh,args)"
   ]
  },
  {
   "cell_type": "code",
   "execution_count": 43,
   "metadata": {},
   "outputs": [],
   "source": [
    "args=copy.deepcopy(_args)"
   ]
  },
  {
   "cell_type": "code",
   "execution_count": 66,
   "metadata": {},
   "outputs": [
    {
     "name": "stdout",
     "output_type": "stream",
     "text": [
      "       q   r  counts\n",
      "0    -27  10       1\n",
      "1    -27  16       1\n",
      "2    -25  12       1\n",
      "3    -25  19       1\n",
      "4    -24  -5       1\n",
      "...   ..  ..     ...\n",
      "1431  24 -10       1\n",
      "1432  24  -9       1\n",
      "1433  24  -8       2\n",
      "1434  25 -22       1\n",
      "1435  25  -8       1\n",
      "\n",
      "[1436 rows x 3 columns]\n"
     ]
    },
    {
     "data": {
      "text/html": [
       "\n",
       "\n",
       "\n",
       "\n",
       "\n",
       "\n",
       "  <div class=\"bk-root\" id=\"3eb06fe2-b15b-413b-b230-dec871fcdbb1\" data-root-id=\"2072\"></div>\n"
      ]
     },
     "metadata": {},
     "output_type": "display_data"
    },
    {
     "data": {
      "application/javascript": [
       "(function(root) {\n",
       "  function embed_document(root) {\n",
       "    \n",
       "  var docs_json = {\"4a163fdc-56e3-41da-b8c1-cfc8f32c16dc\":{\"roots\":{\"references\":[{\"attributes\":{\"background_fill_color\":{\"value\":\"#440154\"},\"below\":[{\"id\":\"2081\",\"type\":\"LinearAxis\"}],\"center\":[{\"id\":\"2085\",\"type\":\"Grid\"},{\"id\":\"2090\",\"type\":\"Grid\"}],\"left\":[{\"id\":\"2086\",\"type\":\"LinearAxis\"}],\"match_aspect\":true,\"renderers\":[{\"id\":\"2097\",\"type\":\"GlyphRenderer\"}],\"title\":{\"id\":\"2148\",\"type\":\"Title\"},\"toolbar\":{\"id\":\"2091\",\"type\":\"Toolbar\"},\"x_range\":{\"id\":\"2073\",\"type\":\"DataRange1d\"},\"x_scale\":{\"id\":\"2077\",\"type\":\"LinearScale\"},\"y_range\":{\"id\":\"2075\",\"type\":\"DataRange1d\"},\"y_scale\":{\"id\":\"2079\",\"type\":\"LinearScale\"}},\"id\":\"2072\",\"subtype\":\"Figure\",\"type\":\"Plot\"},{\"attributes\":{\"ticker\":{\"id\":\"2082\",\"type\":\"BasicTicker\"},\"visible\":false},\"id\":\"2085\",\"type\":\"Grid\"},{\"attributes\":{},\"id\":\"2082\",\"type\":\"BasicTicker\"},{\"attributes\":{\"formatter\":{\"id\":\"2149\",\"type\":\"BasicTickFormatter\"},\"ticker\":{\"id\":\"2082\",\"type\":\"BasicTicker\"}},\"id\":\"2081\",\"type\":\"LinearAxis\"},{\"attributes\":{},\"id\":\"2079\",\"type\":\"LinearScale\"},{\"attributes\":{\"callback\":null,\"data\":{\"counts\":[1,1,1,1,1,1,1,1,2,1,1,2,1,1,1,2,2,1,1,2,1,1,1,1,2,1,2,2,1,1,1,1,1,1,1,1,1,4,2,1,2,1,2,2,1,5,3,2,2,2,1,1,1,1,2,1,1,1,2,3,2,2,3,5,3,1,1,5,2,5,4,3,2,1,2,1,1,1,1,2,1,2,4,9,3,8,8,5,6,9,2,2,1,2,1,1,1,1,1,1,1,1,2,4,2,2,4,8,10,12,5,4,7,9,4,4,5,14,2,4,1,1,2,1,3,1,1,3,2,2,3,7,3,9,3,12,8,20,12,10,12,6,12,5,8,3,4,3,4,1,1,2,2,2,3,5,5,5,11,14,12,9,15,23,11,20,22,14,10,14,7,2,5,7,11,7,3,5,1,1,1,1,4,5,4,4,5,6,14,16,21,19,26,13,28,36,25,21,14,11,7,12,8,6,4,6,1,5,1,1,1,2,3,6,6,6,6,11,22,16,24,27,31,31,32,28,34,36,21,22,26,23,20,10,12,6,7,4,5,4,1,3,1,4,3,7,7,14,14,9,21,25,18,30,41,46,42,46,42,37,33,30,23,25,23,19,14,8,4,1,4,1,2,2,1,2,1,1,1,3,1,4,4,10,8,17,18,22,24,29,42,41,55,61,52,46,50,44,61,45,38,42,25,14,10,13,8,4,2,1,1,1,2,3,3,6,7,6,16,20,21,25,40,40,49,73,58,79,70,65,63,57,53,46,44,34,23,25,16,11,4,6,4,3,2,1,2,1,2,3,5,1,7,12,17,31,31,41,58,43,63,74,83,90,77,71,76,78,63,56,47,30,42,25,25,12,15,5,4,2,3,1,1,1,1,2,2,2,4,7,10,14,19,25,40,44,62,74,74,90,103,111,109,102,91,79,85,68,64,63,45,31,22,17,19,12,5,4,1,3,2,1,1,3,4,5,11,12,20,30,35,38,43,62,71,94,85,118,124,119,116,108,120,112,86,71,53,56,32,38,22,18,13,11,5,2,1,1,2,1,1,1,1,2,2,1,1,6,7,13,14,16,33,41,47,88,80,86,123,93,124,102,119,152,157,109,113,82,74,72,59,48,32,17,11,11,6,11,2,1,1,1,1,1,3,3,4,9,11,14,24,38,61,61,70,82,118,149,129,151,164,139,138,146,121,118,118,77,63,42,37,22,27,16,15,7,1,2,3,4,1,1,3,1,7,6,14,18,21,20,38,57,68,97,93,128,131,150,188,158,176,171,158,146,137,109,98,87,67,46,41,18,14,9,8,5,3,2,2,2,1,3,4,2,9,15,25,21,32,59,70,76,102,117,132,130,168,190,181,189,189,160,168,133,107,97,81,60,57,37,30,12,13,8,4,2,3,2,3,10,4,12,17,15,33,35,61,69,100,101,143,157,174,183,171,201,205,179,160,146,152,107,93,77,67,49,28,28,12,9,2,5,4,2,1,3,1,1,2,5,12,13,22,24,43,50,91,84,98,114,156,168,173,196,197,203,197,183,160,144,133,97,85,78,46,28,21,14,20,9,3,3,1,1,1,1,2,3,4,5,7,17,19,34,50,57,80,83,124,151,159,182,184,204,225,197,210,182,159,132,115,97,82,66,49,42,23,19,9,8,6,3,1,1,1,1,2,3,6,4,12,8,16,26,35,58,68,86,115,117,135,156,205,180,187,196,186,198,171,144,136,92,104,79,54,39,34,27,16,8,5,3,4,2,1,2,1,2,1,5,7,9,19,16,28,42,54,80,107,98,132,134,158,182,196,217,187,175,162,137,161,120,107,70,66,54,46,22,15,17,6,3,4,1,1,1,1,3,12,13,20,17,30,47,63,77,102,128,154,138,176,187,189,172,154,179,155,148,105,119,77,57,42,37,26,23,7,11,7,3,1,1,1,1,1,1,1,6,6,15,17,29,41,57,76,93,100,120,128,160,158,148,166,171,149,147,145,128,100,75,79,51,32,30,19,19,14,8,3,1,2,1,4,3,6,8,12,14,20,34,41,73,62,88,96,115,139,127,144,163,172,160,136,140,106,87,89,66,62,40,35,25,15,9,4,5,4,2,2,1,1,4,2,10,10,20,21,30,42,64,78,80,99,119,116,134,126,136,129,124,119,105,118,81,69,54,43,28,22,12,9,4,2,3,1,1,1,1,2,5,7,17,12,28,46,48,56,74,85,85,92,114,136,118,111,104,104,93,95,83,67,52,46,27,25,19,13,8,3,4,5,1,1,1,1,1,2,1,6,4,11,8,20,22,26,43,44,69,64,82,79,102,93,102,102,97,96,95,71,56,38,27,30,18,14,15,3,7,4,1,1,2,2,3,3,6,11,10,16,14,16,27,35,44,37,68,60,76,78,82,81,89,56,67,52,44,50,41,24,13,14,9,7,3,8,2,1,1,2,1,1,1,2,1,9,6,8,21,15,19,17,51,45,66,48,75,76,69,63,56,64,45,36,41,37,31,30,19,13,10,7,4,2,1,1,1,1,1,3,10,5,5,17,19,25,16,33,37,51,54,73,69,55,69,45,27,44,36,38,26,18,16,13,7,5,2,3,3,1,1,1,3,6,8,14,19,19,20,34,29,31,36,32,38,46,28,38,34,31,27,32,19,12,14,5,8,7,3,4,2,1,1,1,1,2,1,5,1,3,8,6,6,9,19,12,20,14,25,34,27,34,24,31,24,24,19,17,15,12,8,4,2,6,1,1,2,1,1,3,3,3,3,6,12,6,14,18,12,26,26,21,20,22,24,25,25,19,10,10,9,5,5,5,1,3,1,1,1,1,4,4,2,8,9,6,10,7,14,18,6,24,20,13,16,18,14,15,11,6,6,4,7,3,2,2,1,2,3,4,2,5,3,6,10,7,9,10,14,16,9,11,13,11,11,6,5,4,3,1,4,3,2,2,1,2,1,2,3,5,5,3,5,8,10,7,4,7,8,6,6,10,5,4,6,2,3,3,1,1,1,2,2,1,2,3,1,6,4,4,8,5,2,3,3,5,2,3,4,3,1,1,1,1,1,3,3,4,4,2,5,2,4,4,7,6,4,2,2,2,2,1,1,1,1,2,2,1,3,2,1,1,3,1,4,4,2,6,1,1,2,1,1,1,1,1,1,4,2,3,3,1,1,1,2,1,2,2,1,1,1,2,2,3,2,1,2,1,1,1,1,2,1,1,1,1,1,1,1,1,3,1,1,1,2,1,1],\"index\":[0,1,2,3,4,5,6,7,8,9,10,11,12,13,14,15,16,17,18,19,20,21,22,23,24,25,26,27,28,29,30,31,32,33,34,35,36,37,38,39,40,41,42,43,44,45,46,47,48,49,50,51,52,53,54,55,56,57,58,59,60,61,62,63,64,65,66,67,68,69,70,71,72,73,74,75,76,77,78,79,80,81,82,83,84,85,86,87,88,89,90,91,92,93,94,95,96,97,98,99,100,101,102,103,104,105,106,107,108,109,110,111,112,113,114,115,116,117,118,119,120,121,122,123,124,125,126,127,128,129,130,131,132,133,134,135,136,137,138,139,140,141,142,143,144,145,146,147,148,149,150,151,152,153,154,155,156,157,158,159,160,161,162,163,164,165,166,167,168,169,170,171,172,173,174,175,176,177,178,179,180,181,182,183,184,185,186,187,188,189,190,191,192,193,194,195,196,197,198,199,200,201,202,203,204,205,206,207,208,209,210,211,212,213,214,215,216,217,218,219,220,221,222,223,224,225,226,227,228,229,230,231,232,233,234,235,236,237,238,239,240,241,242,243,244,245,246,247,248,249,250,251,252,253,254,255,256,257,258,259,260,261,262,263,264,265,266,267,268,269,270,271,272,273,274,275,276,277,278,279,280,281,282,283,284,285,286,287,288,289,290,291,292,293,294,295,296,297,298,299,300,301,302,303,304,305,306,307,308,309,310,311,312,313,314,315,316,317,318,319,320,321,322,323,324,325,326,327,328,329,330,331,332,333,334,335,336,337,338,339,340,341,342,343,344,345,346,347,348,349,350,351,352,353,354,355,356,357,358,359,360,361,362,363,364,365,366,367,368,369,370,371,372,373,374,375,376,377,378,379,380,381,382,383,384,385,386,387,388,389,390,391,392,393,394,395,396,397,398,399,400,401,402,403,404,405,406,407,408,409,410,411,412,413,414,415,416,417,418,419,420,421,422,423,424,425,426,427,428,429,430,431,432,433,434,435,436,437,438,439,440,441,442,443,444,445,446,447,448,449,450,451,452,453,454,455,456,457,458,459,460,461,462,463,464,465,466,467,468,469,470,471,472,473,474,475,476,477,478,479,480,481,482,483,484,485,486,487,488,489,490,491,492,493,494,495,496,497,498,499,500,501,502,503,504,505,506,507,508,509,510,511,512,513,514,515,516,517,518,519,520,521,522,523,524,525,526,527,528,529,530,531,532,533,534,535,536,537,538,539,540,541,542,543,544,545,546,547,548,549,550,551,552,553,554,555,556,557,558,559,560,561,562,563,564,565,566,567,568,569,570,571,572,573,574,575,576,577,578,579,580,581,582,583,584,585,586,587,588,589,590,591,592,593,594,595,596,597,598,599,600,601,602,603,604,605,606,607,608,609,610,611,612,613,614,615,616,617,618,619,620,621,622,623,624,625,626,627,628,629,630,631,632,633,634,635,636,637,638,639,640,641,642,643,644,645,646,647,648,649,650,651,652,653,654,655,656,657,658,659,660,661,662,663,664,665,666,667,668,669,670,671,672,673,674,675,676,677,678,679,680,681,682,683,684,685,686,687,688,689,690,691,692,693,694,695,696,697,698,699,700,701,702,703,704,705,706,707,708,709,710,711,712,713,714,715,716,717,718,719,720,721,722,723,724,725,726,727,728,729,730,731,732,733,734,735,736,737,738,739,740,741,742,743,744,745,746,747,748,749,750,751,752,753,754,755,756,757,758,759,760,761,762,763,764,765,766,767,768,769,770,771,772,773,774,775,776,777,778,779,780,781,782,783,784,785,786,787,788,789,790,791,792,793,794,795,796,797,798,799,800,801,802,803,804,805,806,807,808,809,810,811,812,813,814,815,816,817,818,819,820,821,822,823,824,825,826,827,828,829,830,831,832,833,834,835,836,837,838,839,840,841,842,843,844,845,846,847,848,849,850,851,852,853,854,855,856,857,858,859,860,861,862,863,864,865,866,867,868,869,870,871,872,873,874,875,876,877,878,879,880,881,882,883,884,885,886,887,888,889,890,891,892,893,894,895,896,897,898,899,900,901,902,903,904,905,906,907,908,909,910,911,912,913,914,915,916,917,918,919,920,921,922,923,924,925,926,927,928,929,930,931,932,933,934,935,936,937,938,939,940,941,942,943,944,945,946,947,948,949,950,951,952,953,954,955,956,957,958,959,960,961,962,963,964,965,966,967,968,969,970,971,972,973,974,975,976,977,978,979,980,981,982,983,984,985,986,987,988,989,990,991,992,993,994,995,996,997,998,999,1000,1001,1002,1003,1004,1005,1006,1007,1008,1009,1010,1011,1012,1013,1014,1015,1016,1017,1018,1019,1020,1021,1022,1023,1024,1025,1026,1027,1028,1029,1030,1031,1032,1033,1034,1035,1036,1037,1038,1039,1040,1041,1042,1043,1044,1045,1046,1047,1048,1049,1050,1051,1052,1053,1054,1055,1056,1057,1058,1059,1060,1061,1062,1063,1064,1065,1066,1067,1068,1069,1070,1071,1072,1073,1074,1075,1076,1077,1078,1079,1080,1081,1082,1083,1084,1085,1086,1087,1088,1089,1090,1091,1092,1093,1094,1095,1096,1097,1098,1099,1100,1101,1102,1103,1104,1105,1106,1107,1108,1109,1110,1111,1112,1113,1114,1115,1116,1117,1118,1119,1120,1121,1122,1123,1124,1125,1126,1127,1128,1129,1130,1131,1132,1133,1134,1135,1136,1137,1138,1139,1140,1141,1142,1143,1144,1145,1146,1147,1148,1149,1150,1151,1152,1153,1154,1155,1156,1157,1158,1159,1160,1161,1162,1163,1164,1165,1166,1167,1168,1169,1170,1171,1172,1173,1174,1175,1176,1177,1178,1179,1180,1181,1182,1183,1184,1185,1186,1187,1188,1189,1190,1191,1192,1193,1194,1195,1196,1197,1198,1199,1200,1201,1202,1203,1204,1205,1206,1207,1208,1209,1210,1211,1212,1213,1214,1215,1216,1217,1218,1219,1220,1221,1222,1223,1224,1225,1226,1227,1228,1229,1230,1231,1232,1233,1234,1235,1236,1237,1238,1239,1240,1241,1242,1243,1244,1245,1246,1247,1248,1249,1250,1251,1252,1253,1254,1255,1256,1257,1258,1259,1260,1261,1262,1263,1264,1265,1266,1267,1268,1269,1270,1271,1272,1273,1274,1275,1276,1277,1278,1279,1280,1281,1282,1283,1284,1285,1286,1287,1288,1289,1290,1291,1292,1293,1294,1295,1296,1297,1298,1299,1300,1301,1302,1303,1304,1305,1306,1307,1308,1309,1310,1311,1312,1313,1314,1315,1316,1317,1318,1319,1320,1321,1322,1323,1324,1325,1326,1327,1328,1329,1330,1331,1332,1333,1334,1335,1336,1337,1338,1339,1340,1341,1342,1343,1344,1345,1346,1347,1348,1349,1350,1351,1352,1353,1354,1355,1356,1357,1358,1359,1360,1361,1362,1363,1364,1365,1366,1367,1368,1369,1370,1371,1372,1373,1374,1375,1376,1377,1378,1379,1380,1381,1382,1383,1384,1385,1386,1387,1388,1389,1390,1391,1392,1393,1394,1395,1396,1397,1398,1399,1400,1401,1402,1403,1404,1405,1406,1407,1408,1409,1410,1411,1412,1413,1414,1415,1416,1417,1418,1419,1420,1421,1422,1423,1424,1425,1426,1427,1428,1429,1430,1431,1432,1433,1434,1435],\"q\":[-27,-27,-25,-25,-24,-24,-24,-24,-24,-23,-23,-23,-23,-22,-22,-22,-22,-22,-22,-22,-22,-22,-22,-22,-21,-21,-21,-21,-21,-21,-21,-21,-21,-21,-21,-21,-20,-20,-20,-20,-20,-20,-20,-20,-20,-20,-20,-20,-20,-20,-20,-20,-20,-19,-19,-19,-19,-19,-19,-19,-19,-19,-19,-19,-19,-19,-19,-19,-19,-19,-19,-19,-19,-19,-19,-19,-19,-18,-18,-18,-18,-18,-18,-18,-18,-18,-18,-18,-18,-18,-18,-18,-18,-18,-18,-18,-18,-17,-17,-17,-17,-17,-17,-17,-17,-17,-17,-17,-17,-17,-17,-17,-17,-17,-17,-17,-17,-17,-17,-17,-17,-17,-17,-17,-17,-17,-16,-16,-16,-16,-16,-16,-16,-16,-16,-16,-16,-16,-16,-16,-16,-16,-16,-16,-16,-16,-16,-16,-16,-16,-15,-15,-15,-15,-15,-15,-15,-15,-15,-15,-15,-15,-15,-15,-15,-15,-15,-15,-15,-15,-15,-15,-15,-15,-15,-15,-15,-15,-15,-14,-14,-14,-14,-14,-14,-14,-14,-14,-14,-14,-14,-14,-14,-14,-14,-14,-14,-14,-14,-14,-14,-14,-14,-14,-14,-14,-14,-14,-14,-14,-13,-13,-13,-13,-13,-13,-13,-13,-13,-13,-13,-13,-13,-13,-13,-13,-13,-13,-13,-13,-13,-13,-13,-13,-13,-13,-13,-13,-13,-13,-13,-13,-13,-12,-12,-12,-12,-12,-12,-12,-12,-12,-12,-12,-12,-12,-12,-12,-12,-12,-12,-12,-12,-12,-12,-12,-12,-12,-12,-12,-12,-12,-12,-12,-12,-12,-11,-11,-11,-11,-11,-11,-11,-11,-11,-11,-11,-11,-11,-11,-11,-11,-11,-11,-11,-11,-11,-11,-11,-11,-11,-11,-11,-11,-11,-11,-11,-11,-11,-10,-10,-10,-10,-10,-10,-10,-10,-10,-10,-10,-10,-10,-10,-10,-10,-10,-10,-10,-10,-10,-10,-10,-10,-10,-10,-10,-10,-10,-10,-10,-10,-10,-10,-10,-10,-10,-10,-9,-9,-9,-9,-9,-9,-9,-9,-9,-9,-9,-9,-9,-9,-9,-9,-9,-9,-9,-9,-9,-9,-9,-9,-9,-9,-9,-9,-9,-9,-9,-9,-9,-9,-9,-8,-8,-8,-8,-8,-8,-8,-8,-8,-8,-8,-8,-8,-8,-8,-8,-8,-8,-8,-8,-8,-8,-8,-8,-8,-8,-8,-8,-8,-8,-8,-8,-8,-8,-8,-8,-8,-8,-8,-7,-7,-7,-7,-7,-7,-7,-7,-7,-7,-7,-7,-7,-7,-7,-7,-7,-7,-7,-7,-7,-7,-7,-7,-7,-7,-7,-7,-7,-7,-7,-7,-7,-7,-7,-7,-7,-7,-7,-7,-7,-6,-6,-6,-6,-6,-6,-6,-6,-6,-6,-6,-6,-6,-6,-6,-6,-6,-6,-6,-6,-6,-6,-6,-6,-6,-6,-6,-6,-6,-6,-6,-6,-6,-6,-6,-6,-6,-6,-6,-6,-5,-5,-5,-5,-5,-5,-5,-5,-5,-5,-5,-5,-5,-5,-5,-5,-5,-5,-5,-5,-5,-5,-5,-5,-5,-5,-5,-5,-5,-5,-5,-5,-5,-5,-5,-5,-5,-5,-5,-4,-4,-4,-4,-4,-4,-4,-4,-4,-4,-4,-4,-4,-4,-4,-4,-4,-4,-4,-4,-4,-4,-4,-4,-4,-4,-4,-4,-4,-4,-4,-4,-4,-4,-4,-4,-4,-4,-4,-3,-3,-3,-3,-3,-3,-3,-3,-3,-3,-3,-3,-3,-3,-3,-3,-3,-3,-3,-3,-3,-3,-3,-3,-3,-3,-3,-3,-3,-3,-3,-3,-3,-3,-3,-3,-3,-3,-2,-2,-2,-2,-2,-2,-2,-2,-2,-2,-2,-2,-2,-2,-2,-2,-2,-2,-2,-2,-2,-2,-2,-2,-2,-2,-2,-2,-2,-2,-2,-2,-2,-2,-2,-2,-1,-1,-1,-1,-1,-1,-1,-1,-1,-1,-1,-1,-1,-1,-1,-1,-1,-1,-1,-1,-1,-1,-1,-1,-1,-1,-1,-1,-1,-1,-1,-1,-1,-1,-1,-1,-1,-1,-1,-1,0,0,0,0,0,0,0,0,0,0,0,0,0,0,0,0,0,0,0,0,0,0,0,0,0,0,0,0,0,0,0,0,0,0,0,0,0,0,0,0,0,1,1,1,1,1,1,1,1,1,1,1,1,1,1,1,1,1,1,1,1,1,1,1,1,1,1,1,1,1,1,1,1,1,1,1,1,1,1,1,1,1,2,2,2,2,2,2,2,2,2,2,2,2,2,2,2,2,2,2,2,2,2,2,2,2,2,2,2,2,2,2,2,2,2,2,2,2,2,3,3,3,3,3,3,3,3,3,3,3,3,3,3,3,3,3,3,3,3,3,3,3,3,3,3,3,3,3,3,3,3,3,3,3,3,3,3,3,3,3,4,4,4,4,4,4,4,4,4,4,4,4,4,4,4,4,4,4,4,4,4,4,4,4,4,4,4,4,4,4,4,4,4,4,4,4,4,4,5,5,5,5,5,5,5,5,5,5,5,5,5,5,5,5,5,5,5,5,5,5,5,5,5,5,5,5,5,5,5,5,5,5,5,5,5,6,6,6,6,6,6,6,6,6,6,6,6,6,6,6,6,6,6,6,6,6,6,6,6,6,6,6,6,6,6,6,6,6,6,6,6,7,7,7,7,7,7,7,7,7,7,7,7,7,7,7,7,7,7,7,7,7,7,7,7,7,7,7,7,7,7,7,7,7,7,7,7,7,7,8,8,8,8,8,8,8,8,8,8,8,8,8,8,8,8,8,8,8,8,8,8,8,8,8,8,8,8,8,8,8,8,8,8,8,8,8,8,8,9,9,9,9,9,9,9,9,9,9,9,9,9,9,9,9,9,9,9,9,9,9,9,9,9,9,9,9,9,9,9,9,9,9,9,9,9,10,10,10,10,10,10,10,10,10,10,10,10,10,10,10,10,10,10,10,10,10,10,10,10,10,10,10,10,10,10,10,10,10,10,10,10,11,11,11,11,11,11,11,11,11,11,11,11,11,11,11,11,11,11,11,11,11,11,11,11,11,11,11,11,11,11,11,11,11,11,12,12,12,12,12,12,12,12,12,12,12,12,12,12,12,12,12,12,12,12,12,12,12,12,12,12,12,12,12,12,12,12,12,12,13,13,13,13,13,13,13,13,13,13,13,13,13,13,13,13,13,13,13,13,13,13,13,13,13,13,13,13,13,13,13,13,13,14,14,14,14,14,14,14,14,14,14,14,14,14,14,14,14,14,14,14,14,14,14,14,14,14,14,14,14,14,14,14,15,15,15,15,15,15,15,15,15,15,15,15,15,15,15,15,15,15,15,15,15,15,15,15,15,15,15,15,15,16,16,16,16,16,16,16,16,16,16,16,16,16,16,16,16,16,16,16,16,16,16,16,16,16,16,17,17,17,17,17,17,17,17,17,17,17,17,17,17,17,17,17,17,17,17,17,17,17,17,17,17,17,17,18,18,18,18,18,18,18,18,18,18,18,18,18,18,18,18,18,18,18,18,18,18,19,19,19,19,19,19,19,19,19,19,19,19,19,19,19,19,19,19,19,19,19,20,20,20,20,20,20,20,20,20,20,20,20,20,20,20,20,20,20,20,20,20,21,21,21,21,21,21,21,21,21,21,21,21,22,22,22,22,22,22,22,22,22,22,22,22,22,22,23,23,23,23,23,23,23,23,24,24,24,24,24,24,25,25],\"r\":[10,16,12,19,-5,3,5,8,18,5,9,14,18,-4,0,1,4,7,9,10,14,15,17,21,0,3,7,8,10,11,13,14,16,17,19,25,-4,0,2,3,4,5,7,8,9,10,11,12,13,14,15,16,17,-6,-5,-3,-2,0,1,2,3,4,5,6,7,8,9,10,11,12,13,14,15,16,17,20,22,-1,0,3,4,5,6,7,8,9,10,11,12,13,14,15,17,18,19,20,22,-7,-6,-4,-3,-2,-1,0,1,2,3,4,5,6,7,8,9,10,11,12,13,14,15,16,18,19,20,21,22,23,-4,-3,-2,-1,0,1,2,3,4,5,6,7,8,9,10,11,12,13,14,15,16,17,18,19,-9,-7,-6,-5,-3,-2,-1,0,1,2,3,4,5,6,7,8,9,10,11,12,13,14,15,16,17,18,19,20,21,-10,-8,-6,-5,-4,-3,-2,-1,0,1,2,3,4,5,6,7,8,9,10,11,12,13,14,15,16,17,18,19,21,22,23,-13,-8,-7,-6,-5,-4,-3,-2,-1,0,1,2,3,4,5,6,7,8,9,10,11,12,13,14,15,16,17,18,19,20,21,23,24,-9,-7,-6,-5,-4,-3,-2,-1,0,1,2,3,4,5,6,7,8,9,10,11,12,13,14,15,16,17,18,19,20,21,22,24,26,-15,-13,-12,-10,-9,-8,-7,-6,-5,-4,-3,-2,-1,0,1,2,3,4,5,6,7,8,9,10,11,12,13,14,15,16,17,18,19,-17,-13,-12,-11,-10,-9,-8,-7,-6,-5,-4,-3,-2,-1,0,1,2,3,4,5,6,7,8,9,10,11,12,13,14,15,16,17,18,19,20,21,23,25,-13,-12,-11,-10,-9,-8,-7,-6,-5,-4,-3,-2,-1,0,1,2,3,4,5,6,7,8,9,10,11,12,13,14,15,16,17,18,19,20,26,-19,-15,-14,-13,-12,-11,-10,-9,-8,-7,-6,-5,-4,-3,-2,-1,0,1,2,3,4,5,6,7,8,9,10,11,12,13,14,15,16,17,18,19,20,21,23,-15,-14,-13,-12,-11,-10,-9,-8,-7,-6,-5,-4,-3,-2,-1,0,1,2,3,4,5,6,7,8,9,10,11,12,13,14,15,16,17,18,19,20,21,22,23,24,25,-17,-16,-15,-14,-13,-12,-11,-10,-9,-8,-7,-6,-5,-4,-3,-2,-1,0,1,2,3,4,5,6,7,8,9,10,11,12,13,14,15,16,17,18,19,20,21,23,-18,-17,-14,-13,-12,-11,-10,-9,-8,-7,-6,-5,-4,-3,-2,-1,0,1,2,3,4,5,6,7,8,9,10,11,12,13,14,15,16,17,19,20,21,22,24,-24,-17,-15,-14,-13,-12,-11,-10,-9,-8,-7,-6,-5,-4,-3,-2,-1,0,1,2,3,4,5,6,7,8,9,10,11,12,13,14,15,16,17,18,19,20,21,-19,-16,-15,-14,-13,-12,-11,-10,-9,-8,-7,-6,-5,-4,-3,-2,-1,0,1,2,3,4,5,6,7,8,9,10,11,12,13,14,15,16,17,18,19,21,-16,-15,-14,-13,-12,-11,-10,-9,-8,-7,-6,-5,-4,-3,-2,-1,0,1,2,3,4,5,6,7,8,9,10,11,12,13,14,15,16,17,18,21,-20,-19,-18,-17,-16,-15,-14,-13,-12,-11,-10,-9,-8,-7,-6,-5,-4,-3,-2,-1,0,1,2,3,4,5,6,7,8,9,10,11,12,13,14,15,16,17,19,20,-22,-21,-18,-17,-16,-15,-14,-13,-12,-11,-10,-9,-8,-7,-6,-5,-4,-3,-2,-1,0,1,2,3,4,5,6,7,8,9,10,11,12,13,14,15,16,17,18,19,21,-20,-19,-18,-17,-16,-15,-14,-13,-12,-11,-10,-9,-8,-7,-6,-5,-4,-3,-2,-1,0,1,2,3,4,5,6,7,8,9,10,11,12,13,14,15,16,17,18,19,21,-23,-19,-18,-17,-16,-15,-14,-13,-12,-11,-10,-9,-8,-7,-6,-5,-4,-3,-2,-1,0,1,2,3,4,5,6,7,8,9,10,11,12,13,14,15,17,-21,-20,-19,-18,-17,-16,-15,-14,-13,-12,-11,-10,-9,-8,-7,-6,-5,-4,-3,-2,-1,0,1,2,3,4,5,6,7,8,9,10,11,12,13,14,15,16,17,18,20,-22,-20,-18,-17,-16,-15,-14,-13,-12,-11,-10,-9,-8,-7,-6,-5,-4,-3,-2,-1,0,1,2,3,4,5,6,7,8,9,10,11,12,13,14,15,16,17,-20,-19,-18,-17,-16,-15,-14,-13,-12,-11,-10,-9,-8,-7,-6,-5,-4,-3,-2,-1,0,1,2,3,4,5,6,7,8,9,10,11,12,13,14,15,18,-21,-20,-19,-18,-17,-16,-15,-14,-13,-12,-11,-10,-9,-8,-7,-6,-5,-4,-3,-2,-1,0,1,2,3,4,5,6,7,8,9,10,11,12,13,15,-29,-24,-21,-19,-18,-17,-16,-15,-14,-13,-12,-11,-10,-9,-8,-7,-6,-5,-4,-3,-2,-1,0,1,2,3,4,5,6,7,8,9,10,11,12,13,14,16,-26,-23,-22,-21,-20,-19,-18,-17,-16,-15,-14,-13,-12,-11,-10,-9,-8,-7,-6,-5,-4,-3,-2,-1,0,1,2,3,4,5,6,7,8,9,10,11,12,14,16,-22,-21,-20,-19,-18,-17,-16,-15,-14,-13,-12,-11,-10,-9,-8,-7,-6,-5,-4,-3,-2,-1,0,1,2,3,4,5,6,7,8,9,10,11,12,13,15,-23,-22,-21,-20,-19,-18,-17,-16,-15,-14,-13,-12,-11,-10,-9,-8,-7,-6,-5,-4,-3,-2,-1,0,1,2,3,4,5,6,7,8,9,12,13,14,-26,-22,-21,-19,-18,-17,-16,-15,-14,-13,-12,-11,-10,-9,-8,-7,-6,-5,-4,-3,-2,-1,0,1,2,3,4,5,6,7,8,9,11,12,-26,-20,-19,-18,-17,-16,-15,-14,-13,-12,-11,-10,-9,-8,-7,-6,-5,-4,-3,-2,-1,0,1,2,3,4,5,6,7,8,9,10,12,16,-24,-23,-22,-21,-20,-19,-18,-17,-16,-15,-14,-13,-12,-11,-10,-9,-8,-7,-6,-5,-4,-3,-2,-1,0,1,2,3,4,5,8,10,12,-25,-24,-22,-19,-18,-17,-16,-15,-14,-13,-12,-11,-10,-9,-8,-7,-6,-5,-4,-3,-2,-1,0,1,2,3,4,5,6,7,11,-24,-21,-20,-19,-18,-17,-16,-15,-14,-13,-12,-11,-10,-9,-8,-7,-6,-5,-4,-3,-2,-1,0,1,2,3,5,9,12,-20,-19,-18,-17,-16,-15,-14,-13,-12,-11,-10,-9,-8,-7,-6,-5,-4,-3,-2,-1,0,1,2,3,4,6,-23,-21,-20,-19,-18,-17,-16,-15,-14,-13,-12,-11,-10,-9,-8,-7,-6,-5,-4,-3,-2,-1,0,1,2,4,5,8,-21,-17,-16,-15,-14,-13,-12,-11,-10,-9,-8,-7,-6,-5,-4,-3,-2,-1,0,1,3,6,-21,-19,-18,-15,-14,-12,-11,-10,-9,-8,-7,-6,-5,-4,-3,-2,-1,0,2,5,11,-23,-22,-19,-16,-15,-14,-13,-12,-11,-10,-9,-8,-7,-6,-5,-3,-2,1,2,3,6,-20,-19,-15,-14,-13,-12,-10,-9,-8,-7,-5,-4,-23,-19,-17,-14,-12,-10,-9,-8,-7,-6,-5,-4,-3,-2,-19,-18,-15,-13,-12,-11,-10,3,-16,-13,-11,-10,-9,-8,-22,-8]},\"selected\":{\"id\":\"2154\",\"type\":\"Selection\"},\"selection_policy\":{\"id\":\"2153\",\"type\":\"UnionRenderers\"}},\"id\":\"2093\",\"type\":\"ColumnDataSource\"},{\"attributes\":{},\"id\":\"2154\",\"type\":\"Selection\"},{\"attributes\":{\"fill_color\":{\"field\":\"counts\",\"transform\":{\"id\":\"2092\",\"type\":\"LinearColorMapper\"}},\"q\":{\"field\":\"q\"},\"r\":{\"field\":\"r\"},\"size\":0.1},\"id\":\"2095\",\"type\":\"HexTile\"},{\"attributes\":{\"source\":{\"id\":\"2093\",\"type\":\"ColumnDataSource\"}},\"id\":\"2098\",\"type\":\"CDSView\"},{\"attributes\":{},\"id\":\"2077\",\"type\":\"LinearScale\"},{\"attributes\":{\"high\":225,\"low\":0,\"palette\":[\"#440154\",\"#440255\",\"#440357\",\"#450558\",\"#45065A\",\"#45085B\",\"#46095C\",\"#460B5E\",\"#460C5F\",\"#460E61\",\"#470F62\",\"#471163\",\"#471265\",\"#471466\",\"#471567\",\"#471669\",\"#47186A\",\"#48196B\",\"#481A6C\",\"#481C6E\",\"#481D6F\",\"#481E70\",\"#482071\",\"#482172\",\"#482273\",\"#482374\",\"#472575\",\"#472676\",\"#472777\",\"#472878\",\"#472A79\",\"#472B7A\",\"#472C7B\",\"#462D7C\",\"#462F7C\",\"#46307D\",\"#46317E\",\"#45327F\",\"#45347F\",\"#453580\",\"#453681\",\"#443781\",\"#443982\",\"#433A83\",\"#433B83\",\"#433C84\",\"#423D84\",\"#423E85\",\"#424085\",\"#414186\",\"#414286\",\"#404387\",\"#404487\",\"#3F4587\",\"#3F4788\",\"#3E4888\",\"#3E4989\",\"#3D4A89\",\"#3D4B89\",\"#3D4C89\",\"#3C4D8A\",\"#3C4E8A\",\"#3B508A\",\"#3B518A\",\"#3A528B\",\"#3A538B\",\"#39548B\",\"#39558B\",\"#38568B\",\"#38578C\",\"#37588C\",\"#37598C\",\"#365A8C\",\"#365B8C\",\"#355C8C\",\"#355D8C\",\"#345E8D\",\"#345F8D\",\"#33608D\",\"#33618D\",\"#32628D\",\"#32638D\",\"#31648D\",\"#31658D\",\"#31668D\",\"#30678D\",\"#30688D\",\"#2F698D\",\"#2F6A8D\",\"#2E6B8E\",\"#2E6C8E\",\"#2E6D8E\",\"#2D6E8E\",\"#2D6F8E\",\"#2C708E\",\"#2C718E\",\"#2C728E\",\"#2B738E\",\"#2B748E\",\"#2A758E\",\"#2A768E\",\"#2A778E\",\"#29788E\",\"#29798E\",\"#287A8E\",\"#287A8E\",\"#287B8E\",\"#277C8E\",\"#277D8E\",\"#277E8E\",\"#267F8E\",\"#26808E\",\"#26818E\",\"#25828E\",\"#25838D\",\"#24848D\",\"#24858D\",\"#24868D\",\"#23878D\",\"#23888D\",\"#23898D\",\"#22898D\",\"#228A8D\",\"#228B8D\",\"#218C8D\",\"#218D8C\",\"#218E8C\",\"#208F8C\",\"#20908C\",\"#20918C\",\"#1F928C\",\"#1F938B\",\"#1F948B\",\"#1F958B\",\"#1F968B\",\"#1E978A\",\"#1E988A\",\"#1E998A\",\"#1E998A\",\"#1E9A89\",\"#1E9B89\",\"#1E9C89\",\"#1E9D88\",\"#1E9E88\",\"#1E9F88\",\"#1EA087\",\"#1FA187\",\"#1FA286\",\"#1FA386\",\"#20A485\",\"#20A585\",\"#21A685\",\"#21A784\",\"#22A784\",\"#23A883\",\"#23A982\",\"#24AA82\",\"#25AB81\",\"#26AC81\",\"#27AD80\",\"#28AE7F\",\"#29AF7F\",\"#2AB07E\",\"#2BB17D\",\"#2CB17D\",\"#2EB27C\",\"#2FB37B\",\"#30B47A\",\"#32B57A\",\"#33B679\",\"#35B778\",\"#36B877\",\"#38B976\",\"#39B976\",\"#3BBA75\",\"#3DBB74\",\"#3EBC73\",\"#40BD72\",\"#42BE71\",\"#44BE70\",\"#45BF6F\",\"#47C06E\",\"#49C16D\",\"#4BC26C\",\"#4DC26B\",\"#4FC369\",\"#51C468\",\"#53C567\",\"#55C666\",\"#57C665\",\"#59C764\",\"#5BC862\",\"#5EC961\",\"#60C960\",\"#62CA5F\",\"#64CB5D\",\"#67CC5C\",\"#69CC5B\",\"#6BCD59\",\"#6DCE58\",\"#70CE56\",\"#72CF55\",\"#74D054\",\"#77D052\",\"#79D151\",\"#7CD24F\",\"#7ED24E\",\"#81D34C\",\"#83D34B\",\"#86D449\",\"#88D547\",\"#8BD546\",\"#8DD644\",\"#90D643\",\"#92D741\",\"#95D73F\",\"#97D83E\",\"#9AD83C\",\"#9DD93A\",\"#9FD938\",\"#A2DA37\",\"#A5DA35\",\"#A7DB33\",\"#AADB32\",\"#ADDC30\",\"#AFDC2E\",\"#B2DD2C\",\"#B5DD2B\",\"#B7DD29\",\"#BADE27\",\"#BDDE26\",\"#BFDF24\",\"#C2DF22\",\"#C5DF21\",\"#C7E01F\",\"#CAE01E\",\"#CDE01D\",\"#CFE11C\",\"#D2E11B\",\"#D4E11A\",\"#D7E219\",\"#DAE218\",\"#DCE218\",\"#DFE318\",\"#E1E318\",\"#E4E318\",\"#E7E419\",\"#E9E419\",\"#ECE41A\",\"#EEE51B\",\"#F1E51C\",\"#F3E51E\",\"#F6E61F\",\"#F8E621\",\"#FAE622\",\"#FDE724\"]},\"id\":\"2092\",\"type\":\"LinearColorMapper\"},{\"attributes\":{\"dimension\":1,\"ticker\":{\"id\":\"2087\",\"type\":\"BasicTicker\"},\"visible\":false},\"id\":\"2090\",\"type\":\"Grid\"},{\"attributes\":{},\"id\":\"2149\",\"type\":\"BasicTickFormatter\"},{\"attributes\":{\"callback\":null},\"id\":\"2075\",\"type\":\"DataRange1d\"},{\"attributes\":{\"data_source\":{\"id\":\"2093\",\"type\":\"ColumnDataSource\"},\"glyph\":{\"id\":\"2095\",\"type\":\"HexTile\"},\"hover_glyph\":null,\"muted_glyph\":null,\"nonselection_glyph\":{\"id\":\"2096\",\"type\":\"HexTile\"},\"selection_glyph\":null,\"view\":{\"id\":\"2098\",\"type\":\"CDSView\"}},\"id\":\"2097\",\"type\":\"GlyphRenderer\"},{\"attributes\":{\"active_drag\":\"auto\",\"active_inspect\":\"auto\",\"active_multi\":null,\"active_scroll\":\"auto\",\"active_tap\":\"auto\"},\"id\":\"2091\",\"type\":\"Toolbar\"},{\"attributes\":{\"fill_alpha\":{\"value\":0.1},\"fill_color\":{\"value\":\"#1f77b4\"},\"line_alpha\":{\"value\":0.1},\"line_color\":{\"value\":\"#1f77b4\"},\"q\":{\"field\":\"q\"},\"r\":{\"field\":\"r\"},\"size\":0.1},\"id\":\"2096\",\"type\":\"HexTile\"},{\"attributes\":{\"formatter\":{\"id\":\"2151\",\"type\":\"BasicTickFormatter\"},\"ticker\":{\"id\":\"2087\",\"type\":\"BasicTicker\"}},\"id\":\"2086\",\"type\":\"LinearAxis\"},{\"attributes\":{},\"id\":\"2151\",\"type\":\"BasicTickFormatter\"},{\"attributes\":{\"callback\":null},\"id\":\"2073\",\"type\":\"DataRange1d\"},{\"attributes\":{},\"id\":\"2087\",\"type\":\"BasicTicker\"},{\"attributes\":{\"text\":\"\"},\"id\":\"2148\",\"type\":\"Title\"},{\"attributes\":{},\"id\":\"2153\",\"type\":\"UnionRenderers\"}],\"root_ids\":[\"2072\"]},\"title\":\"Bokeh Application\",\"version\":\"1.3.4\"}};\n",
       "  var render_items = [{\"docid\":\"4a163fdc-56e3-41da-b8c1-cfc8f32c16dc\",\"roots\":{\"2072\":\"3eb06fe2-b15b-413b-b230-dec871fcdbb1\"}}];\n",
       "  root.Bokeh.embed.embed_items_notebook(docs_json, render_items);\n",
       "\n",
       "  }\n",
       "  if (root.Bokeh !== undefined) {\n",
       "    embed_document(root);\n",
       "  } else {\n",
       "    var attempts = 0;\n",
       "    var timer = setInterval(function(root) {\n",
       "      if (root.Bokeh !== undefined) {\n",
       "        embed_document(root);\n",
       "        clearInterval(timer);\n",
       "      }\n",
       "      attempts++;\n",
       "      if (attempts > 100) {\n",
       "        console.log(\"Bokeh: ERROR: Unable to run BokehJS code because BokehJS library is missing\");\n",
       "        clearInterval(timer);\n",
       "      }\n",
       "    }, 10, root)\n",
       "  }\n",
       "})(window);"
      ],
      "application/vnd.bokehjs_exec.v0+json": ""
     },
     "metadata": {
      "application/vnd.bokehjs_exec.v0+json": {
       "id": "2072"
      }
     },
     "output_type": "display_data"
    }
   ],
   "source": []
  },
  {
   "cell_type": "code",
   "execution_count": null,
   "metadata": {},
   "outputs": [],
   "source": []
  },
  {
   "cell_type": "code",
   "execution_count": 62,
   "metadata": {},
   "outputs": [
    {
     "name": "stdout",
     "output_type": "stream",
     "text": [
      "[0.33214594 0.48407327 0.06071535 ... 0.20169803 0.60944246 0.4149864 ]\n"
     ]
    },
    {
     "data": {
      "text/html": [
       "\n",
       "\n",
       "\n",
       "\n",
       "\n",
       "\n",
       "  <div class=\"bk-root\" id=\"bd1686a6-0ab3-4bbb-a800-01bc2ea8f13a\" data-root-id=\"1292\"></div>\n"
      ]
     },
     "metadata": {},
     "output_type": "display_data"
    },
    {
     "data": {
      "application/javascript": [
       "(function(root) {\n",
       "  function embed_document(root) {\n",
       "    \n",
       "  var docs_json = {\"2654b9d7-2bb4-4eb3-b2d5-00df7e26198a\":{\"roots\":{\"references\":[{\"attributes\":{\"below\":[{\"id\":\"1303\",\"type\":\"LinearAxis\"}],\"center\":[{\"id\":\"1307\",\"type\":\"Grid\"},{\"id\":\"1312\",\"type\":\"Grid\"}],\"left\":[{\"id\":\"1308\",\"type\":\"LinearAxis\"}],\"renderers\":[{\"id\":\"1329\",\"type\":\"GlyphRenderer\"}],\"title\":{\"id\":\"1293\",\"type\":\"Title\"},\"toolbar\":{\"id\":\"1319\",\"type\":\"Toolbar\"},\"x_range\":{\"id\":\"1295\",\"type\":\"DataRange1d\"},\"x_scale\":{\"id\":\"1299\",\"type\":\"LinearScale\"},\"y_range\":{\"id\":\"1297\",\"type\":\"DataRange1d\"},\"y_scale\":{\"id\":\"1301\",\"type\":\"LinearScale\"}},\"id\":\"1292\",\"subtype\":\"Figure\",\"type\":\"Plot\"},{\"attributes\":{},\"id\":\"1348\",\"type\":\"BasicTickFormatter\"},{\"attributes\":{\"active_drag\":\"auto\",\"active_inspect\":\"auto\",\"active_multi\":null,\"active_scroll\":\"auto\",\"active_tap\":\"auto\",\"tools\":[{\"id\":\"1313\",\"type\":\"PanTool\"},{\"id\":\"1314\",\"type\":\"WheelZoomTool\"},{\"id\":\"1315\",\"type\":\"BoxZoomTool\"},{\"id\":\"1316\",\"type\":\"SaveTool\"},{\"id\":\"1317\",\"type\":\"ResetTool\"},{\"id\":\"1318\",\"type\":\"HelpTool\"}]},\"id\":\"1319\",\"type\":\"Toolbar\"},{\"attributes\":{},\"id\":\"1313\",\"type\":\"PanTool\"},{\"attributes\":{},\"id\":\"1353\",\"type\":\"UnionRenderers\"},{\"attributes\":{\"callback\":null},\"id\":\"1295\",\"type\":\"DataRange1d\"},{\"attributes\":{\"text\":\"Example of importing colormap from matplotlib\"},\"id\":\"1293\",\"type\":\"Title\"},{\"attributes\":{},\"id\":\"1314\",\"type\":\"WheelZoomTool\"},{\"attributes\":{},\"id\":\"1354\",\"type\":\"Selection\"},{\"attributes\":{\"callback\":null,\"data\":{\"fill_color\":[\"#5bff00\",\"#00ff70\",\"#ff2700\",\"#ff7300\",\"#00ff70\",\"#00ffe7\",\"#00b5ff\",\"#00ffb1\",\"#ff0700\",\"#ffea00\",\"#ff0028\",\"#ff0028\",\"#30ff00\",\"#ff7300\",\"#ff6e00\",\"#a600ff\",\"#ff0c00\",\"#ff3700\",\"#ff0028\",\"#ff1c00\",\"#00ffe1\",\"#00e6ff\",\"#7cff00\",\"#00ff81\",\"#1bff00\",\"#ff3700\",\"#00ff66\",\"#ff8e00\",\"#97ff00\",\"#ffda00\",\"#0048ff\",\"#6cff00\",\"#2bff00\",\"#00ffe1\",\"#10ff00\",\"#00ffb6\",\"#ff0028\",\"#ff0028\",\"#ff0028\",\"#c7ff00\",\"#ff1c00\",\"#00ff81\",\"#00ff9b\",\"#0032ff\",\"#0084ff\",\"#ff0028\",\"#00ffcc\",\"#ff0028\",\"#00ffec\",\"#ff0028\",\"#ffbf00\",\"#ffda00\",\"#36ff00\",\"#00ff3b\",\"#e8ff00\",\"#0022ff\",\"#00b5ff\",\"#00ff10\",\"#00ff05\",\"#8cff00\",\"#ffef00\",\"#25ff00\",\"#ff0028\",\"#ff000e\",\"#20ff00\",\"#00ffe7\",\"#ff0028\",\"#00ff0a\",\"#00ff2b\",\"#d8ff00\",\"#ff8e00\",\"#003dff\",\"#00ff40\",\"#fffa00\",\"#ff8300\",\"#15ff00\",\"#00baff\",\"#0069ff\",\"#ffef00\",\"#00ff60\",\"#ff1700\",\"#2f00ff\",\"#ff0700\",\"#b2ff00\",\"#00ff00\",\"#0094ff\",\"#0aff00\",\"#ff0028\",\"#00e0ff\",\"#15ff00\",\"#00f1ff\",\"#ff6300\",\"#00afff\",\"#00ff40\",\"#ff0028\",\"#00a4ff\",\"#00f6ff\",\"#ff1700\",\"#ff0028\",\"#00ffe7\",\"#00ffa6\",\"#ff0700\",\"#00ff40\",\"#ff001e\",\"#bdff00\",\"#00e0ff\",\"#b7ff00\",\"#00ff6b\",\"#a7ff00\",\"#ff0028\",\"#ffef00\",\"#4bff00\",\"#edff00\",\"#00ffc1\",\"#ff0028\",\"#00ff56\",\"#ff1200\",\"#00ff56\",\"#005eff\",\"#bdff00\",\"#00aaff\",\"#ff0028\",\"#0084ff\",\"#51ff00\",\"#00b5ff\",\"#edff00\",\"#00ff76\",\"#00ffbc\",\"#0053ff\",\"#00a4ff\",\"#ffcf00\",\"#00fffc\",\"#15ff00\",\"#ff0028\",\"#00e0ff\",\"#00ff6b\",\"#00e0ff\",\"#97ff00\",\"#97ff00\",\"#9000ff\",\"#00fff1\",\"#ff0028\",\"#ff0018\",\"#56ff00\",\"#ff4d00\",\"#ff8300\",\"#ffdf00\",\"#e3ff00\",\"#ff0028\",\"#0069ff\",\"#7b00ff\",\"#81ff00\",\"#00ff8b\",\"#25ff00\",\"#76ff00\",\"#0089ff\",\"#00ff0a\",\"#3f00ff\",\"#00aaff\",\"#a7ff00\",\"#d2ff00\",\"#fffa00\",\"#00fffc\",\"#00e6ff\",\"#00ff8b\",\"#00ff7b\",\"#000cff\",\"#71ff00\",\"#97ff00\",\"#0089ff\",\"#ff4800\",\"#feff00\",\"#00e6ff\",\"#00ffd7\",\"#00ff15\",\"#e3ff00\",\"#66ff00\",\"#002dff\",\"#00ffa6\",\"#7cff00\",\"#ff4d00\",\"#fffa00\",\"#ff00ca\",\"#51ff00\",\"#ff3200\",\"#00ff70\",\"#0069ff\",\"#00f6ff\",\"#00a4ff\",\"#00ff35\",\"#00d5ff\",\"#ff0003\",\"#ff001e\",\"#00ffe7\",\"#ffda00\",\"#00ffec\",\"#4a00ff\",\"#ff5d00\",\"#00fffc\",\"#00d5ff\",\"#ff5800\",\"#00ff9b\",\"#feff00\",\"#3bff00\",\"#009fff\",\"#5bff00\",\"#40ff00\",\"#f8ff00\",\"#ffdf00\",\"#00ff40\",\"#ff1c00\",\"#00ff60\",\"#ff7300\",\"#00e6ff\",\"#bdff00\",\"#ff8e00\",\"#ff9900\",\"#009aff\",\"#ff0028\",\"#ff0028\",\"#feff00\",\"#ff0028\",\"#cdff00\",\"#ff0028\",\"#00ff00\",\"#0094ff\",\"#00fff1\",\"#7cff00\",\"#00ffb1\",\"#00ff96\",\"#00ff20\",\"#ff1700\",\"#ffea00\",\"#ff0028\",\"#ff0028\",\"#00ff7b\",\"#00ff6b\",\"#acff00\",\"#00ff7b\",\"#ffdf00\",\"#56ff00\",\"#ff8900\",\"#91ff00\",\"#30ff00\",\"#00ffe7\",\"#8cff00\",\"#ffe400\",\"#ffea00\",\"#00ff8b\",\"#5bff00\",\"#00ff00\",\"#ffdf00\",\"#a7ff00\",\"#ffb400\",\"#009fff\",\"#4bff00\",\"#00ffc1\",\"#0022ff\",\"#00ffb1\",\"#00ffbc\",\"#00ff70\",\"#15ff00\",\"#00ff60\",\"#ff6800\",\"#87ff00\",\"#7cff00\",\"#ffe400\",\"#ffcf00\",\"#ffb400\",\"#a7ff00\",\"#3bff00\",\"#15ff00\",\"#ff0028\",\"#2bff00\",\"#ff0028\",\"#00ff7b\",\"#00ffdc\",\"#00ff76\",\"#ff9900\",\"#ff0028\",\"#15ff00\",\"#ff5800\",\"#00ffbc\",\"#00ff30\",\"#00ff70\",\"#ffea00\",\"#00a4ff\",\"#00ff30\",\"#00fff7\",\"#00ff40\",\"#00d5ff\",\"#0aff00\",\"#ff0023\",\"#0053ff\",\"#ff0028\",\"#4bff00\",\"#00ff70\",\"#00fbff\",\"#ffe400\",\"#0079ff\",\"#ff0100\",\"#51ff00\",\"#00ff2b\",\"#00ff10\",\"#00ff56\",\"#ff0028\",\"#87ff00\",\"#00f6ff\",\"#ff0028\",\"#ff6800\",\"#8cff00\",\"#00afff\",\"#56ff00\",\"#00ff5b\",\"#00ff60\",\"#00ffc1\",\"#ff0028\",\"#00ff81\",\"#00ff7b\",\"#00ffc6\",\"#0048ff\",\"#ff0100\",\"#00ff56\",\"#008fff\",\"#00ff40\",\"#36ff00\",\"#30ff00\",\"#0017ff\",\"#ff0028\",\"#00a4ff\",\"#00ffe7\",\"#ffda00\",\"#ffdf00\",\"#ff1700\",\"#ffb400\",\"#0043ff\",\"#f8ff00\",\"#87ff00\",\"#00ff5b\",\"#ff9e00\",\"#00ff6b\",\"#00ffac\",\"#009fff\",\"#8500ff\",\"#00fff7\",\"#00caff\",\"#ffc400\",\"#00caff\",\"#1e00ff\",\"#ff7e00\",\"#ff0028\",\"#00ffac\",\"#0074ff\",\"#00ff4b\",\"#0063ff\",\"#ffa900\",\"#00caff\",\"#36ff00\",\"#00ffbc\",\"#05ff00\",\"#ff0028\",\"#ff0028\",\"#e700ff\",\"#0aff00\",\"#8cff00\",\"#ff9900\",\"#00ff81\",\"#00ffc6\",\"#ff9300\",\"#00e0ff\",\"#00ff56\",\"#0053ff\",\"#00ff5b\",\"#97ff00\",\"#00ff30\",\"#00ff66\",\"#00ff00\",\"#ff0028\",\"#ff3d00\",\"#00e6ff\",\"#00ff3b\",\"#00ff91\",\"#00ff4b\",\"#ffb900\",\"#00ff6b\",\"#0012ff\",\"#00ff4b\",\"#b7ff00\",\"#00ff7b\",\"#bdff00\",\"#0094ff\",\"#20ff00\",\"#8000ff\",\"#0300ff\",\"#ff0028\",\"#edff00\",\"#00afff\",\"#ffcf00\",\"#ff0028\",\"#c7ff00\",\"#d2ff00\",\"#00afff\",\"#ff0028\",\"#ff000e\",\"#00f1ff\",\"#ff7e00\",\"#00fff1\",\"#003dff\",\"#ff1c00\",\"#00ff56\",\"#00ff6b\",\"#d8ff00\",\"#00ff15\",\"#ff0028\",\"#00ff66\",\"#0300ff\",\"#00baff\",\"#00ffbc\",\"#ff4800\",\"#87ff00\",\"#ff4d00\",\"#ff0028\",\"#4a00ff\",\"#00ff8b\",\"#f8ff00\",\"#0038ff\",\"#bdff00\",\"#51ff00\",\"#00ff50\",\"#00ff1a\",\"#00dbff\",\"#00ffc1\",\"#ff0028\",\"#0022ff\",\"#ff0028\",\"#00ff0a\",\"#f200ff\",\"#8500ff\",\"#00ff2b\",\"#00ff10\",\"#00ff56\",\"#d8ff00\",\"#00ff60\",\"#ff001e\",\"#0058ff\",\"#00ff91\",\"#0012ff\",\"#a2ff00\",\"#00ff70\",\"#ff0013\",\"#00fff1\",\"#ff0028\",\"#ff0028\",\"#fffa00\",\"#ff0028\",\"#ff2200\",\"#ffe400\",\"#0012ff\",\"#00ff2b\",\"#c7ff00\",\"#ff0028\",\"#ff0028\",\"#81ff00\",\"#00b5ff\",\"#00d0ff\",\"#ff0028\",\"#c700ff\",\"#ff1700\",\"#bdff00\",\"#00ff9b\",\"#00ff0a\",\"#bdff00\",\"#1bff00\",\"#00ff60\",\"#ff0028\",\"#81ff00\",\"#ffea00\",\"#10ff00\",\"#00ff45\",\"#00d0ff\",\"#ff5200\",\"#9b00ff\",\"#61ff00\",\"#00ffd7\",\"#5a00ff\",\"#00ff20\",\"#ff5800\",\"#00ff60\",\"#00ff45\",\"#00ff15\",\"#00ff1a\",\"#00c5ff\",\"#00ff20\",\"#ff0028\",\"#0053ff\",\"#a7ff00\",\"#ff0028\",\"#05ff00\",\"#00ff20\",\"#00f1ff\",\"#ffb400\",\"#00e6ff\",\"#00dbff\",\"#56ff00\",\"#bc00ff\",\"#ff0028\",\"#a2ff00\",\"#ff0028\",\"#00ffb1\",\"#00ff4b\",\"#1e00ff\",\"#9b00ff\",\"#00ffdc\",\"#1300ff\",\"#ff4800\",\"#00ffb6\",\"#00c5ff\",\"#56ff00\",\"#15ff00\",\"#009fff\",\"#0084ff\",\"#ff000e\",\"#00ffc1\",\"#ffef00\",\"#0001ff\",\"#0053ff\",\"#ff0028\",\"#ff4d00\",\"#00ff4b\",\"#00ff2b\",\"#009aff\",\"#edff00\",\"#00afff\",\"#00ffc1\",\"#ffae00\",\"#ff0028\",\"#ff1700\",\"#e8ff00\",\"#ff0028\",\"#00c5ff\",\"#ff4800\",\"#00c0ff\",\"#ff0028\",\"#0084ff\",\"#b600ff\",\"#00d0ff\",\"#00ff05\",\"#1bff00\",\"#0aff00\",\"#00ffa1\",\"#00ebff\",\"#97ff00\",\"#00ffbc\",\"#009aff\",\"#cdff00\",\"#0094ff\",\"#ff0028\",\"#ff7300\",\"#ff0028\",\"#c7ff00\",\"#56ff00\",\"#ff9e00\",\"#ff0028\",\"#ff0028\",\"#30ff00\",\"#0053ff\",\"#ff0013\",\"#008fff\",\"#00ffac\",\"#ff0028\",\"#00fff1\",\"#1900ff\",\"#00ffe7\",\"#ff0028\",\"#00ff3b\",\"#ff0028\",\"#3bff00\",\"#ff0028\",\"#00ff4b\",\"#61ff00\",\"#00ff6b\",\"#ff0023\",\"#00ff6b\",\"#ff0028\",\"#00ff70\",\"#7cff00\",\"#40ff00\",\"#000cff\",\"#00ff70\",\"#ff0c00\",\"#ff0028\",\"#ffb400\",\"#ff0028\",\"#ff0028\",\"#0022ff\",\"#cdff00\",\"#ff0028\",\"#00ffe7\",\"#ff6300\",\"#ff0028\",\"#ff0028\",\"#ff0028\",\"#30ff00\",\"#00ff60\",\"#6a00ff\",\"#00ffdc\",\"#00ff25\",\"#00ff66\",\"#f3ff00\",\"#00ff8b\",\"#ff0028\",\"#00ffd1\",\"#0300ff\",\"#6cff00\",\"#1300ff\",\"#ff0028\",\"#9b00ff\",\"#15ff00\",\"#ff0028\",\"#edff00\",\"#81ff00\",\"#ff3d00\",\"#4bff00\",\"#ff7e00\",\"#71ff00\",\"#00fff1\",\"#00ff1a\",\"#ff0028\",\"#97ff00\",\"#00ff1a\",\"#5f00ff\",\"#ffa400\",\"#00ff25\",\"#00ffc1\",\"#d2ff00\",\"#bdff00\",\"#ff0028\",\"#ff0028\",\"#ff0028\",\"#00ff05\",\"#00ffcc\",\"#b7ff00\",\"#00c5ff\",\"#00ff05\",\"#00ff0a\",\"#ff8300\",\"#a2ff00\",\"#40ff00\",\"#ff5d00\",\"#ff0028\",\"#ff0028\",\"#ff1200\",\"#ff0028\",\"#00ff7b\",\"#ff3d00\",\"#00ff40\",\"#ff0028\",\"#ff0028\",\"#ff0028\",\"#ff0028\",\"#00ffe1\",\"#ddff00\",\"#7cff00\",\"#ff2d00\",\"#00ffa6\",\"#00ffe1\",\"#c100ff\",\"#0084ff\",\"#ff0028\",\"#00ffdc\",\"#00ff50\",\"#00ffc6\",\"#51ff00\",\"#acff00\",\"#00dbff\",\"#3bff00\",\"#00ffd1\",\"#0aff00\",\"#e200ff\",\"#00ff91\",\"#009fff\",\"#00f6ff\",\"#ff00e5\",\"#87ff00\",\"#3bff00\",\"#00ff76\",\"#ff0018\",\"#00ffa1\",\"#ff6300\",\"#00ffa1\",\"#ffe400\",\"#003dff\",\"#0053ff\",\"#ff0028\",\"#0800ff\",\"#46ff00\",\"#20ff00\",\"#0079ff\",\"#05ff00\",\"#00ff0a\",\"#4f00ff\",\"#00ff7b\",\"#ff0028\",\"#007eff\",\"#00ff30\",\"#9000ff\",\"#1900ff\",\"#00aaff\",\"#00ffc6\",\"#00ff30\",\"#00ffd1\",\"#ff8900\",\"#ff0028\",\"#ff2200\",\"#00aaff\",\"#00ff5b\",\"#ff5d00\",\"#00fff1\",\"#00e6ff\",\"#00ff91\",\"#ff0028\",\"#00fffc\",\"#00ff8b\",\"#00ff56\",\"#00ff9b\",\"#36ff00\",\"#ff0028\",\"#ff0100\",\"#c2ff00\",\"#00ff96\",\"#7cff00\",\"#acff00\",\"#00ff6b\",\"#ff0028\",\"#00fbff\",\"#5500ff\",\"#5f00ff\",\"#ffd400\",\"#ffa900\",\"#00afff\",\"#ff0018\",\"#ffda00\",\"#00ffa1\",\"#ff0028\",\"#00b5ff\",\"#b600ff\",\"#0089ff\",\"#ff0028\",\"#00ffe7\",\"#2bff00\",\"#4bff00\",\"#ff0028\",\"#00ff1a\",\"#00ff76\",\"#f3ff00\",\"#0074ff\",\"#30ff00\",\"#00ff30\",\"#0079ff\",\"#ff3200\",\"#00afff\",\"#4f00ff\",\"#ff000e\",\"#00ff4b\",\"#00dbff\",\"#00d5ff\",\"#ff00ca\",\"#acff00\",\"#ff0028\",\"#c7ff00\",\"#ff0028\",\"#f3ff00\",\"#ff3200\",\"#00f1ff\",\"#76ff00\",\"#00ffac\",\"#7b00ff\",\"#cdff00\",\"#ff2d00\",\"#00baff\",\"#00caff\",\"#00ff05\",\"#00a4ff\",\"#e3ff00\",\"#7000ff\",\"#ff1700\",\"#00ff6b\",\"#00ff5b\",\"#ff0028\",\"#4bff00\",\"#ff8300\",\"#ffc900\",\"#00ffac\",\"#ff0018\",\"#00ffbc\",\"#6cff00\",\"#ff0028\",\"#ff4200\",\"#00ffa6\",\"#2bff00\",\"#36ff00\",\"#ff0028\",\"#005eff\",\"#f200ff\",\"#00ebff\",\"#ff3200\",\"#ff0028\",\"#edff00\",\"#00ff05\",\"#ff7800\",\"#00ffb6\",\"#00ff30\",\"#00ff00\",\"#ff0028\",\"#00ffbc\",\"#ffa400\",\"#00ff20\",\"#00ffc1\",\"#ff0028\",\"#00ff91\",\"#20ff00\",\"#ff0028\",\"#ff0028\",\"#87ff00\",\"#ffd400\",\"#0007ff\",\"#ff0028\",\"#0069ff\",\"#ff0028\",\"#8cff00\",\"#ff9300\",\"#ff9900\",\"#ff0028\",\"#00ff30\",\"#d8ff00\",\"#ff4800\",\"#ff0028\",\"#00ff60\",\"#3bff00\",\"#30ff00\",\"#00ffd7\",\"#c2ff00\",\"#00ff30\",\"#ff6800\",\"#b2ff00\",\"#00ff50\",\"#00ff00\",\"#1e00ff\",\"#1300ff\",\"#ff6300\",\"#66ff00\",\"#00ff9b\",\"#00ffa1\",\"#00ffe1\",\"#00c5ff\",\"#00caff\",\"#5f00ff\",\"#ffcf00\",\"#25ff00\",\"#00ffa1\",\"#b7ff00\",\"#ff4d00\",\"#a2ff00\",\"#a2ff00\",\"#ff0028\",\"#ff0028\",\"#c700ff\",\"#00fbff\",\"#00ffa6\",\"#05ff00\",\"#00ff7b\",\"#ff0028\",\"#f8ff00\",\"#00ff76\",\"#ddff00\",\"#ff0028\",\"#acff00\",\"#7500ff\",\"#ff0028\",\"#ffe400\",\"#00afff\",\"#ff2d00\",\"#ffb400\",\"#ff5200\",\"#00ffb6\",\"#ff0028\",\"#ff0700\",\"#0032ff\",\"#00ffbc\",\"#00ffa6\",\"#ff6e00\",\"#00d5ff\",\"#ff3700\",\"#ffa900\",\"#ff0028\",\"#00ff86\",\"#00f1ff\",\"#00ffec\",\"#4a00ff\",\"#00ff25\",\"#25ff00\",\"#0053ff\",\"#00e6ff\",\"#05ff00\",\"#b100ff\",\"#00f6ff\",\"#ff0028\",\"#00ff25\",\"#006eff\",\"#0300ff\",\"#ffae00\",\"#3900ff\",\"#ddff00\",\"#ff2d00\",\"#1900ff\",\"#00ebff\",\"#ff0028\",\"#00ffb1\",\"#00ffd7\",\"#ff00da\",\"#ff0028\",\"#4bff00\",\"#ffda00\",\"#00ffbc\",\"#0058ff\",\"#ff6800\",\"#acff00\",\"#ff0028\",\"#ff0028\",\"#00ff76\",\"#00f1ff\",\"#ff0028\",\"#7cff00\",\"#008fff\",\"#ff0028\",\"#ffb400\",\"#ff5200\",\"#009fff\",\"#00ffd7\",\"#00ffd1\",\"#1300ff\",\"#ff0028\",\"#004dff\",\"#ff0028\",\"#ff6e00\",\"#00f6ff\",\"#25ff00\",\"#ff0028\",\"#00ffa1\",\"#0069ff\",\"#00ffdc\",\"#00ff20\",\"#00ffa6\",\"#10ff00\",\"#0800ff\",\"#97ff00\",\"#0027ff\",\"#00ffec\",\"#00ff10\",\"#ff0028\",\"#ff0028\",\"#00ff35\",\"#f3ff00\",\"#ddff00\",\"#ff1c00\",\"#91ff00\",\"#ff0028\",\"#00dbff\",\"#0089ff\",\"#ff0028\",\"#00ffcc\",\"#00ff15\",\"#007eff\",\"#009aff\",\"#00f6ff\",\"#00ffe1\",\"#3400ff\",\"#00ff96\",\"#00ffe1\",\"#00ff45\",\"#51ff00\",\"#ff0028\",\"#a2ff00\",\"#71ff00\",\"#00ff3b\",\"#a100ff\",\"#0058ff\",\"#cdff00\",\"#ff0028\",\"#4bff00\",\"#005eff\",\"#ff0700\",\"#00dbff\",\"#ff9e00\",\"#00ff66\",\"#00ebff\",\"#ff5200\",\"#edff00\",\"#ddff00\",\"#e3ff00\",\"#edff00\",\"#00ffa6\",\"#ff5200\",\"#ff0028\",\"#00ff86\",\"#003dff\",\"#00ff8b\",\"#bdff00\",\"#ffb400\",\"#00ff56\",\"#00ffa1\",\"#5500ff\",\"#d2ff00\",\"#9cff00\",\"#f3ff00\",\"#56ff00\",\"#00ffa6\",\"#0022ff\",\"#ff0028\",\"#ff0028\",\"#acff00\",\"#ffb900\",\"#bc00ff\",\"#00ff66\",\"#00dbff\",\"#b2ff00\",\"#0063ff\",\"#00ffb6\",\"#0001ff\",\"#2400ff\",\"#ff0028\",\"#a7ff00\",\"#00ffa1\",\"#ffae00\",\"#ff7300\",\"#ff0028\",\"#2f00ff\",\"#40ff00\",\"#ff4800\",\"#e3ff00\",\"#00d5ff\",\"#ff0c00\",\"#20ff00\",\"#ff000e\",\"#00ff4b\",\"#36ff00\",\"#00baff\",\"#00ff4b\",\"#6cff00\",\"#e700ff\",\"#6a00ff\",\"#2bff00\",\"#00ffa1\",\"#a2ff00\",\"#fff500\",\"#b2ff00\",\"#00ffb1\",\"#ff8e00\",\"#ff0028\",\"#00ffd1\",\"#1e00ff\",\"#00ffe1\",\"#6500ff\",\"#d8ff00\",\"#00ff60\",\"#b7ff00\",\"#00ff45\",\"#ffa400\",\"#4bff00\",\"#0094ff\",\"#36ff00\",\"#00ff66\",\"#00d0ff\",\"#001dff\",\"#7b00ff\",\"#00fffc\",\"#ff0028\",\"#00ff81\",\"#a7ff00\",\"#0007ff\",\"#ff0028\",\"#61ff00\",\"#004dff\",\"#ff0028\",\"#00ffb1\",\"#46ff00\",\"#ff0023\",\"#ff0028\",\"#003dff\",\"#00ffcc\",\"#00d5ff\",\"#3900ff\",\"#d2ff00\",\"#00ff56\",\"#ff0028\",\"#00ff7b\",\"#00d0ff\",\"#ffae00\",\"#ff2d00\",\"#5500ff\",\"#91ff00\",\"#00ff66\",\"#ff0028\",\"#feff00\",\"#0032ff\",\"#00ffac\",\"#ff0028\",\"#00f1ff\",\"#00fffc\",\"#00c0ff\",\"#ff000e\",\"#f8ff00\",\"#00fff7\",\"#00ff60\",\"#ff0028\",\"#9cff00\",\"#61ff00\",\"#00ff56\",\"#76ff00\",\"#00c0ff\",\"#00baff\",\"#00fbff\",\"#00c0ff\",\"#00ff05\",\"#ff00df\",\"#5bff00\",\"#ffb400\",\"#00fff1\",\"#00e6ff\",\"#00ff4b\",\"#00ebff\",\"#ffa900\",\"#ff0028\",\"#76ff00\",\"#10ff00\",\"#ff00bf\",\"#00c0ff\",\"#00ff2b\",\"#ff3700\",\"#ff0028\",\"#ff0028\",\"#00ff40\",\"#ff0028\",\"#00ff76\",\"#cdff00\",\"#00d0ff\",\"#ff0028\",\"#fff500\",\"#00afff\",\"#00fff7\",\"#ff0028\",\"#00ff86\",\"#61ff00\",\"#40ff00\",\"#6cff00\",\"#00ff5b\",\"#2400ff\",\"#00ff30\",\"#ff6e00\",\"#c2ff00\",\"#ff1700\",\"#1bff00\",\"#00ffd7\",\"#00ff45\",\"#ff0028\",\"#00ffe7\",\"#5bff00\",\"#5bff00\",\"#c2ff00\",\"#6cff00\",\"#0aff00\",\"#9cff00\",\"#00ff86\",\"#00ff05\",\"#ff4800\",\"#ff0028\",\"#ffea00\",\"#0084ff\",\"#00ffe7\",\"#61ff00\",\"#00ff50\",\"#91ff00\",\"#00ff76\",\"#fff500\",\"#00ffdc\",\"#b2ff00\",\"#00f6ff\",\"#00ff30\",\"#9600ff\",\"#00ffa1\",\"#ff4800\",\"#8b00ff\",\"#00ff25\",\"#0084ff\",\"#ff0028\",\"#ff0028\",\"#00fff1\",\"#0074ff\",\"#e3ff00\",\"#4f00ff\",\"#a2ff00\",\"#00ff05\",\"#ff0028\",\"#87ff00\",\"#ff0700\",\"#00ffb6\",\"#0053ff\",\"#00fbff\",\"#0063ff\",\"#2f00ff\",\"#00b5ff\",\"#4a00ff\",\"#00ffd1\",\"#00ff35\",\"#00ff50\",\"#00f1ff\",\"#0089ff\",\"#ff0028\",\"#00ff66\",\"#feff00\",\"#00ffc1\",\"#0079ff\",\"#00ff50\",\"#ff001e\",\"#ff4200\",\"#ff0028\",\"#40ff00\",\"#0017ff\",\"#ff0028\",\"#00ffcc\",\"#0069ff\",\"#00ff91\",\"#ff0028\",\"#00ff5b\",\"#25ff00\",\"#7b00ff\",\"#00ff86\",\"#ff0028\",\"#00ff3b\",\"#ffd400\",\"#ff0028\",\"#ff0028\",\"#ff0018\",\"#0069ff\",\"#ff9300\",\"#56ff00\",\"#ff0028\",\"#ff0028\",\"#0043ff\",\"#3bff00\",\"#ff8e00\",\"#00ffc6\",\"#00fff7\",\"#d200ff\",\"#00ff2b\",\"#00b5ff\",\"#0094ff\",\"#00e6ff\",\"#00ff6b\",\"#ff0028\",\"#ffbf00\",\"#1bff00\",\"#00fff1\",\"#ff2200\",\"#ffd400\",\"#ff0028\",\"#ff0028\",\"#0e00ff\",\"#30ff00\",\"#cdff00\",\"#00ff6b\",\"#00c5ff\",\"#00ffd7\",\"#9000ff\",\"#3900ff\",\"#e200ff\",\"#00ff96\",\"#00ffe1\",\"#00ff25\",\"#00ff70\",\"#005eff\",\"#00f6ff\",\"#0017ff\",\"#ff0028\",\"#00ffb1\",\"#ff0028\",\"#ff0028\",\"#00d0ff\",\"#ffb400\",\"#97ff00\",\"#00fffc\",\"#ff0008\",\"#ff0028\",\"#ffae00\",\"#00ff4b\",\"#ffb400\",\"#00fff7\",\"#0084ff\",\"#ffd400\",\"#00ebff\",\"#2bff00\",\"#00ffb1\",\"#00ff70\",\"#ff0028\",\"#ff000e\",\"#ffdf00\",\"#ff0028\",\"#ff0028\",\"#ff6300\",\"#2bff00\",\"#008fff\",\"#c7ff00\",\"#00ff96\",\"#76ff00\",\"#a2ff00\",\"#00ff8b\",\"#00f6ff\",\"#ff0028\",\"#ff0028\",\"#ff0028\",\"#00ffdc\",\"#ff2700\",\"#00ff0a\",\"#00ff20\",\"#ff0c00\",\"#00f6ff\",\"#00ffd1\",\"#ff2d00\",\"#00ffd7\",\"#0048ff\",\"#ff6800\",\"#3bff00\",\"#0053ff\",\"#ffa900\",\"#3900ff\",\"#d8ff00\",\"#c700ff\",\"#ff0700\",\"#a600ff\",\"#ff0028\",\"#a2ff00\",\"#ff0028\",\"#00ff56\",\"#00ff76\",\"#e3ff00\",\"#00fffc\",\"#ffef00\",\"#00ebff\",\"#ff0028\",\"#00ff66\",\"#0022ff\",\"#00afff\",\"#00ff10\",\"#00d0ff\",\"#b7ff00\",\"#ff6800\",\"#00ff86\",\"#00f6ff\",\"#0001ff\",\"#ff0028\",\"#2900ff\",\"#ff0003\",\"#f3ff00\",\"#00ff25\",\"#d8ff00\",\"#d8ff00\",\"#ff8e00\",\"#fff500\",\"#00ff96\",\"#ff5200\",\"#40ff00\",\"#4bff00\",\"#ff7300\",\"#76ff00\",\"#00ff0a\",\"#00c5ff\",\"#00ffc1\",\"#0043ff\",\"#30ff00\",\"#00ff56\",\"#ff0028\",\"#8cff00\",\"#71ff00\",\"#56ff00\",\"#00ffa6\",\"#00ff1a\",\"#00ffd1\",\"#ff3d00\",\"#6cff00\",\"#00ff56\",\"#0069ff\",\"#ff0028\",\"#00ff91\",\"#00ffdc\",\"#0043ff\",\"#00ff30\",\"#0aff00\",\"#bdff00\",\"#ff0100\",\"#00aaff\",\"#00ff2b\",\"#00e6ff\",\"#00ffd7\",\"#00ff7b\",\"#00ffe1\",\"#ff0028\",\"#ff0028\",\"#feff00\",\"#005eff\",\"#00dbff\",\"#00ff60\",\"#00ff0a\",\"#00ff5b\",\"#ff0028\",\"#00aaff\",\"#00ffcc\",\"#00ffb1\",\"#00ff25\",\"#00ffcc\",\"#ffae00\",\"#ff7e00\",\"#00ff5b\",\"#ff0028\",\"#ff0028\",\"#ff5200\",\"#00ff40\",\"#00ffbc\",\"#00ffbc\",\"#ff0028\",\"#00b5ff\",\"#ff0028\",\"#91ff00\",\"#0058ff\",\"#3900ff\",\"#ff3d00\",\"#00fff1\",\"#ff6800\",\"#00d0ff\",\"#05ff00\",\"#ff0028\",\"#d8ff00\",\"#ff0028\",\"#46ff00\",\"#7b00ff\",\"#00ff91\",\"#0084ff\",\"#00ff25\",\"#ffbf00\",\"#ff5200\",\"#fffa00\",\"#9cff00\",\"#00ffbc\",\"#d2ff00\",\"#00ff0a\",\"#61ff00\",\"#00ffbc\",\"#007eff\",\"#00ff86\",\"#00fbff\",\"#009fff\",\"#ffcf00\",\"#00ffd7\",\"#00ff10\",\"#4400ff\",\"#97ff00\",\"#00ffd1\",\"#b7ff00\",\"#00caff\",\"#007eff\",\"#00b5ff\",\"#ff6e00\",\"#00ff76\",\"#6cff00\",\"#00ff00\",\"#ff0028\",\"#00ffe1\",\"#feff00\",\"#bdff00\",\"#00caff\",\"#c7ff00\",\"#ff0028\",\"#8cff00\",\"#ff0028\",\"#00c5ff\",\"#ff8e00\",\"#00aaff\",\"#00ffd1\",\"#bc00ff\",\"#81ff00\",\"#91ff00\",\"#f8ff00\",\"#00fff7\",\"#3900ff\",\"#000cff\",\"#00f1ff\",\"#36ff00\",\"#ffef00\",\"#ff0028\",\"#0043ff\",\"#00ff50\",\"#5500ff\",\"#00ffdc\",\"#00ffd7\",\"#c2ff00\",\"#00ff60\",\"#00ffb6\",\"#ff6800\",\"#00ff45\",\"#ff3700\",\"#ff4800\",\"#ff5d00\",\"#00ffbc\",\"#00e6ff\",\"#00c5ff\",\"#c2ff00\",\"#ff0028\",\"#ffc400\",\"#00ff70\",\"#bdff00\",\"#ffef00\",\"#a7ff00\",\"#00ff00\",\"#b2ff00\",\"#ff6e00\",\"#00dbff\",\"#00ff20\",\"#00ff86\",\"#71ff00\",\"#a100ff\",\"#ff5800\",\"#ffef00\",\"#10ff00\",\"#ff2700\",\"#ff0028\",\"#3900ff\",\"#ff0028\",\"#00fff7\",\"#00ffb6\",\"#ff0028\",\"#ff9900\",\"#ff0028\",\"#ff0028\",\"#00caff\",\"#ff0028\",\"#20ff00\",\"#ff0028\",\"#8cff00\",\"#00ff1a\",\"#ff5800\",\"#10ff00\",\"#009aff\",\"#00ffa1\",\"#00fff7\",\"#00ffc1\",\"#00ebff\",\"#00c0ff\",\"#00ffa1\",\"#a2ff00\",\"#ff0028\",\"#ff0028\",\"#ff0028\",\"#ff00df\",\"#cc00ff\",\"#00ffd1\",\"#3900ff\",\"#25ff00\",\"#00ff81\",\"#ffae00\",\"#ff000e\",\"#ff0018\",\"#ff0028\",\"#00ff9b\",\"#00ffcc\",\"#00ff30\",\"#ff0028\",\"#ff9900\",\"#00caff\",\"#00ff8b\",\"#ff0028\",\"#005eff\",\"#1e00ff\",\"#00dbff\",\"#7b00ff\",\"#00ffec\",\"#ffa400\",\"#00ffbc\",\"#0079ff\",\"#00ff1a\",\"#ff6800\",\"#ff2200\",\"#0079ff\",\"#00caff\",\"#f8ff00\",\"#76ff00\",\"#00ff76\",\"#ff2d00\",\"#00ff20\",\"#00f1ff\",\"#00ff0a\",\"#00ff56\",\"#00ff60\",\"#00baff\",\"#00ff0a\",\"#ff0028\",\"#00ffcc\",\"#00ff20\",\"#00ffa1\",\"#ff6e00\",\"#00ff8b\",\"#00ffe7\",\"#ff0028\",\"#0027ff\",\"#ff0028\",\"#ffcf00\",\"#00c0ff\",\"#ffef00\",\"#00ff15\",\"#a2ff00\",\"#40ff00\",\"#ffcf00\",\"#0038ff\",\"#009aff\",\"#ff0028\",\"#00e6ff\",\"#ff0028\",\"#ff9900\",\"#00ffac\",\"#ff1c00\",\"#ff7800\",\"#00ff0a\",\"#ff2d00\",\"#00ffd1\",\"#61ff00\",\"#d2ff00\",\"#0800ff\",\"#00ff7b\",\"#0053ff\",\"#ff0028\",\"#cdff00\",\"#004dff\",\"#91ff00\",\"#00fff1\",\"#4bff00\",\"#25ff00\",\"#00ff76\",\"#ff8300\",\"#ff0028\",\"#007eff\",\"#00ffdc\",\"#00ff81\",\"#ff1700\",\"#ff0028\",\"#00a4ff\",\"#fffa00\",\"#46ff00\",\"#00ff3b\",\"#00ff96\",\"#05ff00\",\"#ff0100\",\"#001dff\",\"#46ff00\",\"#cdff00\",\"#ff3d00\",\"#00ffdc\",\"#ffb900\",\"#00ff35\",\"#00fff7\",\"#30ff00\",\"#00ffb1\",\"#00ffd1\",\"#ff0028\",\"#b2ff00\",\"#ff0028\",\"#ff0028\",\"#0094ff\",\"#00ff15\",\"#15ff00\",\"#20ff00\",\"#ff8300\",\"#00ffd7\",\"#00ffd1\",\"#00ff3b\",\"#81ff00\",\"#00ff9b\",\"#00a4ff\",\"#00ff35\",\"#0063ff\",\"#ff0013\",\"#00ffbc\",\"#71ff00\",\"#ff5800\",\"#00ff9b\",\"#ff0028\",\"#00ffa1\",\"#ff3d00\",\"#6cff00\",\"#00fbff\",\"#00ff0a\",\"#0001ff\",\"#00ff35\",\"#00ffac\",\"#ff1200\",\"#ff0003\",\"#ff0028\",\"#ff0028\",\"#00ffd1\",\"#b100ff\",\"#51ff00\",\"#ff1200\",\"#1900ff\",\"#ff0028\",\"#ff0028\",\"#5a00ff\",\"#0069ff\",\"#00d5ff\",\"#76ff00\",\"#00aaff\",\"#4bff00\",\"#ff0028\",\"#ff0028\",\"#ff0028\",\"#edff00\",\"#ff0028\",\"#00ffcc\",\"#00caff\",\"#6500ff\",\"#00ff30\",\"#ff0028\",\"#00d0ff\",\"#7b00ff\",\"#feff00\",\"#00b5ff\",\"#f8ff00\",\"#ff6800\",\"#ffef00\",\"#00e6ff\",\"#c7ff00\",\"#00c0ff\",\"#00caff\",\"#ff0028\",\"#05ff00\",\"#ff0028\",\"#ffbf00\",\"#00ffb6\",\"#5bff00\",\"#ff0028\",\"#ff0028\",\"#bdff00\",\"#1e00ff\",\"#ffcf00\",\"#00ff5b\",\"#0022ff\",\"#00ffcc\",\"#ff0028\",\"#4f00ff\",\"#00d5ff\",\"#ffda00\",\"#ddff00\",\"#009aff\",\"#3900ff\",\"#5f00ff\",\"#ff5200\",\"#ff0028\",\"#ffe400\",\"#1bff00\",\"#ffda00\",\"#00ffb1\",\"#ffd400\",\"#000cff\",\"#006eff\",\"#00ff7b\",\"#00ffd7\",\"#ff0028\",\"#00ff8b\",\"#05ff00\",\"#00c0ff\",\"#0043ff\",\"#ffcf00\",\"#a7ff00\",\"#ff6800\",\"#00ff5b\",\"#00ff76\",\"#ffb900\",\"#0027ff\",\"#001dff\",\"#00afff\",\"#dc00ff\",\"#009aff\",\"#00fffc\",\"#36ff00\",\"#0300ff\",\"#4bff00\",\"#00a4ff\",\"#ff0028\",\"#00ffa6\",\"#f8ff00\",\"#00ff8b\",\"#00ff4b\",\"#3bff00\",\"#10ff00\",\"#00d0ff\",\"#20ff00\",\"#ff7800\",\"#ff5200\",\"#ff0028\",\"#ff5200\",\"#2bff00\",\"#00ebff\",\"#ffb400\",\"#00ff91\",\"#ff0028\",\"#c7ff00\",\"#edff00\",\"#0022ff\",\"#004dff\",\"#ff0028\",\"#4400ff\",\"#ff0028\",\"#00fffc\",\"#e3ff00\",\"#0074ff\",\"#00ff45\",\"#46ff00\",\"#ff0028\",\"#ff6e00\",\"#003dff\",\"#30ff00\",\"#00d5ff\",\"#ff4800\",\"#00ff35\",\"#ff4d00\",\"#00ff0a\",\"#ff0028\",\"#00d0ff\",\"#ff7300\",\"#ff0028\",\"#ff5d00\",\"#ff0013\",\"#00ff56\",\"#5a00ff\",\"#feff00\",\"#7cff00\",\"#00ffc1\",\"#00ffc1\",\"#00ffc6\",\"#ff0028\",\"#ff0003\",\"#ff1c00\",\"#ffa900\",\"#76ff00\",\"#1900ff\",\"#ff0100\",\"#00ff8b\",\"#00afff\",\"#0aff00\",\"#00ff60\",\"#c7ff00\",\"#87ff00\",\"#ffbf00\",\"#b7ff00\",\"#ffae00\",\"#ff0028\",\"#00ff81\",\"#ff4800\",\"#feff00\",\"#e8ff00\",\"#2bff00\",\"#fff500\",\"#66ff00\",\"#ff0028\",\"#00ffa6\",\"#0001ff\",\"#00ff76\",\"#ff0028\",\"#00ffa1\",\"#9cff00\",\"#ff0c00\",\"#ff1200\",\"#2bff00\",\"#ff0028\",\"#0074ff\",\"#ff1200\",\"#ffcf00\",\"#0027ff\",\"#7cff00\",\"#ffd400\",\"#00ff66\",\"#ff0028\",\"#ffcf00\",\"#3900ff\",\"#ff0028\",\"#00fff1\",\"#ff000e\",\"#ff7300\",\"#6500ff\",\"#00f6ff\",\"#ddff00\",\"#005eff\",\"#ff0028\",\"#00ffd7\",\"#009aff\",\"#00ff5b\",\"#00d5ff\",\"#ff0028\",\"#00f1ff\",\"#ff1200\",\"#05ff00\",\"#3900ff\",\"#ffdf00\",\"#ff00cf\",\"#d8ff00\",\"#acff00\",\"#ffb900\",\"#00ff9b\",\"#ffe400\",\"#ff0028\",\"#00ff91\",\"#0800ff\",\"#00ffac\",\"#ff3700\",\"#ff0028\",\"#00d5ff\",\"#00ffd7\",\"#ff0028\",\"#00c0ff\",\"#15ff00\",\"#00fbff\",\"#00ffb6\",\"#00e6ff\",\"#ff0028\",\"#51ff00\",\"#a7ff00\",\"#00ff9b\",\"#a600ff\",\"#00ff5b\",\"#ff0028\",\"#00fff1\",\"#4bff00\",\"#00ff96\",\"#10ff00\",\"#ffb400\",\"#00ffa1\",\"#00ffc1\",\"#00ff40\",\"#ff9e00\",\"#ffb900\",\"#00ff6b\",\"#00ffc1\",\"#ffda00\",\"#36ff00\",\"#00ff20\",\"#1bff00\",\"#ff9900\",\"#ff0028\",\"#00c0ff\",\"#00ffd7\",\"#00ff0a\",\"#05ff00\",\"#00ffb6\",\"#ffda00\",\"#ff0018\",\"#ffda00\",\"#ffae00\",\"#9cff00\",\"#fff500\",\"#ffef00\",\"#ff0028\",\"#ff0028\",\"#ff7e00\",\"#009fff\",\"#ff0028\",\"#00aaff\",\"#ff3d00\",\"#ff0028\",\"#00ff50\",\"#ff0028\",\"#00ff1a\",\"#40ff00\",\"#e3ff00\",\"#ff7300\",\"#00ff15\",\"#c2ff00\",\"#ff0028\",\"#ff000e\",\"#ff2d00\",\"#00ff7b\",\"#ff6e00\",\"#feff00\",\"#51ff00\",\"#00fff7\",\"#ff0028\",\"#00ffe7\",\"#00ff8b\",\"#ff0028\",\"#ff0028\",\"#8500ff\",\"#71ff00\",\"#fff500\",\"#acff00\",\"#ff3200\",\"#56ff00\",\"#0094ff\",\"#05ff00\",\"#00ff70\",\"#ff0028\",\"#0017ff\",\"#00b5ff\",\"#0027ff\",\"#ff4800\",\"#ff0028\",\"#00ff50\",\"#ff0700\",\"#00ffc6\",\"#ff0028\",\"#00ff45\",\"#ff0028\",\"#00ffb6\",\"#9600ff\",\"#e8ff00\",\"#6500ff\",\"#00f1ff\",\"#00caff\",\"#ff5d00\",\"#1900ff\",\"#00fff1\",\"#10ff00\",\"#ff0100\",\"#00c5ff\",\"#ff0028\",\"#ff0023\",\"#00ff86\",\"#00ff25\",\"#00ffb1\",\"#00e6ff\",\"#fffa00\",\"#ff4200\",\"#0022ff\",\"#000cff\",\"#00ff56\",\"#81ff00\",\"#ffb900\",\"#3f00ff\",\"#ffb900\",\"#b7ff00\",\"#ff0100\",\"#ff0c00\",\"#76ff00\",\"#00ff60\",\"#00ff05\",\"#00c5ff\",\"#51ff00\",\"#e200ff\",\"#ff2200\",\"#ff0028\",\"#00ff50\",\"#00ff5b\",\"#ff0018\",\"#b2ff00\",\"#1bff00\",\"#ffe400\",\"#00ff56\",\"#ff4200\",\"#00aaff\",\"#00c0ff\",\"#ff0028\",\"#cc00ff\",\"#00ffc1\",\"#0aff00\",\"#00ffc6\",\"#ff0028\",\"#d8ff00\",\"#b7ff00\",\"#00ff91\",\"#00ffb1\",\"#00ff2b\",\"#ff0028\",\"#9cff00\",\"#ff0028\",\"#71ff00\",\"#ff0028\",\"#ff6800\",\"#cdff00\",\"#ff0028\",\"#ff0028\",\"#00ff7b\",\"#3bff00\",\"#ffbf00\",\"#81ff00\",\"#00ff60\",\"#ff0028\",\"#91ff00\",\"#00ff05\",\"#00ffec\",\"#ff0700\",\"#ff0018\",\"#00ffdc\",\"#00fbff\",\"#00ff56\",\"#ff7800\",\"#5f00ff\",\"#ff0018\",\"#ff4800\",\"#00ff56\",\"#2400ff\",\"#51ff00\",\"#b7ff00\",\"#0048ff\",\"#ddff00\",\"#20ff00\",\"#30ff00\",\"#00ffdc\",\"#10ff00\",\"#acff00\",\"#61ff00\",\"#ddff00\",\"#ff3200\",\"#ffea00\",\"#7cff00\",\"#00ff8b\",\"#ddff00\",\"#00ff5b\",\"#ffc900\",\"#00c5ff\",\"#91ff00\",\"#00ffbc\",\"#fffa00\",\"#0084ff\",\"#ff0028\",\"#1bff00\",\"#00ff7b\",\"#00ff91\",\"#009aff\",\"#51ff00\",\"#ff0028\",\"#15ff00\",\"#7000ff\",\"#00ff76\",\"#ff0013\",\"#0074ff\",\"#ffc900\",\"#0043ff\",\"#00ff8b\",\"#00ff4b\",\"#8cff00\",\"#00ff35\",\"#40ff00\",\"#a7ff00\",\"#00ffbc\",\"#ffda00\",\"#a7ff00\",\"#0094ff\",\"#ff4d00\",\"#f3ff00\",\"#00fff1\",\"#00ff3b\",\"#ff2700\",\"#00ff6b\",\"#00ff0a\",\"#ff9900\",\"#ff0028\",\"#00ff70\",\"#ff4800\",\"#ff8900\",\"#00ffb6\",\"#ff5d00\",\"#ff0028\",\"#ff9e00\",\"#00ff00\",\"#ff0028\",\"#ffae00\",\"#2f00ff\",\"#00ffe1\",\"#ff0028\",\"#8cff00\",\"#000cff\",\"#00ff45\",\"#d2ff00\",\"#00ff35\",\"#00fff7\",\"#00ffa1\",\"#7500ff\",\"#00ff1a\",\"#ff0028\",\"#d700ff\",\"#00ff10\",\"#0012ff\",\"#f800ff\",\"#00ff7b\",\"#0017ff\",\"#005eff\",\"#00d0ff\",\"#00ffdc\",\"#ff2700\",\"#00ff4b\",\"#e3ff00\",\"#b2ff00\",\"#ff4800\",\"#71ff00\",\"#2900ff\",\"#00ff66\",\"#0007ff\",\"#ff6e00\",\"#4bff00\",\"#00ff86\",\"#6cff00\",\"#00ff56\",\"#20ff00\",\"#ffbf00\",\"#00fffc\",\"#00ff15\",\"#00ffd7\",\"#91ff00\",\"#a2ff00\",\"#00ffc1\",\"#ff0028\",\"#71ff00\",\"#00ff3b\",\"#00ffd7\",\"#ff001e\",\"#00fff7\",\"#66ff00\",\"#00ff60\",\"#ff2d00\",\"#0094ff\",\"#007eff\",\"#1bff00\",\"#ff0028\",\"#00ffac\",\"#00ffcc\",\"#00ffac\",\"#00ff8b\",\"#edff00\",\"#00ffec\",\"#ff0028\",\"#ff0c00\",\"#009fff\",\"#ff3200\",\"#00ffe1\",\"#25ff00\",\"#51ff00\",\"#edff00\",\"#ff0028\",\"#00ffc6\",\"#ff0028\",\"#25ff00\",\"#7cff00\",\"#ff0028\",\"#ff8300\",\"#004dff\",\"#e3ff00\",\"#00ff86\",\"#00d0ff\",\"#00b5ff\",\"#05ff00\",\"#00f1ff\",\"#00ff50\",\"#ff2d00\",\"#a2ff00\",\"#00ff8b\",\"#1300ff\",\"#ff0028\",\"#00ff1a\",\"#00ff9b\",\"#acff00\",\"#00ff3b\",\"#ff5200\",\"#00ff70\",\"#00ff60\",\"#00ff86\",\"#00ff50\",\"#002dff\",\"#ff7300\",\"#91ff00\",\"#2900ff\",\"#8000ff\",\"#00ff10\",\"#ff0028\",\"#ff0028\",\"#00ff4b\",\"#00e0ff\",\"#ff0028\",\"#00ffa1\",\"#91ff00\",\"#0022ff\",\"#00ff25\",\"#ff5d00\",\"#ffcf00\",\"#f8ff00\",\"#4a00ff\",\"#0300ff\",\"#7cff00\",\"#ff0028\",\"#00e0ff\",\"#36ff00\",\"#00ff6b\",\"#00ff6b\",\"#0800ff\",\"#3f00ff\",\"#00ff20\",\"#0053ff\",\"#9cff00\",\"#ff3200\",\"#ff8900\",\"#f200ff\",\"#ff9e00\",\"#3900ff\",\"#00ff40\",\"#ff0028\",\"#ffda00\",\"#00f1ff\",\"#00aaff\",\"#00caff\",\"#20ff00\",\"#004dff\",\"#7500ff\",\"#ff0008\",\"#76ff00\",\"#0800ff\",\"#f3ff00\",\"#0043ff\",\"#ff1200\",\"#ff0028\",\"#ff0013\",\"#00ffcc\",\"#0001ff\",\"#00ffbc\",\"#d8ff00\",\"#0043ff\",\"#ff8300\",\"#40ff00\",\"#008fff\",\"#00ff4b\",\"#00ffcc\",\"#0063ff\",\"#ff6300\",\"#0089ff\",\"#ff8e00\",\"#bdff00\",\"#00ff4b\",\"#ffef00\",\"#71ff00\",\"#00ff91\",\"#9cff00\",\"#ffdf00\",\"#00ff35\",\"#00ff7b\",\"#0053ff\",\"#ff7300\",\"#00ff66\",\"#ffc400\",\"#00ffcc\",\"#ff0028\",\"#15ff00\",\"#ffea00\",\"#2400ff\",\"#ffea00\",\"#ff2d00\",\"#ff0028\",\"#00ffdc\",\"#ffdf00\",\"#00c5ff\",\"#0aff00\",\"#00ff60\",\"#ff0028\",\"#c2ff00\",\"#ff2700\",\"#ff9e00\",\"#ff0028\",\"#ff0028\",\"#00ff9b\",\"#00ffdc\",\"#ff0028\",\"#00ff5b\",\"#ff7300\",\"#00d5ff\",\"#004dff\",\"#00ff3b\",\"#ff0018\",\"#81ff00\",\"#ffda00\",\"#00fff1\",\"#ffc900\",\"#7cff00\",\"#00ffd7\",\"#87ff00\",\"#acff00\",\"#87ff00\",\"#ff001e\",\"#00ff76\",\"#00ffd1\",\"#d2ff00\",\"#46ff00\",\"#d2ff00\",\"#00ff35\",\"#00ffe7\",\"#ff0100\",\"#00afff\",\"#56ff00\",\"#ff0008\",\"#0aff00\",\"#ff0028\",\"#00dbff\",\"#ff1200\",\"#2bff00\",\"#00ff2b\",\"#00ff6b\",\"#005eff\",\"#00b5ff\",\"#00dbff\",\"#ff8e00\",\"#f800ff\",\"#ff0013\",\"#fffa00\",\"#ff0028\",\"#ff0013\",\"#ff1c00\",\"#ff0028\",\"#0032ff\",\"#00ff40\",\"#00fff1\",\"#9cff00\",\"#00ffa1\",\"#ffda00\",\"#ffdf00\",\"#00ffdc\",\"#0084ff\",\"#00ff40\",\"#ffef00\",\"#ff0028\",\"#ff0028\",\"#00ff86\",\"#00ffb6\",\"#56ff00\",\"#00afff\",\"#7cff00\",\"#71ff00\",\"#25ff00\",\"#2900ff\",\"#00caff\",\"#1900ff\",\"#00ff91\",\"#ff0028\",\"#00b5ff\",\"#c7ff00\",\"#feff00\",\"#87ff00\",\"#00ff2b\",\"#ff0028\",\"#81ff00\",\"#00ff8b\",\"#00ffd7\",\"#87ff00\",\"#ffea00\",\"#00ebff\",\"#009aff\",\"#00ffe7\",\"#ffb900\",\"#00aaff\",\"#00ffd1\",\"#00ffe1\",\"#ff0028\",\"#ff0028\",\"#ff3700\",\"#ffef00\",\"#ff0028\",\"#00ffe1\",\"#00ff56\",\"#ffda00\",\"#005eff\",\"#c2ff00\",\"#00ffa6\",\"#3f00ff\",\"#00c0ff\",\"#ffb900\",\"#76ff00\",\"#00c5ff\",\"#00ff05\",\"#00ff15\",\"#71ff00\",\"#00fff7\",\"#00afff\",\"#003dff\",\"#fffa00\",\"#009aff\",\"#0032ff\",\"#0032ff\",\"#ff0028\",\"#97ff00\",\"#fffa00\",\"#ff0028\",\"#00ff1a\",\"#00ffac\",\"#ff0028\",\"#00ff86\",\"#ddff00\",\"#0094ff\",\"#00ffbc\",\"#ff0008\",\"#ffa400\",\"#00ff66\",\"#8b00ff\",\"#61ff00\",\"#00ffec\",\"#00ff00\",\"#00ffb1\",\"#30ff00\",\"#0001ff\",\"#4bff00\",\"#ff0028\",\"#00ff20\",\"#5a00ff\",\"#0094ff\",\"#00ffa1\",\"#ff0028\",\"#e8ff00\",\"#36ff00\",\"#3bff00\",\"#00ff00\",\"#ff0028\",\"#a2ff00\",\"#f800ff\",\"#ff0028\",\"#6cff00\",\"#00ff60\",\"#00f1ff\",\"#ff0028\",\"#00ffdc\",\"#fff500\",\"#2900ff\",\"#00ff9b\",\"#00ff86\",\"#00e6ff\",\"#ff0028\",\"#7000ff\",\"#00ff3b\",\"#ff4d00\",\"#ff6300\",\"#00ff4b\",\"#e8ff00\",\"#ff8900\",\"#6500ff\",\"#00ff76\",\"#00ff7b\",\"#2bff00\",\"#00ff81\",\"#00aaff\",\"#b7ff00\",\"#00ffa6\",\"#00ff00\",\"#56ff00\",\"#ff5d00\",\"#66ff00\",\"#66ff00\",\"#00d5ff\",\"#0058ff\",\"#ff0028\",\"#81ff00\",\"#ff0028\",\"#00ff45\",\"#00ff76\",\"#00ff6b\",\"#ff0028\",\"#ff0028\",\"#a7ff00\",\"#ffbf00\",\"#ff7300\",\"#00ff05\",\"#4bff00\",\"#00ff6b\",\"#00d0ff\",\"#008fff\",\"#e3ff00\",\"#ff2d00\",\"#ff0028\",\"#00c5ff\",\"#00ff66\",\"#56ff00\",\"#ffb400\",\"#ddff00\",\"#ffbf00\",\"#ff0028\",\"#2f00ff\",\"#ffa900\",\"#3f00ff\",\"#6cff00\",\"#a7ff00\",\"#ff0028\",\"#ff0028\",\"#ff0013\",\"#ff0028\",\"#a100ff\",\"#ff8900\",\"#ff0700\",\"#ff5d00\",\"#00ffc6\",\"#00ff6b\",\"#ff0028\",\"#ff6800\",\"#00d0ff\",\"#00ff70\",\"#ff0028\",\"#20ff00\",\"#00ff81\",\"#ff0028\",\"#00ffa6\",\"#d8ff00\",\"#00ffc6\",\"#ff0028\",\"#00ff7b\",\"#0074ff\",\"#0079ff\",\"#007eff\",\"#ffef00\",\"#ff0028\",\"#ff0028\",\"#3bff00\",\"#0074ff\",\"#ffa400\",\"#ffe400\",\"#ff0028\",\"#56ff00\",\"#5500ff\",\"#2bff00\",\"#00ff40\",\"#00f1ff\",\"#0aff00\",\"#ffc900\",\"#d8ff00\",\"#ffcf00\",\"#ffe400\",\"#61ff00\",\"#00ff2b\",\"#00baff\",\"#ffb900\",\"#ff9e00\",\"#ff0028\",\"#ff0028\",\"#00ff6b\",\"#00ff00\",\"#ff0028\",\"#ff0028\",\"#00ff3b\",\"#0089ff\",\"#00ff1a\",\"#ff6800\",\"#b2ff00\",\"#3bff00\",\"#00ff0a\",\"#00ffcc\",\"#00e6ff\",\"#00caff\",\"#008fff\",\"#2900ff\",\"#0084ff\",\"#00ff6b\",\"#15ff00\",\"#00ff8b\",\"#00ff05\",\"#00ffe7\",\"#9cff00\",\"#0800ff\",\"#ff0028\",\"#003dff\",\"#ff0003\",\"#ff0028\",\"#ff2200\",\"#e3ff00\",\"#00ff7b\",\"#ff4800\",\"#00ff81\",\"#ffae00\",\"#ff3700\",\"#004dff\",\"#00e0ff\",\"#00ff1a\",\"#51ff00\",\"#00fff7\",\"#00fffc\",\"#ffc400\",\"#0007ff\",\"#0074ff\",\"#ff0018\",\"#00dbff\",\"#ff3d00\",\"#00ffe7\",\"#ac00ff\",\"#2900ff\",\"#ff4d00\",\"#ff0028\",\"#00ff70\",\"#71ff00\",\"#00ff0a\",\"#61ff00\",\"#56ff00\",\"#8500ff\",\"#004dff\",\"#00ff25\",\"#ff0028\",\"#ff0028\",\"#ff0008\",\"#00ff96\",\"#ff2200\",\"#2900ff\",\"#00ff45\",\"#edff00\",\"#00ffdc\",\"#00ffa1\",\"#61ff00\",\"#ff0028\",\"#00e0ff\",\"#ff0028\",\"#ffb900\",\"#ff0028\",\"#a2ff00\",\"#ff0028\",\"#0063ff\",\"#00ff66\",\"#00ffac\",\"#ff0028\",\"#ff0028\",\"#4bff00\",\"#00fff7\",\"#0032ff\",\"#fffa00\",\"#ff0028\",\"#00d5ff\",\"#00ffcc\",\"#ff0028\",\"#00fff7\",\"#ff0028\",\"#ff8900\",\"#f3ff00\",\"#ffa400\",\"#ff0028\",\"#ff0028\",\"#00ff76\",\"#ff0028\",\"#00ff7b\",\"#0058ff\",\"#ff0028\",\"#20ff00\",\"#7000ff\",\"#81ff00\",\"#ff3d00\",\"#8cff00\",\"#002dff\",\"#ff0028\",\"#00ff96\",\"#00fbff\",\"#00ebff\",\"#9cff00\",\"#ff7300\",\"#87ff00\",\"#ff0018\",\"#00ffec\",\"#ddff00\",\"#ff0028\",\"#00ff70\",\"#0048ff\",\"#ff0028\",\"#00ebff\",\"#009fff\",\"#002dff\",\"#00ff15\",\"#5f00ff\",\"#ff0028\",\"#ff0028\",\"#7cff00\",\"#00ffa6\",\"#00ffe7\",\"#00ffcc\",\"#ff0028\",\"#81ff00\",\"#ff0028\",\"#0032ff\",\"#71ff00\",\"#ff0028\",\"#0e00ff\",\"#ff0028\",\"#00a4ff\",\"#1bff00\",\"#00fff1\",\"#ff0028\",\"#ff0028\",\"#00ffd1\",\"#00ff5b\",\"#ff0028\",\"#56ff00\",\"#00fffc\",\"#ff2d00\",\"#00ffcc\",\"#ff8300\",\"#9600ff\",\"#ff5800\",\"#00fff7\",\"#00ff56\",\"#d8ff00\",\"#00f6ff\",\"#ff0028\",\"#acff00\",\"#f8ff00\",\"#0043ff\",\"#00f6ff\",\"#0063ff\",\"#00ffb6\",\"#ff0028\",\"#00ff70\",\"#00ff70\",\"#ff9900\",\"#00ff3b\",\"#f8ff00\",\"#1300ff\",\"#00ff81\",\"#00afff\",\"#00e6ff\",\"#ffbf00\",\"#d8ff00\",\"#05ff00\",\"#ff1200\",\"#ff001e\",\"#b2ff00\",\"#0800ff\",\"#ff0028\",\"#3bff00\",\"#00ffbc\",\"#00ffa1\",\"#ffb900\",\"#00ff8b\",\"#1bff00\",\"#ff0028\",\"#00ff70\",\"#00d0ff\",\"#00ff45\",\"#00ff6b\",\"#97ff00\",\"#003dff\",\"#66ff00\",\"#ff0028\",\"#ff6300\",\"#5a00ff\",\"#00ffa6\",\"#ff6e00\",\"#9600ff\",\"#ff5800\",\"#ff0028\",\"#ff0028\",\"#0069ff\",\"#25ff00\",\"#ff8300\",\"#00fbff\",\"#00ffe1\",\"#00fbff\",\"#00ffa1\",\"#00dbff\",\"#00b5ff\",\"#8500ff\",\"#00b5ff\",\"#00fff7\",\"#ff5200\",\"#00ffb1\",\"#0aff00\",\"#ffcf00\",\"#00ff40\",\"#00ff91\",\"#00ff0a\",\"#10ff00\",\"#2f00ff\",\"#00ffb6\",\"#00ffcc\",\"#ffc900\",\"#00fffc\",\"#ff0028\",\"#ff000e\",\"#00c5ff\",\"#ff0028\",\"#00ffc6\",\"#ff0028\",\"#00fff1\",\"#00ffdc\",\"#ff0013\",\"#00ff8b\",\"#00ffb1\",\"#00ff5b\",\"#0043ff\",\"#0084ff\",\"#ff0028\",\"#ff5800\",\"#00ff7b\",\"#00ffb1\",\"#6cff00\",\"#00ff3b\",\"#81ff00\",\"#ff7800\",\"#00ff35\",\"#0001ff\",\"#00ff86\",\"#00ff50\",\"#d8ff00\",\"#0058ff\",\"#ff0028\",\"#ffcf00\",\"#ddff00\",\"#25ff00\",\"#00ffd7\",\"#ffb400\",\"#ff0003\",\"#0058ff\",\"#00ff9b\",\"#0069ff\",\"#3bff00\",\"#ff0028\",\"#00ffa6\",\"#97ff00\",\"#5500ff\",\"#ff4800\",\"#0043ff\",\"#00ff20\",\"#fffa00\",\"#0069ff\",\"#91ff00\",\"#40ff00\",\"#0038ff\",\"#006eff\",\"#ff0028\",\"#00ff10\",\"#fff500\",\"#20ff00\",\"#ff00e5\",\"#00fffc\",\"#91ff00\",\"#ff0028\",\"#f3ff00\",\"#00afff\",\"#00ff3b\",\"#00ffe1\",\"#8cff00\",\"#fff500\",\"#1bff00\",\"#ff0028\",\"#ff4d00\",\"#3bff00\",\"#0084ff\",\"#ff1700\",\"#00fffc\",\"#00ff70\",\"#00ffe1\",\"#ff0028\",\"#1bff00\",\"#00ebff\",\"#00ffa1\",\"#97ff00\",\"#00dbff\",\"#ff2200\",\"#ff0028\",\"#2bff00\",\"#009fff\",\"#ffb400\",\"#00ffec\",\"#ff0100\",\"#00e6ff\",\"#007eff\",\"#36ff00\",\"#51ff00\",\"#003dff\",\"#00c5ff\",\"#66ff00\",\"#00ff15\",\"#00ff66\",\"#b2ff00\",\"#00ff60\",\"#00f1ff\",\"#00fbff\",\"#00ff96\",\"#c2ff00\",\"#4bff00\",\"#ffea00\",\"#00ff05\",\"#d2ff00\",\"#00ffe7\",\"#ff0028\",\"#ff0028\",\"#1300ff\",\"#71ff00\",\"#00ffbc\",\"#ff0028\",\"#00ff25\",\"#ff6800\",\"#e3ff00\",\"#b7ff00\",\"#ff0028\",\"#ff00df\",\"#00ff6b\",\"#00ff40\",\"#ff0013\",\"#3400ff\",\"#00ff86\",\"#00fff7\",\"#ff0028\",\"#00ff10\",\"#56ff00\",\"#40ff00\",\"#cdff00\",\"#ff0028\",\"#00ffdc\",\"#ff5200\",\"#ff0700\",\"#ff0028\",\"#ff0028\",\"#00caff\",\"#20ff00\",\"#00ff7b\",\"#9cff00\",\"#ff0028\",\"#00ff7b\",\"#00e0ff\",\"#7cff00\",\"#7cff00\",\"#ff0028\",\"#0094ff\",\"#00ffe7\",\"#ffe400\",\"#51ff00\",\"#006eff\",\"#002dff\",\"#0aff00\",\"#ff0028\",\"#ff0028\",\"#0e00ff\",\"#00ff56\",\"#ff0028\",\"#ff7e00\",\"#ff0028\",\"#40ff00\",\"#f8ff00\",\"#20ff00\",\"#4400ff\",\"#00dbff\",\"#ff0013\",\"#00ffb1\",\"#0063ff\",\"#ff2200\",\"#ff0028\",\"#3900ff\",\"#00ffd7\",\"#b2ff00\",\"#a600ff\",\"#f3ff00\",\"#ff0028\",\"#ff5200\",\"#ffb400\",\"#00ff15\",\"#fff500\",\"#ff5200\",\"#05ff00\",\"#00ffd1\",\"#c7ff00\",\"#00ff25\",\"#97ff00\",\"#ff0028\",\"#000cff\",\"#ff001e\",\"#00ffec\",\"#ff0018\",\"#0074ff\",\"#ff8900\",\"#0043ff\",\"#ff0700\",\"#ff0028\",\"#00ff00\",\"#0053ff\",\"#ff1200\",\"#f3ff00\",\"#00ff0a\",\"#25ff00\",\"#0089ff\",\"#ffd400\",\"#ff0028\",\"#00a4ff\",\"#00ffbc\",\"#0063ff\",\"#ff4d00\",\"#46ff00\",\"#ffb900\",\"#c7ff00\",\"#00ff15\",\"#00aaff\",\"#00ff5b\",\"#ff0003\",\"#ff6e00\",\"#ffb400\",\"#ffcf00\",\"#00ffe1\",\"#4bff00\",\"#ff0028\",\"#fff500\",\"#ff0028\",\"#00ff96\",\"#00ff20\",\"#00ffe1\",\"#00ff76\",\"#1e00ff\",\"#00fffc\",\"#91ff00\",\"#00ff60\",\"#ff4800\",\"#0063ff\",\"#00ff30\",\"#9cff00\",\"#001dff\",\"#00ff15\",\"#d2ff00\",\"#ffb900\",\"#00e6ff\",\"#00ff20\",\"#0300ff\",\"#00ff35\",\"#00ff76\",\"#00ff6b\",\"#00ffcc\",\"#00fbff\",\"#ff3700\",\"#ff0028\",\"#00ff86\",\"#ffdf00\",\"#2bff00\",\"#0017ff\",\"#bdff00\",\"#00ff45\",\"#ff2700\",\"#ffcf00\",\"#b7ff00\",\"#00f6ff\",\"#ff0c00\",\"#7b00ff\",\"#00ff30\",\"#00f1ff\",\"#ff0028\",\"#8000ff\",\"#00f1ff\",\"#ff8900\",\"#00f6ff\",\"#00baff\",\"#00ff66\",\"#00ff15\",\"#ff0028\",\"#00ff8b\",\"#51ff00\",\"#00c0ff\",\"#fff500\",\"#ff000e\",\"#ff3200\",\"#cdff00\",\"#edff00\",\"#b7ff00\",\"#4f00ff\",\"#00c0ff\",\"#00ffcc\",\"#ff8300\",\"#ff00bf\",\"#ff0700\",\"#ff0028\",\"#5bff00\",\"#8000ff\",\"#81ff00\",\"#00ff10\",\"#ffdf00\",\"#00ffec\",\"#ff0028\",\"#ffe400\",\"#f3ff00\",\"#ffda00\",\"#006eff\",\"#d8ff00\",\"#00fff1\",\"#15ff00\",\"#25ff00\",\"#ff4800\",\"#5500ff\",\"#ff0028\",\"#ff0028\",\"#acff00\",\"#00ff05\",\"#ffc900\",\"#00d0ff\",\"#00ffdc\",\"#61ff00\",\"#00ff00\",\"#ff7300\",\"#6a00ff\",\"#00ffa1\",\"#ff7800\",\"#00ffdc\",\"#ff4800\",\"#ff0028\",\"#cc00ff\",\"#ff5800\",\"#ff0028\",\"#00f1ff\",\"#0007ff\",\"#00ffb6\",\"#36ff00\",\"#00e6ff\",\"#ffdf00\",\"#ff0028\",\"#00ff2b\",\"#00ffc1\",\"#05ff00\",\"#feff00\",\"#c2ff00\",\"#b100ff\",\"#0069ff\",\"#00f1ff\",\"#56ff00\",\"#ff0028\",\"#f8ff00\",\"#00ffa6\",\"#ff1700\",\"#ff0028\",\"#15ff00\",\"#ff0028\",\"#1bff00\",\"#ff9300\",\"#3bff00\",\"#00fbff\",\"#00aaff\",\"#00fffc\",\"#ff0028\",\"#ffda00\",\"#ff0028\",\"#00ff91\",\"#ff3200\",\"#00ff15\",\"#0027ff\",\"#ff0028\",\"#acff00\",\"#00e6ff\",\"#00ff0a\",\"#91ff00\",\"#00ffc1\",\"#91ff00\",\"#00ffb1\",\"#00dbff\",\"#00ffc1\",\"#56ff00\",\"#5bff00\",\"#0079ff\",\"#0053ff\",\"#ff0028\",\"#56ff00\",\"#ffdf00\",\"#76ff00\",\"#ffb400\",\"#6a00ff\",\"#ff0028\",\"#fff500\",\"#91ff00\",\"#00d0ff\",\"#46ff00\",\"#0012ff\",\"#00caff\",\"#00ffd7\",\"#007eff\",\"#00a4ff\",\"#ff9900\",\"#5bff00\",\"#007eff\",\"#ff0028\",\"#00ebff\",\"#9cff00\",\"#00ff7b\",\"#0001ff\",\"#00ff81\",\"#edff00\",\"#0053ff\",\"#15ff00\",\"#ff0028\",\"#00caff\",\"#ddff00\",\"#ff0028\",\"#6cff00\",\"#25ff00\",\"#0063ff\",\"#ff0028\",\"#ff6300\",\"#00ff70\",\"#009aff\",\"#00fff1\",\"#00c5ff\",\"#008fff\",\"#001dff\",\"#d8ff00\",\"#61ff00\",\"#10ff00\",\"#ffef00\",\"#ff0028\",\"#00ff25\",\"#ffdf00\",\"#d2ff00\",\"#5bff00\",\"#ff7e00\",\"#87ff00\",\"#ffdf00\",\"#ffb900\",\"#ff0028\",\"#004dff\",\"#ff0028\",\"#ffd400\",\"#00caff\",\"#7500ff\",\"#ff0028\",\"#00ffe1\",\"#0043ff\",\"#ffe400\",\"#d8ff00\",\"#00ffac\",\"#ff0028\",\"#ffc900\",\"#00ffa1\",\"#00ff76\",\"#00ffd7\",\"#ff7800\",\"#00ff8b\",\"#005eff\",\"#00ff76\",\"#40ff00\",\"#ff0028\",\"#00ff1a\",\"#ff4800\",\"#00ffbc\",\"#00fff7\",\"#00ff35\",\"#00ff30\",\"#ffc900\",\"#00ebff\",\"#ff3700\",\"#ff0028\",\"#00ffb1\",\"#3bff00\",\"#ff0028\",\"#1bff00\",\"#ff0028\",\"#00ff4b\",\"#00d5ff\",\"#acff00\",\"#00ffc1\",\"#ff0028\",\"#ff5800\",\"#ff2200\",\"#00ff20\",\"#0e00ff\",\"#0043ff\",\"#00ff00\",\"#00ff45\",\"#ff0028\",\"#ff4800\",\"#00dbff\",\"#ff8300\",\"#ff1200\",\"#00ff96\",\"#b7ff00\",\"#00b5ff\",\"#00ff50\",\"#009aff\",\"#81ff00\",\"#00e6ff\",\"#00ff70\",\"#00fff7\",\"#00fffc\",\"#00ffbc\",\"#5bff00\",\"#00ffd1\",\"#00ffac\",\"#d2ff00\",\"#a7ff00\",\"#ff7e00\",\"#a7ff00\",\"#00ff2b\",\"#ff7800\",\"#30ff00\",\"#fffa00\",\"#10ff00\",\"#fff500\",\"#00ffe1\",\"#00ffcc\",\"#00ffdc\",\"#ff0028\",\"#1900ff\",\"#ff0028\",\"#00ff05\",\"#00aaff\",\"#5bff00\",\"#00ff2b\",\"#00ff45\",\"#00ff20\",\"#97ff00\",\"#ff0028\",\"#00afff\",\"#ff0028\",\"#0027ff\",\"#004dff\",\"#10ff00\",\"#3400ff\",\"#00ff8b\",\"#d2ff00\",\"#ffb400\",\"#1bff00\",\"#00ffd7\",\"#00ff7b\",\"#ffc900\",\"#00ffe7\",\"#ff0028\",\"#00ff5b\",\"#4f00ff\",\"#00ff4b\",\"#00ff6b\",\"#ddff00\",\"#36ff00\",\"#00ff76\",\"#00f6ff\",\"#00ffb1\",\"#ff0028\",\"#ff0028\",\"#00ff96\",\"#00ff00\",\"#0084ff\",\"#00ffd1\",\"#00e6ff\",\"#00fff7\",\"#ff0028\",\"#81ff00\",\"#c7ff00\",\"#1bff00\",\"#ffa400\",\"#0074ff\",\"#0094ff\",\"#ff0028\",\"#ff3700\",\"#ff0028\",\"#ff0028\",\"#00b5ff\",\"#ff0028\",\"#ff0c00\",\"#00ffbc\",\"#f3ff00\",\"#00ff76\",\"#20ff00\",\"#00ff56\",\"#ff8900\",\"#ff1200\",\"#00f1ff\",\"#00ff5b\",\"#0063ff\",\"#ff001e\",\"#00ffb6\",\"#00ff2b\",\"#51ff00\",\"#00ff10\",\"#87ff00\",\"#ddff00\",\"#ff0028\",\"#66ff00\",\"#00ff30\",\"#6500ff\",\"#00ffa1\",\"#00e6ff\",\"#00ff4b\",\"#00ffa1\",\"#0053ff\",\"#0022ff\",\"#ff6e00\",\"#00ff9b\",\"#0017ff\",\"#00ff30\",\"#00ff81\",\"#ff0028\",\"#2bff00\",\"#ff000e\",\"#e3ff00\",\"#00ffb6\",\"#ff0018\",\"#00ff05\",\"#00d0ff\",\"#40ff00\",\"#ffdf00\",\"#ff0028\",\"#ff0013\",\"#003dff\",\"#9600ff\",\"#2bff00\",\"#00ffc1\",\"#e8ff00\",\"#0084ff\",\"#ff0028\",\"#ff0028\",\"#6cff00\",\"#00ffa1\",\"#001dff\",\"#00ebff\",\"#ff0028\",\"#2bff00\",\"#dc00ff\",\"#feff00\",\"#ffc400\",\"#ffc900\",\"#ff6e00\",\"#ff0028\",\"#00fff1\",\"#25ff00\",\"#0aff00\",\"#00ffc1\",\"#3bff00\",\"#ff0028\",\"#00e6ff\",\"#00fff7\",\"#00ff15\",\"#00ff3b\",\"#00ff10\",\"#e3ff00\",\"#ff0028\",\"#00ffb6\",\"#ff2700\",\"#00ffdc\",\"#00f6ff\",\"#ff2200\",\"#5bff00\",\"#ffd400\",\"#00e0ff\",\"#30ff00\",\"#00ff50\",\"#0022ff\",\"#00aaff\",\"#d2ff00\",\"#ff0028\",\"#fffa00\",\"#ffc900\",\"#7cff00\",\"#5a00ff\",\"#00ff9b\",\"#00afff\",\"#a7ff00\",\"#00ff45\",\"#00ff70\",\"#00aaff\",\"#ff0028\",\"#ffa400\",\"#bdff00\",\"#ff4200\",\"#00ffd1\",\"#00ff60\",\"#ff0028\",\"#15ff00\",\"#ff9900\",\"#4a00ff\",\"#ff0028\",\"#0800ff\",\"#20ff00\",\"#00d0ff\",\"#00ffd1\",\"#ff7800\",\"#9600ff\",\"#a2ff00\",\"#0017ff\",\"#00ff9b\",\"#00ff3b\",\"#ff7e00\",\"#00ff05\",\"#66ff00\",\"#0300ff\",\"#0aff00\",\"#ff0028\",\"#ff7300\",\"#ff8300\",\"#00ffe7\",\"#009aff\",\"#1900ff\",\"#ff5800\",\"#b7ff00\",\"#0012ff\",\"#0800ff\",\"#ff7800\",\"#4bff00\",\"#ff0700\",\"#ff0028\",\"#00ff6b\",\"#b2ff00\",\"#00fffc\",\"#00ff05\",\"#ff4d00\",\"#00ff8b\",\"#00ffb1\",\"#00dbff\",\"#ff0028\",\"#0027ff\",\"#00ffdc\",\"#ff5200\",\"#0027ff\",\"#81ff00\",\"#71ff00\",\"#25ff00\",\"#00baff\",\"#7cff00\",\"#56ff00\",\"#ff0028\",\"#00ffa6\",\"#00caff\",\"#cdff00\",\"#00aaff\",\"#bdff00\",\"#00ff0a\",\"#ff0018\",\"#00ff7b\",\"#a2ff00\",\"#00ffcc\",\"#ff0028\",\"#ff0028\",\"#00afff\",\"#00ff70\",\"#ff4200\",\"#ffea00\",\"#00ff2b\",\"#87ff00\",\"#00e6ff\",\"#3f00ff\",\"#00ff0a\",\"#ff0028\",\"#ff3200\",\"#25ff00\",\"#ff0028\",\"#8cff00\",\"#ff0028\",\"#00ffdc\",\"#46ff00\",\"#00ff7b\",\"#3400ff\",\"#0079ff\",\"#edff00\",\"#1e00ff\",\"#00ff81\",\"#00ffd1\",\"#00ff9b\",\"#00ff60\",\"#00ff50\",\"#ff1c00\",\"#ff00cf\",\"#00e6ff\",\"#b7ff00\",\"#c2ff00\",\"#ff3d00\",\"#00d5ff\",\"#f3ff00\",\"#00f1ff\",\"#00ff8b\",\"#ff5d00\",\"#00ffac\",\"#8cff00\",\"#1900ff\",\"#0053ff\",\"#00ff9b\",\"#ff0028\",\"#ff0018\",\"#00ffa1\",\"#ff0028\",\"#1e00ff\",\"#ff00fb\",\"#00ff56\",\"#0084ff\",\"#ff0028\",\"#71ff00\",\"#00ebff\",\"#ff0028\",\"#a7ff00\",\"#00ff50\",\"#c2ff00\",\"#ff0028\",\"#ffa900\",\"#00ff4b\",\"#00e6ff\",\"#ff0028\",\"#a7ff00\",\"#00ff45\",\"#bdff00\",\"#ff4800\",\"#00ffd7\",\"#bdff00\",\"#ffe400\",\"#00ff20\",\"#51ff00\",\"#00ffec\",\"#00f1ff\",\"#00ff00\",\"#00ff05\",\"#66ff00\",\"#0089ff\",\"#ff8e00\",\"#0001ff\",\"#00ffec\",\"#61ff00\",\"#00fffc\",\"#00ebff\",\"#ff0c00\",\"#ff0028\",\"#4bff00\",\"#00ffcc\",\"#d700ff\",\"#009fff\",\"#a7ff00\",\"#ffe400\",\"#05ff00\",\"#ff0028\",\"#ff0028\",\"#c7ff00\",\"#ff0028\",\"#00ffa6\",\"#00afff\",\"#ffae00\",\"#00e0ff\",\"#ff7300\",\"#ff2200\",\"#ff0028\",\"#d8ff00\",\"#ffdf00\",\"#5a00ff\",\"#00ffd1\",\"#0069ff\",\"#ffc400\",\"#00ffc1\",\"#00ff25\",\"#ffb900\",\"#d2ff00\",\"#00ff91\",\"#ffcf00\",\"#00ff30\",\"#00ff96\",\"#0800ff\",\"#b2ff00\",\"#00fffc\",\"#ff8300\",\"#00ff0a\",\"#0aff00\",\"#0017ff\",\"#ff5200\",\"#00c0ff\",\"#00dbff\",\"#2900ff\",\"#ff0028\",\"#00fffc\",\"#ff0700\",\"#71ff00\",\"#46ff00\",\"#00ff1a\",\"#ff0c00\",\"#00caff\",\"#00ff25\",\"#ff0028\",\"#71ff00\",\"#00ffdc\",\"#00ff9b\",\"#00ffec\",\"#009aff\",\"#1e00ff\",\"#ff0028\",\"#ff0028\",\"#00ff3b\",\"#00aaff\",\"#ddff00\",\"#00ff1a\",\"#05ff00\",\"#ff0028\",\"#ff0018\",\"#edff00\",\"#ff1c00\",\"#00fffc\",\"#00fff7\",\"#61ff00\",\"#00ff7b\",\"#7cff00\",\"#ffea00\",\"#ff0003\",\"#10ff00\",\"#00ffb6\",\"#00ff66\",\"#00ff2b\",\"#00ff5b\",\"#00d0ff\",\"#ff0028\",\"#00e6ff\",\"#00f6ff\",\"#f3ff00\",\"#ff0028\",\"#00ff0a\",\"#36ff00\",\"#ff3700\",\"#4bff00\",\"#ff0028\",\"#3bff00\",\"#ff0028\",\"#ff0028\",\"#fffa00\",\"#ff5800\",\"#00ff00\",\"#46ff00\",\"#00fff7\",\"#ffae00\",\"#ff6e00\",\"#ff0028\",\"#e3ff00\",\"#004dff\",\"#d700ff\",\"#00ffe7\",\"#ff4800\",\"#00ff9b\",\"#0007ff\",\"#ff0028\",\"#ff0028\",\"#2f00ff\",\"#ff3d00\",\"#8b00ff\",\"#00ff10\",\"#00f1ff\",\"#ff0028\",\"#00b5ff\",\"#00aaff\",\"#00ffcc\",\"#ff0018\",\"#00ff40\",\"#00ffa6\",\"#00d0ff\",\"#fffa00\",\"#ff3d00\",\"#ff9900\",\"#3400ff\",\"#00ffe1\",\"#0007ff\",\"#2900ff\",\"#00d0ff\",\"#00ff81\",\"#ffcf00\",\"#0aff00\",\"#ddff00\",\"#00fbff\",\"#00ff20\",\"#ff9e00\",\"#ff0028\",\"#ff0028\",\"#00ffa6\",\"#ffc400\",\"#ff0028\",\"#00fff7\",\"#97ff00\",\"#ff0028\",\"#0aff00\",\"#ffc900\",\"#00ffe1\",\"#00ff91\",\"#001dff\",\"#36ff00\",\"#1e00ff\",\"#00ff8b\",\"#ff7300\",\"#ff0028\",\"#00ffd7\",\"#00ff0a\",\"#feff00\",\"#5500ff\",\"#ff0028\",\"#00d0ff\",\"#ff8e00\",\"#00caff\",\"#00d0ff\",\"#ff8300\",\"#fffa00\",\"#00ff1a\",\"#0053ff\",\"#3bff00\",\"#0079ff\",\"#00e0ff\",\"#00ffec\",\"#ff0028\",\"#ff0028\",\"#0aff00\",\"#00ff76\",\"#ff0028\",\"#9cff00\",\"#ff0028\",\"#5a00ff\",\"#0aff00\",\"#00ffec\",\"#00ff56\",\"#b2ff00\",\"#00ff66\",\"#ac00ff\",\"#0007ff\",\"#3900ff\",\"#0aff00\",\"#6a00ff\",\"#ff0003\",\"#ff0028\",\"#00ff70\",\"#87ff00\",\"#20ff00\",\"#0027ff\",\"#2bff00\",\"#00c5ff\",\"#ffda00\",\"#00ffe1\",\"#b2ff00\",\"#00fff7\",\"#00fbff\",\"#1bff00\",\"#00ff86\",\"#feff00\",\"#acff00\",\"#25ff00\",\"#05ff00\",\"#00ff50\",\"#00ff66\",\"#36ff00\",\"#ffb900\",\"#00d0ff\",\"#00ffe7\",\"#ff5d00\",\"#00ff96\",\"#00c0ff\",\"#d8ff00\",\"#00d5ff\",\"#00ffc1\",\"#ff3700\",\"#0038ff\",\"#00d0ff\",\"#00dbff\",\"#ff5800\",\"#a600ff\",\"#40ff00\",\"#ff8900\",\"#b2ff00\",\"#ff0700\",\"#00ff60\",\"#ff0028\",\"#00ff50\",\"#0001ff\",\"#0001ff\",\"#d2ff00\",\"#bdff00\",\"#1900ff\",\"#0038ff\",\"#ffa400\",\"#ff0013\",\"#00ff9b\",\"#00ff00\",\"#c7ff00\",\"#ff0028\",\"#0e00ff\",\"#00afff\",\"#30ff00\",\"#00fbff\",\"#ff0028\",\"#9000ff\",\"#ff0028\",\"#ffe400\",\"#00ff4b\",\"#ffef00\",\"#00fff7\",\"#00ffe7\",\"#ff0028\",\"#f3ff00\",\"#ff0c00\",\"#ff4800\",\"#00ffac\",\"#ff0028\",\"#0069ff\",\"#3f00ff\",\"#00ebff\",\"#ffb900\",\"#00ebff\",\"#ffe400\",\"#0069ff\",\"#b7ff00\",\"#00ff0a\",\"#00ff30\",\"#8cff00\",\"#ff8300\",\"#ff5800\",\"#0053ff\",\"#36ff00\",\"#0038ff\",\"#00ff60\",\"#ff0028\",\"#00ff9b\",\"#009aff\",\"#00e6ff\",\"#ff0028\",\"#00f6ff\",\"#1e00ff\",\"#ff0028\",\"#00caff\",\"#ff0028\",\"#00ffac\",\"#ffea00\",\"#00dbff\",\"#00ff15\"],\"radius\":{\"__ndarray__\":\"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\",\"dtype\":\"float64\",\"shape\":[4000]},\"x\":{\"__ndarray__\":\"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\",\"dtype\":\"float64\",\"shape\":[4000]},\"y\":{\"__ndarray__\":\"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\",\"dtype\":\"float64\",\"shape\":[4000]}},\"selected\":{\"id\":\"1354\",\"type\":\"Selection\"},\"selection_policy\":{\"id\":\"1353\",\"type\":\"UnionRenderers\"}},\"id\":\"1326\",\"type\":\"ColumnDataSource\"},{\"attributes\":{\"overlay\":{\"id\":\"1352\",\"type\":\"BoxAnnotation\"}},\"id\":\"1315\",\"type\":\"BoxZoomTool\"},{\"attributes\":{\"callback\":null},\"id\":\"1297\",\"type\":\"DataRange1d\"},{\"attributes\":{},\"id\":\"1316\",\"type\":\"SaveTool\"},{\"attributes\":{},\"id\":\"1299\",\"type\":\"LinearScale\"},{\"attributes\":{},\"id\":\"1317\",\"type\":\"ResetTool\"},{\"attributes\":{\"fill_alpha\":{\"value\":0.1},\"fill_color\":{\"value\":\"#1f77b4\"},\"line_alpha\":{\"value\":0.1},\"line_color\":{\"value\":\"#1f77b4\"},\"radius\":{\"field\":\"radius\",\"units\":\"data\"},\"x\":{\"field\":\"x\"},\"y\":{\"field\":\"y\"}},\"id\":\"1328\",\"type\":\"Circle\"},{\"attributes\":{\"data_source\":{\"id\":\"1326\",\"type\":\"ColumnDataSource\"},\"glyph\":{\"id\":\"1327\",\"type\":\"Circle\"},\"hover_glyph\":null,\"muted_glyph\":null,\"nonselection_glyph\":{\"id\":\"1328\",\"type\":\"Circle\"},\"selection_glyph\":null,\"view\":{\"id\":\"1330\",\"type\":\"CDSView\"}},\"id\":\"1329\",\"type\":\"GlyphRenderer\"},{\"attributes\":{},\"id\":\"1318\",\"type\":\"HelpTool\"},{\"attributes\":{},\"id\":\"1301\",\"type\":\"LinearScale\"},{\"attributes\":{\"fill_alpha\":{\"value\":0.6},\"fill_color\":{\"field\":\"fill_color\"},\"line_color\":{\"value\":null},\"radius\":{\"field\":\"radius\",\"units\":\"data\"},\"x\":{\"field\":\"x\"},\"y\":{\"field\":\"y\"}},\"id\":\"1327\",\"type\":\"Circle\"},{\"attributes\":{\"formatter\":{\"id\":\"1348\",\"type\":\"BasicTickFormatter\"},\"ticker\":{\"id\":\"1304\",\"type\":\"BasicTicker\"}},\"id\":\"1303\",\"type\":\"LinearAxis\"},{\"attributes\":{},\"id\":\"1309\",\"type\":\"BasicTicker\"},{\"attributes\":{},\"id\":\"1350\",\"type\":\"BasicTickFormatter\"},{\"attributes\":{},\"id\":\"1304\",\"type\":\"BasicTicker\"},{\"attributes\":{\"ticker\":{\"id\":\"1304\",\"type\":\"BasicTicker\"}},\"id\":\"1307\",\"type\":\"Grid\"},{\"attributes\":{\"source\":{\"id\":\"1326\",\"type\":\"ColumnDataSource\"}},\"id\":\"1330\",\"type\":\"CDSView\"},{\"attributes\":{\"dimension\":1,\"ticker\":{\"id\":\"1309\",\"type\":\"BasicTicker\"}},\"id\":\"1312\",\"type\":\"Grid\"},{\"attributes\":{\"formatter\":{\"id\":\"1350\",\"type\":\"BasicTickFormatter\"},\"ticker\":{\"id\":\"1309\",\"type\":\"BasicTicker\"}},\"id\":\"1308\",\"type\":\"LinearAxis\"},{\"attributes\":{\"bottom_units\":\"screen\",\"fill_alpha\":{\"value\":0.5},\"fill_color\":{\"value\":\"lightgrey\"},\"left_units\":\"screen\",\"level\":\"overlay\",\"line_alpha\":{\"value\":1.0},\"line_color\":{\"value\":\"black\"},\"line_dash\":[4,4],\"line_width\":{\"value\":2},\"render_mode\":\"css\",\"right_units\":\"screen\",\"top_units\":\"screen\"},\"id\":\"1352\",\"type\":\"BoxAnnotation\"}],\"root_ids\":[\"1292\"]},\"title\":\"Bokeh Application\",\"version\":\"1.3.4\"}};\n",
       "  var render_items = [{\"docid\":\"2654b9d7-2bb4-4eb3-b2d5-00df7e26198a\",\"roots\":{\"1292\":\"bd1686a6-0ab3-4bbb-a800-01bc2ea8f13a\"}}];\n",
       "  root.Bokeh.embed.embed_items_notebook(docs_json, render_items);\n",
       "\n",
       "  }\n",
       "  if (root.Bokeh !== undefined) {\n",
       "    embed_document(root);\n",
       "  } else {\n",
       "    var attempts = 0;\n",
       "    var timer = setInterval(function(root) {\n",
       "      if (root.Bokeh !== undefined) {\n",
       "        embed_document(root);\n",
       "        clearInterval(timer);\n",
       "      }\n",
       "      attempts++;\n",
       "      if (attempts > 100) {\n",
       "        console.log(\"Bokeh: ERROR: Unable to run BokehJS code because BokehJS library is missing\");\n",
       "        clearInterval(timer);\n",
       "      }\n",
       "    }, 10, root)\n",
       "  }\n",
       "})(window);"
      ],
      "application/vnd.bokehjs_exec.v0+json": ""
     },
     "metadata": {
      "application/vnd.bokehjs_exec.v0+json": {
       "id": "1292"
      }
     },
     "output_type": "display_data"
    }
   ],
   "source": [
    "import numpy as np\n",
    "import matplotlib.cm as cm\n",
    "\n",
    "import bokeh.plotting as bk\n",
    "\n",
    "# generate data\n",
    "N = 4000\n",
    "x = np.random.random(size=N) * 100\n",
    "y = np.random.random(size=N) * 100\n",
    "radii = np.random.random(size=N) * 1.5\n",
    "\n",
    "# get a colormap from matplotlib\n",
    "colormap =cm.get_cmap(\"gist_rainbow\") #choose any matplotlib colormap here\n",
    "\n",
    "# define maximum and minimum for cmap\n",
    "colorspan=[40,140]\n",
    "\n",
    "# create a color channel with a value between 0 and 1\n",
    "# outside the colorspan the value becomes 0 (left) and 1 (right)\n",
    "cmap_input=np.interp(np.sqrt(x*x+y*y),colorspan,[0,1],left=0,right=1)\n",
    "print(cmap_input)\n",
    "\n",
    "# use colormap to generate rgb-values\n",
    "# second value is alfa (not used)\n",
    "# third parameter gives int if True, otherwise float\n",
    "A_color=colormap(cmap_input,1,True)\n",
    "\n",
    "# convert to hex to fit to bokeh\n",
    "bokeh_colors = [\"#%02x%02x%02x\" % (r, g, b) for r, g, b in A_color[:,0:3]]\n",
    "\n",
    "# create the plot-\n",
    "p = bk.figure(title=\"Example of importing colormap from matplotlib\")\n",
    "\n",
    "p.scatter(x, y, radius=radii,\n",
    "          fill_color=bokeh_colors, fill_alpha=0.6,\n",
    "          line_color=None)\n",
    "\n",
    "bk.output_file(\"rainbow.html\")\n",
    "\n",
    "bk.show(p)  # open a browser"
   ]
  },
  {
   "cell_type": "code",
   "execution_count": null,
   "metadata": {},
   "outputs": [],
   "source": []
  }
 ],
 "metadata": {
  "kernelspec": {
   "display_name": "Python 3",
   "language": "python",
   "name": "python3"
  },
  "language_info": {
   "codemirror_mode": {
    "name": "ipython",
    "version": 3
   },
   "file_extension": ".py",
   "mimetype": "text/x-python",
   "name": "python",
   "nbconvert_exporter": "python",
   "pygments_lexer": "ipython3",
   "version": "3.7.4"
  }
 },
 "nbformat": 4,
 "nbformat_minor": 4
}
