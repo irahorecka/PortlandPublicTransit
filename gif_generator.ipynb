{
 "cells": [
  {
   "cell_type": "code",
   "execution_count": 1,
   "metadata": {},
   "outputs": [],
   "source": [
    "import os\n",
    "import re\n",
    "import imageio\n",
    "BASE_DIR = os.path.abspath('')\n"
   ]
  },
  {
   "cell_type": "code",
   "execution_count": 2,
   "metadata": {},
   "outputs": [],
   "source": [
    "\"\"\"\n",
    "Print progress bar in-place to monitor\n",
    "progress of GIF render.\n",
    "\"\"\"\n",
    "def printProgressBar (iteration, total, prefix = '', suffix = '', decimals = 0, length = 100, fill = '█'):\n",
    "    \"\"\"\n",
    "    Call in a loop to create terminal progress bar\n",
    "    @params:\n",
    "        iteration   - Required  : current iteration (Int)\n",
    "        total       - Required  : total iterations (Int)\n",
    "        prefix      - Optional  : prefix string (Str)\n",
    "        suffix      - Optional  : suffix string (Str)\n",
    "        decimals    - Optional  : positive number of decimals in percent complete (Int)\n",
    "        length      - Optional  : character length of bar (Int)\n",
    "        fill        - Optional  : bar fill character (Str)\n",
    "    \"\"\"\n",
    "    percent = (\"{0:.\" + str(decimals) + \"f}\").format(100 * (iteration / float(total)))\n",
    "    filledLength = int(length * iteration // total)\n",
    "    bar = fill * filledLength + '-' * (length - filledLength)\n",
    "    print('\\r%s |%s| %s%% %s' % (prefix, bar, percent, suffix), end = '\\r')\n",
    "    # Print New Line on Complete\n",
    "    if iteration == total: \n",
    "        print()"
   ]
  },
  {
   "cell_type": "code",
   "execution_count": 3,
   "metadata": {},
   "outputs": [],
   "source": [
    "\"\"\"\n",
    "Search for digits in filename and sort\n",
    "files in numeric order\n",
    "\"\"\"\n",
    "def natural_keys(text):\n",
    "    '''\n",
    "    alist.sort(key=natural_keys) sorts in human order\n",
    "    http://nedbatchelder.com/blog/200712/human_sorting.html\n",
    "    '''\n",
    "    return [atoi(c) for c in re.split(r'(\\d+)', text)]\n",
    "\n",
    "\"\"\"\n",
    "Return int of string digit\n",
    "\"\"\"\n",
    "def atoi(text):\n",
    "    return int(text) if text.isdigit() else text\n"
   ]
  },
  {
   "cell_type": "code",
   "execution_count": 7,
   "metadata": {},
   "outputs": [],
   "source": [
    "\"\"\"\n",
    "Compile ever image in ./map_gifs directory\n",
    "into a gif file.\n",
    "\"\"\"\n",
    "def main():\n",
    "    # Gather file images and sort by numeric order in filename\n",
    "    os.chdir(\"{}/data\".format(BASE_DIR))\n",
    "    filenames = [png for png in os.listdir() if png[-4:] == \".png\"]\n",
    "    filenames.sort(key=natural_keys)\n",
    "    \n",
    "    # Create gif name and store in ./gif_files directory\n",
    "    GIF_DIR = \"{}/gif_files\".format(BASE_DIR)\n",
    "    gif_name = input(\"Provide a name for your gif: \")\n",
    "    if gif_name[-4:] != '.gif':\n",
    "        gif_name += '.gif'\n",
    "    gif_file = \"{_dir}/{_file}\".format(_dir=GIF_DIR, _file=gif_name)\n",
    "\n",
    "    # Make gif\n",
    "    with imageio.get_writer(gif_file, mode='I', duration=0.02) as writer:\n",
    "        for index, file in enumerate(filenames):\n",
    "            image = imageio.imread(file)\n",
    "            writer.append_data(image)\n",
    "            printProgressBar(index+1, len(filenames), prefix = 'Progress:',\n",
    "                             suffix = 'Complete', length = 50)\n",
    "    os.chdir(BASE_DIR)\n",
    "    print(\"\\n'{gif}' built succcessfully.\".format(gif=gif_name))\n"
   ]
  },
  {
   "cell_type": "code",
   "execution_count": 8,
   "metadata": {},
   "outputs": [
    {
     "name": "stdin",
     "output_type": "stream",
     "text": [
      "Provide a name for your gif:  test\n"
     ]
    },
    {
     "name": "stdout",
     "output_type": "stream",
     "text": [
      "Progress: |██████████████████████████████████████████████████| 100% Complete\n",
      "\n",
      "'test.gif' built succcessfully.\n"
     ]
    }
   ],
   "source": [
    "main()"
   ]
  },
  {
   "cell_type": "code",
   "execution_count": null,
   "metadata": {},
   "outputs": [],
   "source": []
  }
 ],
 "metadata": {
  "kernelspec": {
   "display_name": "Python 3",
   "language": "python",
   "name": "python3"
  },
  "language_info": {
   "codemirror_mode": {
    "name": "ipython",
    "version": 3
   },
   "file_extension": ".py",
   "mimetype": "text/x-python",
   "name": "python",
   "nbconvert_exporter": "python",
   "pygments_lexer": "ipython3",
   "version": "3.7.4"
  }
 },
 "nbformat": 4,
 "nbformat_minor": 4
}
